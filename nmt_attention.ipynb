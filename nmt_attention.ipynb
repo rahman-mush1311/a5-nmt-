{
  "nbformat": 4,
  "nbformat_minor": 0,
  "metadata": {
    "colab": {
      "name": "nmt_attention.ipynb",
      "provenance": []
    },
    "kernelspec": {
      "name": "python3",
      "display_name": "Python 3"
    },
    "language_info": {
      "name": "python"
    },
    "accelerator": "GPU"
  },
  "cells": [
    {
      "cell_type": "code",
      "execution_count": 3,
      "metadata": {
        "colab": {
          "base_uri": "https://localhost:8080/"
        },
        "id": "TdBFku8_3aFh",
        "outputId": "d3e95b0d-726c-455d-eacb-0f52f016f3b0"
      },
      "outputs": [
        {
          "output_type": "stream",
          "name": "stdout",
          "text": [
            "Requirement already satisfied: tensorflow in /usr/local/lib/python3.7/dist-packages (2.8.0)\n",
            "Requirement already satisfied: opt-einsum>=2.3.2 in /usr/local/lib/python3.7/dist-packages (from tensorflow) (3.3.0)\n",
            "Requirement already satisfied: gast>=0.2.1 in /usr/local/lib/python3.7/dist-packages (from tensorflow) (0.5.3)\n",
            "Requirement already satisfied: h5py>=2.9.0 in /usr/local/lib/python3.7/dist-packages (from tensorflow) (3.1.0)\n",
            "Requirement already satisfied: protobuf>=3.9.2 in /usr/local/lib/python3.7/dist-packages (from tensorflow) (3.17.3)\n",
            "Requirement already satisfied: astunparse>=1.6.0 in /usr/local/lib/python3.7/dist-packages (from tensorflow) (1.6.3)\n",
            "Requirement already satisfied: tensorflow-io-gcs-filesystem>=0.23.1 in /usr/local/lib/python3.7/dist-packages (from tensorflow) (0.25.0)\n",
            "Requirement already satisfied: keras<2.9,>=2.8.0rc0 in /usr/local/lib/python3.7/dist-packages (from tensorflow) (2.8.0)\n",
            "Requirement already satisfied: six>=1.12.0 in /usr/local/lib/python3.7/dist-packages (from tensorflow) (1.15.0)\n",
            "Collecting tf-estimator-nightly==2.8.0.dev2021122109\n",
            "  Downloading tf_estimator_nightly-2.8.0.dev2021122109-py2.py3-none-any.whl (462 kB)\n",
            "\u001b[K     |████████████████████████████████| 462 kB 14.1 MB/s \n",
            "\u001b[?25hRequirement already satisfied: google-pasta>=0.1.1 in /usr/local/lib/python3.7/dist-packages (from tensorflow) (0.2.0)\n",
            "Requirement already satisfied: keras-preprocessing>=1.1.1 in /usr/local/lib/python3.7/dist-packages (from tensorflow) (1.1.2)\n",
            "Requirement already satisfied: typing-extensions>=3.6.6 in /usr/local/lib/python3.7/dist-packages (from tensorflow) (4.2.0)\n",
            "Requirement already satisfied: flatbuffers>=1.12 in /usr/local/lib/python3.7/dist-packages (from tensorflow) (2.0)\n",
            "Requirement already satisfied: tensorboard<2.9,>=2.8 in /usr/local/lib/python3.7/dist-packages (from tensorflow) (2.8.0)\n",
            "Requirement already satisfied: termcolor>=1.1.0 in /usr/local/lib/python3.7/dist-packages (from tensorflow) (1.1.0)\n",
            "Requirement already satisfied: setuptools in /usr/local/lib/python3.7/dist-packages (from tensorflow) (57.4.0)\n",
            "Requirement already satisfied: numpy>=1.20 in /usr/local/lib/python3.7/dist-packages (from tensorflow) (1.21.6)\n",
            "Requirement already satisfied: grpcio<2.0,>=1.24.3 in /usr/local/lib/python3.7/dist-packages (from tensorflow) (1.44.0)\n",
            "Requirement already satisfied: libclang>=9.0.1 in /usr/local/lib/python3.7/dist-packages (from tensorflow) (14.0.1)\n",
            "Requirement already satisfied: absl-py>=0.4.0 in /usr/local/lib/python3.7/dist-packages (from tensorflow) (1.0.0)\n",
            "Requirement already satisfied: wrapt>=1.11.0 in /usr/local/lib/python3.7/dist-packages (from tensorflow) (1.14.0)\n",
            "Requirement already satisfied: wheel<1.0,>=0.23.0 in /usr/local/lib/python3.7/dist-packages (from astunparse>=1.6.0->tensorflow) (0.37.1)\n",
            "Requirement already satisfied: cached-property in /usr/local/lib/python3.7/dist-packages (from h5py>=2.9.0->tensorflow) (1.5.2)\n",
            "Requirement already satisfied: markdown>=2.6.8 in /usr/local/lib/python3.7/dist-packages (from tensorboard<2.9,>=2.8->tensorflow) (3.3.6)\n",
            "Requirement already satisfied: google-auth<3,>=1.6.3 in /usr/local/lib/python3.7/dist-packages (from tensorboard<2.9,>=2.8->tensorflow) (1.35.0)\n",
            "Requirement already satisfied: werkzeug>=0.11.15 in /usr/local/lib/python3.7/dist-packages (from tensorboard<2.9,>=2.8->tensorflow) (1.0.1)\n",
            "Requirement already satisfied: requests<3,>=2.21.0 in /usr/local/lib/python3.7/dist-packages (from tensorboard<2.9,>=2.8->tensorflow) (2.23.0)\n",
            "Requirement already satisfied: tensorboard-plugin-wit>=1.6.0 in /usr/local/lib/python3.7/dist-packages (from tensorboard<2.9,>=2.8->tensorflow) (1.8.1)\n",
            "Requirement already satisfied: google-auth-oauthlib<0.5,>=0.4.1 in /usr/local/lib/python3.7/dist-packages (from tensorboard<2.9,>=2.8->tensorflow) (0.4.6)\n",
            "Requirement already satisfied: tensorboard-data-server<0.7.0,>=0.6.0 in /usr/local/lib/python3.7/dist-packages (from tensorboard<2.9,>=2.8->tensorflow) (0.6.1)\n",
            "Requirement already satisfied: cachetools<5.0,>=2.0.0 in /usr/local/lib/python3.7/dist-packages (from google-auth<3,>=1.6.3->tensorboard<2.9,>=2.8->tensorflow) (4.2.4)\n",
            "Requirement already satisfied: rsa<5,>=3.1.4 in /usr/local/lib/python3.7/dist-packages (from google-auth<3,>=1.6.3->tensorboard<2.9,>=2.8->tensorflow) (4.8)\n",
            "Requirement already satisfied: pyasn1-modules>=0.2.1 in /usr/local/lib/python3.7/dist-packages (from google-auth<3,>=1.6.3->tensorboard<2.9,>=2.8->tensorflow) (0.2.8)\n",
            "Requirement already satisfied: requests-oauthlib>=0.7.0 in /usr/local/lib/python3.7/dist-packages (from google-auth-oauthlib<0.5,>=0.4.1->tensorboard<2.9,>=2.8->tensorflow) (1.3.1)\n",
            "Requirement already satisfied: importlib-metadata>=4.4 in /usr/local/lib/python3.7/dist-packages (from markdown>=2.6.8->tensorboard<2.9,>=2.8->tensorflow) (4.11.3)\n",
            "Requirement already satisfied: zipp>=0.5 in /usr/local/lib/python3.7/dist-packages (from importlib-metadata>=4.4->markdown>=2.6.8->tensorboard<2.9,>=2.8->tensorflow) (3.8.0)\n",
            "Requirement already satisfied: pyasn1<0.5.0,>=0.4.6 in /usr/local/lib/python3.7/dist-packages (from pyasn1-modules>=0.2.1->google-auth<3,>=1.6.3->tensorboard<2.9,>=2.8->tensorflow) (0.4.8)\n",
            "Requirement already satisfied: urllib3!=1.25.0,!=1.25.1,<1.26,>=1.21.1 in /usr/local/lib/python3.7/dist-packages (from requests<3,>=2.21.0->tensorboard<2.9,>=2.8->tensorflow) (1.24.3)\n",
            "Requirement already satisfied: certifi>=2017.4.17 in /usr/local/lib/python3.7/dist-packages (from requests<3,>=2.21.0->tensorboard<2.9,>=2.8->tensorflow) (2021.10.8)\n",
            "Requirement already satisfied: chardet<4,>=3.0.2 in /usr/local/lib/python3.7/dist-packages (from requests<3,>=2.21.0->tensorboard<2.9,>=2.8->tensorflow) (3.0.4)\n",
            "Requirement already satisfied: idna<3,>=2.5 in /usr/local/lib/python3.7/dist-packages (from requests<3,>=2.21.0->tensorboard<2.9,>=2.8->tensorflow) (2.10)\n",
            "Requirement already satisfied: oauthlib>=3.0.0 in /usr/local/lib/python3.7/dist-packages (from requests-oauthlib>=0.7.0->google-auth-oauthlib<0.5,>=0.4.1->tensorboard<2.9,>=2.8->tensorflow) (3.2.0)\n",
            "Installing collected packages: tf-estimator-nightly\n",
            "Successfully installed tf-estimator-nightly-2.8.0.dev2021122109\n",
            "Requirement already satisfied: keras in /usr/local/lib/python3.7/dist-packages (2.8.0)\n"
          ]
        }
      ],
      "source": [
        "!pip install tensorflow\n",
        "!pip install keras"
      ]
    },
    {
      "cell_type": "code",
      "source": [
        "!pip install \"tensorflow-text==2.8.*\""
      ],
      "metadata": {
        "colab": {
          "base_uri": "https://localhost:8080/"
        },
        "id": "R3V7vVj15CnT",
        "outputId": "3686c436-74a0-48a2-e3f5-0a6055bf587f"
      },
      "execution_count": 4,
      "outputs": [
        {
          "output_type": "stream",
          "name": "stdout",
          "text": [
            "Collecting tensorflow-text==2.8.*\n",
            "  Downloading tensorflow_text-2.8.2-cp37-cp37m-manylinux_2_12_x86_64.manylinux2010_x86_64.whl (4.9 MB)\n",
            "\u001b[K     |████████████████████████████████| 4.9 MB 20.0 MB/s \n",
            "\u001b[?25hRequirement already satisfied: tensorflow-hub>=0.8.0 in /usr/local/lib/python3.7/dist-packages (from tensorflow-text==2.8.*) (0.12.0)\n",
            "Requirement already satisfied: tensorflow<2.9,>=2.8.0 in /usr/local/lib/python3.7/dist-packages (from tensorflow-text==2.8.*) (2.8.0)\n",
            "Requirement already satisfied: opt-einsum>=2.3.2 in /usr/local/lib/python3.7/dist-packages (from tensorflow<2.9,>=2.8.0->tensorflow-text==2.8.*) (3.3.0)\n",
            "Requirement already satisfied: tensorflow-io-gcs-filesystem>=0.23.1 in /usr/local/lib/python3.7/dist-packages (from tensorflow<2.9,>=2.8.0->tensorflow-text==2.8.*) (0.25.0)\n",
            "Requirement already satisfied: libclang>=9.0.1 in /usr/local/lib/python3.7/dist-packages (from tensorflow<2.9,>=2.8.0->tensorflow-text==2.8.*) (14.0.1)\n",
            "Requirement already satisfied: setuptools in /usr/local/lib/python3.7/dist-packages (from tensorflow<2.9,>=2.8.0->tensorflow-text==2.8.*) (57.4.0)\n",
            "Requirement already satisfied: grpcio<2.0,>=1.24.3 in /usr/local/lib/python3.7/dist-packages (from tensorflow<2.9,>=2.8.0->tensorflow-text==2.8.*) (1.44.0)\n",
            "Requirement already satisfied: numpy>=1.20 in /usr/local/lib/python3.7/dist-packages (from tensorflow<2.9,>=2.8.0->tensorflow-text==2.8.*) (1.21.6)\n",
            "Requirement already satisfied: typing-extensions>=3.6.6 in /usr/local/lib/python3.7/dist-packages (from tensorflow<2.9,>=2.8.0->tensorflow-text==2.8.*) (4.2.0)\n",
            "Requirement already satisfied: keras-preprocessing>=1.1.1 in /usr/local/lib/python3.7/dist-packages (from tensorflow<2.9,>=2.8.0->tensorflow-text==2.8.*) (1.1.2)\n",
            "Requirement already satisfied: tf-estimator-nightly==2.8.0.dev2021122109 in /usr/local/lib/python3.7/dist-packages (from tensorflow<2.9,>=2.8.0->tensorflow-text==2.8.*) (2.8.0.dev2021122109)\n",
            "Requirement already satisfied: wrapt>=1.11.0 in /usr/local/lib/python3.7/dist-packages (from tensorflow<2.9,>=2.8.0->tensorflow-text==2.8.*) (1.14.0)\n",
            "Requirement already satisfied: gast>=0.2.1 in /usr/local/lib/python3.7/dist-packages (from tensorflow<2.9,>=2.8.0->tensorflow-text==2.8.*) (0.5.3)\n",
            "Requirement already satisfied: keras<2.9,>=2.8.0rc0 in /usr/local/lib/python3.7/dist-packages (from tensorflow<2.9,>=2.8.0->tensorflow-text==2.8.*) (2.8.0)\n",
            "Requirement already satisfied: astunparse>=1.6.0 in /usr/local/lib/python3.7/dist-packages (from tensorflow<2.9,>=2.8.0->tensorflow-text==2.8.*) (1.6.3)\n",
            "Requirement already satisfied: flatbuffers>=1.12 in /usr/local/lib/python3.7/dist-packages (from tensorflow<2.9,>=2.8.0->tensorflow-text==2.8.*) (2.0)\n",
            "Requirement already satisfied: absl-py>=0.4.0 in /usr/local/lib/python3.7/dist-packages (from tensorflow<2.9,>=2.8.0->tensorflow-text==2.8.*) (1.0.0)\n",
            "Requirement already satisfied: h5py>=2.9.0 in /usr/local/lib/python3.7/dist-packages (from tensorflow<2.9,>=2.8.0->tensorflow-text==2.8.*) (3.1.0)\n",
            "Requirement already satisfied: six>=1.12.0 in /usr/local/lib/python3.7/dist-packages (from tensorflow<2.9,>=2.8.0->tensorflow-text==2.8.*) (1.15.0)\n",
            "Requirement already satisfied: termcolor>=1.1.0 in /usr/local/lib/python3.7/dist-packages (from tensorflow<2.9,>=2.8.0->tensorflow-text==2.8.*) (1.1.0)\n",
            "Requirement already satisfied: protobuf>=3.9.2 in /usr/local/lib/python3.7/dist-packages (from tensorflow<2.9,>=2.8.0->tensorflow-text==2.8.*) (3.17.3)\n",
            "Requirement already satisfied: tensorboard<2.9,>=2.8 in /usr/local/lib/python3.7/dist-packages (from tensorflow<2.9,>=2.8.0->tensorflow-text==2.8.*) (2.8.0)\n",
            "Requirement already satisfied: google-pasta>=0.1.1 in /usr/local/lib/python3.7/dist-packages (from tensorflow<2.9,>=2.8.0->tensorflow-text==2.8.*) (0.2.0)\n",
            "Requirement already satisfied: wheel<1.0,>=0.23.0 in /usr/local/lib/python3.7/dist-packages (from astunparse>=1.6.0->tensorflow<2.9,>=2.8.0->tensorflow-text==2.8.*) (0.37.1)\n",
            "Requirement already satisfied: cached-property in /usr/local/lib/python3.7/dist-packages (from h5py>=2.9.0->tensorflow<2.9,>=2.8.0->tensorflow-text==2.8.*) (1.5.2)\n",
            "Requirement already satisfied: werkzeug>=0.11.15 in /usr/local/lib/python3.7/dist-packages (from tensorboard<2.9,>=2.8->tensorflow<2.9,>=2.8.0->tensorflow-text==2.8.*) (1.0.1)\n",
            "Requirement already satisfied: markdown>=2.6.8 in /usr/local/lib/python3.7/dist-packages (from tensorboard<2.9,>=2.8->tensorflow<2.9,>=2.8.0->tensorflow-text==2.8.*) (3.3.6)\n",
            "Requirement already satisfied: google-auth-oauthlib<0.5,>=0.4.1 in /usr/local/lib/python3.7/dist-packages (from tensorboard<2.9,>=2.8->tensorflow<2.9,>=2.8.0->tensorflow-text==2.8.*) (0.4.6)\n",
            "Requirement already satisfied: tensorboard-plugin-wit>=1.6.0 in /usr/local/lib/python3.7/dist-packages (from tensorboard<2.9,>=2.8->tensorflow<2.9,>=2.8.0->tensorflow-text==2.8.*) (1.8.1)\n",
            "Requirement already satisfied: google-auth<3,>=1.6.3 in /usr/local/lib/python3.7/dist-packages (from tensorboard<2.9,>=2.8->tensorflow<2.9,>=2.8.0->tensorflow-text==2.8.*) (1.35.0)\n",
            "Requirement already satisfied: tensorboard-data-server<0.7.0,>=0.6.0 in /usr/local/lib/python3.7/dist-packages (from tensorboard<2.9,>=2.8->tensorflow<2.9,>=2.8.0->tensorflow-text==2.8.*) (0.6.1)\n",
            "Requirement already satisfied: requests<3,>=2.21.0 in /usr/local/lib/python3.7/dist-packages (from tensorboard<2.9,>=2.8->tensorflow<2.9,>=2.8.0->tensorflow-text==2.8.*) (2.23.0)\n",
            "Requirement already satisfied: rsa<5,>=3.1.4 in /usr/local/lib/python3.7/dist-packages (from google-auth<3,>=1.6.3->tensorboard<2.9,>=2.8->tensorflow<2.9,>=2.8.0->tensorflow-text==2.8.*) (4.8)\n",
            "Requirement already satisfied: pyasn1-modules>=0.2.1 in /usr/local/lib/python3.7/dist-packages (from google-auth<3,>=1.6.3->tensorboard<2.9,>=2.8->tensorflow<2.9,>=2.8.0->tensorflow-text==2.8.*) (0.2.8)\n",
            "Requirement already satisfied: cachetools<5.0,>=2.0.0 in /usr/local/lib/python3.7/dist-packages (from google-auth<3,>=1.6.3->tensorboard<2.9,>=2.8->tensorflow<2.9,>=2.8.0->tensorflow-text==2.8.*) (4.2.4)\n",
            "Requirement already satisfied: requests-oauthlib>=0.7.0 in /usr/local/lib/python3.7/dist-packages (from google-auth-oauthlib<0.5,>=0.4.1->tensorboard<2.9,>=2.8->tensorflow<2.9,>=2.8.0->tensorflow-text==2.8.*) (1.3.1)\n",
            "Requirement already satisfied: importlib-metadata>=4.4 in /usr/local/lib/python3.7/dist-packages (from markdown>=2.6.8->tensorboard<2.9,>=2.8->tensorflow<2.9,>=2.8.0->tensorflow-text==2.8.*) (4.11.3)\n",
            "Requirement already satisfied: zipp>=0.5 in /usr/local/lib/python3.7/dist-packages (from importlib-metadata>=4.4->markdown>=2.6.8->tensorboard<2.9,>=2.8->tensorflow<2.9,>=2.8.0->tensorflow-text==2.8.*) (3.8.0)\n",
            "Requirement already satisfied: pyasn1<0.5.0,>=0.4.6 in /usr/local/lib/python3.7/dist-packages (from pyasn1-modules>=0.2.1->google-auth<3,>=1.6.3->tensorboard<2.9,>=2.8->tensorflow<2.9,>=2.8.0->tensorflow-text==2.8.*) (0.4.8)\n",
            "Requirement already satisfied: idna<3,>=2.5 in /usr/local/lib/python3.7/dist-packages (from requests<3,>=2.21.0->tensorboard<2.9,>=2.8->tensorflow<2.9,>=2.8.0->tensorflow-text==2.8.*) (2.10)\n",
            "Requirement already satisfied: chardet<4,>=3.0.2 in /usr/local/lib/python3.7/dist-packages (from requests<3,>=2.21.0->tensorboard<2.9,>=2.8->tensorflow<2.9,>=2.8.0->tensorflow-text==2.8.*) (3.0.4)\n",
            "Requirement already satisfied: certifi>=2017.4.17 in /usr/local/lib/python3.7/dist-packages (from requests<3,>=2.21.0->tensorboard<2.9,>=2.8->tensorflow<2.9,>=2.8.0->tensorflow-text==2.8.*) (2021.10.8)\n",
            "Requirement already satisfied: urllib3!=1.25.0,!=1.25.1,<1.26,>=1.21.1 in /usr/local/lib/python3.7/dist-packages (from requests<3,>=2.21.0->tensorboard<2.9,>=2.8->tensorflow<2.9,>=2.8.0->tensorflow-text==2.8.*) (1.24.3)\n",
            "Requirement already satisfied: oauthlib>=3.0.0 in /usr/local/lib/python3.7/dist-packages (from requests-oauthlib>=0.7.0->google-auth-oauthlib<0.5,>=0.4.1->tensorboard<2.9,>=2.8->tensorflow<2.9,>=2.8.0->tensorflow-text==2.8.*) (3.2.0)\n",
            "Installing collected packages: tensorflow-text\n",
            "Successfully installed tensorflow-text-2.8.2\n"
          ]
        }
      ]
    },
    {
      "cell_type": "code",
      "source": [
        "import collections\n",
        "import helper\n",
        "import numpy as np\n",
        "import tensorflow as tf\n",
        "import tensorflow_text as tf_text\n",
        "import re\n",
        "import typing\n",
        "from typing import Any, Tuple\n",
        "\n",
        "from numpy import array\n",
        "from keras.utils.np_utils import to_categorical\n",
        "from keras.utils.vis_utils import plot_model\n",
        "from keras.models import Sequential\n",
        "from keras.layers import LSTM\n",
        "from keras.layers import Dense\n",
        "from keras.layers import Embedding\n",
        "from keras.layers import RepeatVector\n",
        "from keras.layers import TimeDistributed\n",
        "from keras.callbacks import ModelCheckpoint\n",
        "from numpy import argmax\n",
        "from keras.models import load_model\n",
        "from keras.layers import Dropout\n",
        " \n",
        "from keras.optimizers import gradient_descent_v2\n",
        "from keras.preprocessing.text import Tokenizer\n",
        "from keras.preprocessing.sequence import pad_sequences\n",
        "from keras.models import Model\n",
        "from keras.layers import GRU, Input, Dense, TimeDistributed, Activation, RepeatVector, Bidirectional\n",
        "from keras.layers.embeddings import Embedding\n",
        "from keras.losses import sparse_categorical_crossentropy\n",
        "\n",
        "import matplotlib.pyplot as plt\n",
        "import matplotlib.ticker as ticker"
      ],
      "metadata": {
        "id": "kjxjMazG4upi"
      },
      "execution_count": 5,
      "outputs": []
    },
    {
      "cell_type": "code",
      "source": [
        "#@title Shape checker\n",
        "class ShapeChecker():\n",
        "  def __init__(self):\n",
        "    # Keep a cache of every axis-name seen\n",
        "    self.shapes = {}\n",
        "\n",
        "  def __call__(self, tensor, names, broadcast=False):\n",
        "    if not tf.executing_eagerly():\n",
        "      return\n",
        "\n",
        "    if isinstance(names, str):\n",
        "      names = (names,)\n",
        "\n",
        "    shape = tf.shape(tensor)\n",
        "    rank = tf.rank(tensor)\n",
        "\n",
        "    if rank != len(names):\n",
        "      raise ValueError(f'Rank mismatch:\\n'\n",
        "                       f'    found {rank}: {shape.numpy()}\\n'\n",
        "                       f'    expected {len(names)}: {names}\\n')\n",
        "\n",
        "    for i, name in enumerate(names):\n",
        "      if isinstance(name, int):\n",
        "        old_dim = name\n",
        "      else:\n",
        "        old_dim = self.shapes.get(name, None)\n",
        "      new_dim = shape[i]\n",
        "\n",
        "      if (broadcast and new_dim == 1):\n",
        "        continue\n",
        "\n",
        "      if old_dim is None:\n",
        "        # If the axis name is new, add its length to the cache.\n",
        "        self.shapes[name] = new_dim\n",
        "        continue\n",
        "\n",
        "      if new_dim != old_dim:\n",
        "        raise ValueError(f\"Shape mismatch for dimension: '{name}'\\n\"\n",
        "                         f\"    found: {new_dim}\\n\"\n",
        "                         f\"    expected: {old_dim}\\n\")"
      ],
      "metadata": {
        "id": "LHACenLY5Lxy"
      },
      "execution_count": 6,
      "outputs": []
    },
    {
      "cell_type": "code",
      "source": [
        "# def load_data(path):\n",
        "#   source_file = \"/content/sentencesTrain.txt\"\n",
        "#   target_file = \"/content/tokensTrain.txt\"\n",
        "\n",
        "#   text_pairs_source = []\n",
        "#   text_pairs_target = []\n",
        "\n",
        "#   with open(source_file,encoding=\"unicode_escape\") as file1, open(target_file,encoding=\"unicode_escape\") as file2:\n",
        "#       for line1, line2 in zip(file1, file2):\n",
        "#           line1 = line1.replace(\"\\n\", \" \")\n",
        "#           line1 = line1.strip()\n",
        "          \n",
        "#           line2 = line2.replace(\",\", \" \")\n",
        "#           line2 = line2.replace(\"\\n\", \" \")\n",
        "#           line2 = line2.strip()\n",
        "#           text_pairs_source.append(line1)\n",
        "#           text_pairs_target.append(line2)\n",
        "#           print(line2)\n",
        "#   return text_pairs_target,text_pairs_source"
      ],
      "metadata": {
        "id": "VsBeWHt95UBi"
      },
      "execution_count": 18,
      "outputs": []
    },
    {
      "cell_type": "code",
      "source": [
        "def load_data(path):\n",
        "  source_file = \"/content/sentencesTrain.txt\"\n",
        "  target_file = \"/content/tokensTrain.txt\"\n",
        "\n",
        "  text_pairs_source = []\n",
        "  text_pairs_target = []\n",
        "\n",
        "  file1 = open('/content/sentencesTrain.txt', 'r',encoding='cp1252')\n",
        "  Lines = file1.readlines()\n",
        "  for line in Lines:\n",
        "    #count += 1\n",
        "    line1 = line.strip() \n",
        "    text_pairs_source.append(line1) \n",
        "  #file1.close()\n",
        "\n",
        "  file2 = open('/content/tokensTrain.txt', 'r',encoding='cp1252')\n",
        "  Lines = file2.readlines()\n",
        "  for line in Lines:\n",
        "    #count += 1\n",
        "    line1 = line.strip() \n",
        "    text_pairs_target.append(line1) \n",
        "  #file2.close()\n",
        "  return  text_pairs_target,text_pairs_source"
      ],
      "metadata": {
        "id": "YKsE_tkts7C2"
      },
      "execution_count": 22,
      "outputs": []
    },
    {
      "cell_type": "code",
      "source": [
        "target, inp = load_data(\"\")"
      ],
      "metadata": {
        "id": "6lmm63336Ie2"
      },
      "execution_count": 23,
      "outputs": []
    },
    {
      "cell_type": "code",
      "source": [
        "print(target)"
      ],
      "metadata": {
        "colab": {
          "base_uri": "https://localhost:8080/"
        },
        "id": "SQRiaCR36vpL",
        "outputId": "9c6a40dc-3dc5-43ce-a47a-35c8436415c0"
      },
      "execution_count": 24,
      "outputs": [
        {
          "output_type": "stream",
          "name": "stdout",
          "text": [
            "['(P)PARTY,START,WHICH,TIME,EIGHT,TIME,NINE,(P)PARTY,START,WHICH,TIME', '(G/Q)POSS-1p,SISTER,(2h)IX-3p:i,tube skipping on water,IX-1p,GO-BY-BOAT,IX-1p,LOOK,MAKE,REALLY,person flips off,IX-1p,STOP,SISTER,(2h)IX-3p:i,tube skipping on water,GO-BY-BOAT,MAKE,STOP', 'MOTHER,IX-loc:i,#IF+,(1h)HAVE,TIME+,IX-3p:i,FUTURE,BRING,COOKIE,TIME+,BRING,COOKIE', '#NO+,IX-1p,NOT,OLD,ENOUGH,TO/UNTIL,VOTE,THAT,TIME,part:indef,ENOUGH,TO/UNTIL,VOTE,TIME,part:indef', 'FRIEND,WANT_2,BUY,PLAID,(2h)SHIRT,FRIEND,WANT_2,BUY,(2h)SHIRT', '#IF,TOMORROW,SNOW,GUARANTEE,SCHOOL,FUTURE,CLOSE-DOOR,SNOW,GUARANTEE,SCHOOL,CLOSE-DOOR', 'IX-1p,RECENT-PAST,DRINK,TASTE,FINE++,(1h)part:indef', '#IF,MOTHERwg,IX-3p:i,NOT,person walking,SELL,IX-1p-pl-arc,REFUSE,(1h)HAVE,MILK,part:indef,SELL,(1h)part:indef,part:indef', 'FINEwg,MOTHERwg,FUTURE,GIVE-1p,TWENTY,DOLLAR,#IF,IX-1p,NICE/CLEAN,(K)KITCHEN,DOLLAR,NICE/CLEAN,(K)KITCHEN', 'TEACH+AGENT,IX-loc:i,IX-3p-pl-arc,HEAR/LISTEN,IX-3p:i,WHO,TEACH,AGENT,BUOY,IX-3p:j', 'IX-1p,RECENT-PAST,READ+,BOOK,IX-1p,READ+,BOOK', 'EXPRESS,THROUGH_2,(2h)TALKwg,MINOR,EXPRESS,SIGN,CURRENT-TOPIC,ROAD,EXPRESS,THROUGH_2,(2h)TALKwg,MINOR,EXPRESS,SIGN,CURRENT-TOPIC,ROAD', \"IX-1p,LIKE,MAYBE,(2h)THING,(2h)ANY+(2h)THING,I don't know,MAYBE,(2h)THING,(2h)ANY,(2h)THING,I don't know\", 'wave no,NOW,THURSDAY+,MEAN,TOMORROW,FRIDAY+,NOW,MEAN', 'FRIEND,GROUP/TOGETHER,DRIVE,WHERE,FRIEND,GROUP/TOGETHER,DRIVE', 'FRIEND,NOW,IX-3p:i,PLAY,VIDEO-GAME,FRIEND,NOW,PLAY,VIDEO-GAME', 'POSS-1p,SISTER,WANT,FOR,POSS-3p:i,BIRTHDAY,(1h)DO-DO,(1h)part:indef,SISTER,WANT', 'FRIEND,FINISH,EXPERIENCE+,TRIP,QMwg,FRIEND,FINISH', 'fs-BOB,IX-loc:i,NOT-YET,SEND,LETTER/MAIL,SEND,LETTER/MAIL', '#IF,IX-3p:i,FAMILY,DECIDE,VACATION,EVERY-YEAR,IX-3p:i,FUTURE,EVERY-YEAR,DEPART+,ns-#PR,FAMILY,DECIDE,VACATION,EVERY-YEAR', 'fs-NETFLIX,RECENT-PAST,SEND,IX-1p,recieve DVD,fs-DVD,DVD,(1h)SCRAPE,(1h)part:indef,SEND,recieve DVD,DVD', 'IX-3p-pl-2:i/j,fs-JACK,fs-SUE,MEET,PAST+,FINISH,QMwg,MEET,FINISH', 'GAME,FINISH,BEFORE_2,TIME,SIX,part:indef,WHICH,GAME,FINISH,BEFORE_2,TIME,part:indef,WHICH', 'IX-2p,LEAVE,NOT-MIND+,CLOSE-GATE,LEAVE,CLOSE-GATE', 'IX-3p:i,NOT,FINISH,(25)WHY,IX-3p:i,REST+++,FINISH,REST+++', 'DRESS/CLOTHES,IX-loc:i,#SALE,IX-1p,FRIEND,GROUP/TOGETHER,group go together,#MALL,DRESS/CLOTHES,FRIEND,GROUP/TOGETHER,group go together', 'IX-1p,NOT,SEE,(5)ACCIDENT,part:indef,IX-1p,SLEEP,part:indef,(5)ACCIDENT,part:indef', 'PLAN,SURPRISE,fs-BOB,WHO,PLAN,SURPRISE', 'TOMORROW,RAIN++,MEAN,ARRIVE,UNCLE,HOUSE,STAY,IN+,RAIN++,MEAN,ARRIVE,HOUSE,STAY,IN+', 'RAIN++,(1h)WOW/AWFUL,RAIN++', '#WHEN,FATHERwg,IX-loc:i,ARRIVE,HOME,fs-LATE,MOTHER,IX-loc:i,REFUSE,MAKE,DINNER+,ARRIVE,MAKE', '#WHEN,POSS-1p,SISTER,IX-3p:i,WATER+TUBING,IX-loc:i,IX-1p-pl-arc,MUST,MAKE,REALLY,(2h)LOOK-FORWARD,NOT,person sliding off tube,SISTER,TUBING,MAKE,(2h)LOOK-FORWARD,person sliding off tube', 'IX-1p,(2h)LOOK,MOVIE,PAST+NIGHT,ACT+AGENT,(1h)GOOD/THANK-YOU,(2h)LOOK,MOVIE,NIGHT,ACT,AGENT', 'MOTHER,SICK,HOW,part:indef,SICK,HOW,part:indef', \"FRIEND,',GO-OUT,fs-BEACH,(2h)NOT-YET,FRIEND,',(2h)NOT-YET\", 'MOTHER,IX-3p:i,SICK,NOW,NOT,SICK,NOW', 'POSS-1p,MOTHER+,IX-loc:i,KISS-FIST,GLASSES_2,WHY+,FACE,fs-BAD,NEAT,GLASSES_2', '#NO+,IX-3p:i,many games,#ALL,GAME,(1h)part:indef,LOSE-COMPETITION,many games,GAME', 'WANT_2,#BQQ,(P)PARTY,FOR,(1h)part:indef,WANT_2,(P)PARTY', 'IX-2p,BUY,CAR,WHERE,BUY,CAR', 'THAT,IDEA,SET-UP,REALLY,BELOW_2,DIFFERENT-arc,CULTURE,HAVE,DIFFERENT-arc,ALLOW,INTERPRET,#OR,GIFT,MEAN,TO/UNTIL,DIFFERENT-arc,fs-SENSORY,EXPERIENCE,you know,SET-UP,BELOW_2,DIFFERENT-arc,CULTURE,HAVE,DIFFERENT-arc,ALLOW,INTERPRET,GIFT,MEAN,TO/UNTIL,DIFFERENT-arc,you know', 'fs-LOTTERY,IX-loc:i,SOMETHING/ONE,WIN,QMwg,WIN', 'PEOPLE,IX-1p,1p-MEET+++:i/j/k/l,PAST+NIGHT,WOW,(L-X)INTERESTING,PEOPLE,1p-MEET+++:i/j/k/l,NIGHT,(L-X)INTERESTING', 'IX-1p,PROCEED,START,FILL-OUT,FRIEND,(2h)alt.INVITE/HIRE,FOR,#BBQ,GROUP/TOGETHER,IX-1p,MAKE,REALLY,LIST,#ALL,CORRECT,PROCEED,START,FILL-OUT,FRIEND,(2h)alt.INVITE/HIRE,GROUP/TOGETHER,MAKE,LIST,CORRECT', 'POSS-2p,FRIEND,ADDICTED,LAPTOP,TYPE,INTERNET,WHY+,part:indef,FRIEND,LAPTOP,TYPE,INTERNET,part:indef', 'IX-loc:i,START,opening can,#NO+,wave no,NOT,IX-1p,START,opening can', '#IF,IX-1p,LOOK,FRIEND,IX-loc:i,FINISH,HOMEWORK,EMPTY/EARLY,(1h)TEND,SURF-INTERNET,INTERNET,ALL-NIGHT,FRIEND,FINISH,HOMEWORK,EMPTY/EARLY,INTERNET,ALL-NIGHT', 'BELOW_2,ON,THAT,ANALYZE_3,FROM,(1)GENERATIONS-AGO+,IDEA,SUGGEST,fs-EDWARD,fs-HALL,BELOW_2,ON,ANALYZE_3,FROM,(1)GENERATIONS-AGO+,SUGGEST', 'GO-OUT+,NOT,SNOW,SCHOOL,NORMAL,OPEN,STAY++,SNOW,SCHOOL,NORMAL,OPEN,STAY++', 'POSS-1p,FRIEND,IX-3p:i,person passed out,PAST+NIGHT,(25)WHY,(2h)(Y)DRINK,PARTY-HARD,IX-3p:i,FRIEND,person passed out,NIGHT,(2h)(Y)DRINK,PARTY-HARD', 'FRIEND,LOVE,SURF-INTERNET,REALLY+WORK+,QMwg,FRIEND,LOVE,WORK+', 'IX-1p,KISS-FIST,APPLE,DURING/WHILE,AUTUMN,DURING/WHILE,AUTUMN', 'PICK-1p,GROUP,#CLUB,JOIN,(2h)WOW,HONOR,GROUP,JOIN,(2h)WOW,HONOR', 'IX-1p,WARM,wave no,IX-1p,HOT', 'fs-JOHN,READ,BOOK,wave no,IX-3p:i,fs-JOHN,NEVER,START,BOOK,READ,BOOK,START,BOOK', '#IF,IX-1p,ARRIVE,WORK,fs-LATE,WOW+,BOSS,FUTURE,STOP,FIRED,IX-1p,WOW,ARRIVE,WORK,STOP,FIRED', '(1h)INFORM-2p,IX-3p:i,CAR,BREAK-DOWN,IX-1p,USE_2,CORRECT,KEY_2,CAR,BREAK-DOWN,USE_2,CORRECT', 'IX-1p,(1h)part:indef,NOT,EXPERT,MEMORIZE,PEOPLE,NAME,MEET-3p-pl-arc,MEMORIZE,NAME,(1h)DO-DO,IX-1p,NOT,IX-1p,PEOPLE,NAME,MEET-3p-pl-arc,(1h)part:indef,NAME', '#WHEN,FATHER,IX-loc:i,ARRIVE,HOME,fs-LATE,IX-1p-pl-arc,(1h)TEND,EAT,PIZZA_4,ARRIVE', 'DRESS/CLOTHES,IX-3p:i,#SALE,WHERE,DRESS/CLOTHES', '#IF+,(fanned-flat-O)POSS-1p,FRIEND,DRIVE,IX-1p,(1h)SIT,BACK,SLEEP,FRIEND,DRIVE', 'IX-1p,WASHING-MACHINE+,NONE/NOTHING_2,part:indef,WASHING-MACHINE+,NONE/NOTHING_2,part:indef', '#IF++,fs-JACK,IX-loc:i,GET,CAT+,FUTURE,KEEP++++,GET,KEEP++++', 'GAME,FINISH,BEFORE_2,TIME,SIX,part:indef,WHICH,GAME,FINISH,BEFORE_2,TIME,part:indef,WHICH', '#IF,FATHERwg,IX-loc:i,ARRIVE,HOME,fs-LATE,IX-3p:i,CANNOT,HELP-1p,IX-1p,WITH,POSS-1p-pl-arc,HOMEWORK,(1h)part:indef,ARRIVE,CANNOT,HELP-1p,WITH,HOMEWORK', 'NOW,IX-1p,STUDY,GO-OUT,SCHOOL+,NOW,STUDY,SCHOOL+', 'WHO,WANT_2,PLAY,FRISBEE,part:indef,WANT_2,PLAY,part:indef', 'TIME+,FRIEND,IX-3p:i,(5)CRASH,(P)PARTY,TIME+,(1h)part:indef,TIME+,FRIEND,(5)CRASH,(P)PARTY,TIME+', '#WHEN,POSS-1p,FAMILY,REALLY+WORK,TAKE-UP,fs-PUPPIES,IX-1p,FUTURE,ZOOM,PET/SPOILED+,SELL,(25)WHY,IX-1p,BUY,COLLAR,COLOR,fs-COLLARS,DIFFERENT-arc,COLOR,FAMILY,WORK,TAKE-UP,ZOOM,PET/SPOILED+,SELL,BUY,COLLAR,DIFFERENT-arc', 'FRIEND,IX-loc:i,MUST,DRIVE,WHY,IX-1p,TIRED,IX-1p,FRIEND,DRIVE,TIRED', 'fs-JACK,IX-loc:i,HAVE,MONEY,HAVE,MONEY', 'WHO,(1)SEND,LETTER/MAIL_2,(1h)part:indef,LETTER/MAIL_2', 'BUY,CAR,WHO,part:indef,BUY,CAR,part:indef', '#IF,IX-1p,GO-OUT,fs-PUBLIC,SCHOOL+,GUARANTEE,IX-1p,look around and around,(25)WHY,NONE/NOTHING,COMMUNICATE+,SCHOOL+,GUARANTEE,look around and around,NONE/NOTHING,COMMUNICATE+', '#IF,IX-3p:i,STUDENT,IX-loc:i,WIN,TROPHY,GET,ONE+HUNDRED,DOLLAR_2,PAPER-CHECK/CARD,STUDENT,WIN,TROPHY,GET,DOLLAR_2,PAPER-CHECK/CARD', '#WHEN,IX-1p,MAKE,LIST,FOR,#BQQ,(P)PARTY,IX-1p,MUST,MAKE,REALLY,IX-1p,(2h)INVITE/HIRE,ALL,POSS-1p,FRIEND,MAKE,LIST,(P)PARTY,MAKE,(2h)INVITE/HIRE,ALL,FRIEND', 'fs-BRIDE,AND,fs-GROOM,END,WEDDING,(25)WHY,(1h)part:indef,END,WEDDING', 'MUST,MOVE-AWAY,ns-#SD,WHY,(1h)part:indef,MOVE-AWAY', '#IF,hesitation,IX-3p:i,STUDENT,PROCEED,HEAR/LISTEN,TEACH+AGENT,LOOK-UP,FUTURE,LEARN,SOMETHING/ONE,STUDENT,PROCEED,TEACH,AGENT,LEARN', 'HORSE,IX-loc:i,VOMIT/HATE,RAIN+,PLAY,GO-OUT,horses running,NOT,LIKE,VOMIT/HATE,RAIN+,PLAY,horses running', 'BACK-OF-MIND,AUTOMATIC,(1h)part:indef,AUTOMATIC', 'ALCOHOL+,SELF-3p:i+,NOT,ALWAYS,(1h)GOOD/THANK-YOU,part:indef,ALCOHOL+,BUOY,part:indef', 'IX-2p,(1h)TEND,CHAT,WITH,IX-3p-pl-2:i/j,WHY,(1h)part:indef,CHAT,WITH', '#IF,fs-OBAMA,CHOOSE,REPUBLICAN,IX-3p:i,fs-OBAMA,FUTURE,SORRY,IX-3p:i,CHOOSE', '#IF,POSS-1p,FRIEND,IX-3p:i,(1h)(flat-O)PAY/SPEND,PLAID,(2h)SHIRT,IX-1p,MUST,MAKE,REALLY,OPPOSITE,IX-1p,(4)STRIPES,FRIEND,(2h)SHIRT,MAKE,OPPOSITE', 'MUST,(P)PAY,fs-RENT,WHO,(P)PAY', 'fs-BILL,IX-loc:i,MOVE,ns-NEW-YORK,FUTURE,MOVE,ns-NEW-YORK', 'IX-1p,NOT-YET,(P)PAY,EVERY-MONTH/RENT++,(P)PAY,EVERY-MONTH/RENT++', '#IF,FATHER,IX-loc:i,ARRIVE,HOME,fs-LATE,IX-3p:j,MOTHERwg,GUARANTEE,BAWL-OUT+,(25)WHY,CHILDREN,WANT_2,SEE,FATHER,IX-3p:i,ARRIVE,GUARANTEE,BAWL-OUT+,CHILDREN,WANT_2', '#IF,IX-3p-pl-2:i/j,fs-BRIDE,AND,fs-GROOM,IX-3p-pl-2:i/j,DANCE,LAST,WEDDING,PEOPLE,MUST,people gathering in a circle,QUIET,(2h)LOOK-FORWARD,BUOY_2,DANCE,LAST,WEDDING,PEOPLE,people gathering in a circle,QUIET,(2h)LOOK-FORWARD', 'WHO,KISS-FIST,LOOK,FIREWORKS', 'fs-BOB,IX-loc:i,(1h)VOMIT/HATE,READ,BOOK+,READ,BOOK+', '#IF+,POSS-1p,FRIEND,MAKE-IT,SURPRISE,fs-BOB,IX-1p,tip hat,WHY+,fs-BOB,IX-3p:i,REALLY,IMPOSSIBLE,SURPRISE,IX-3p:i,FRIEND,MAKE-IT,SURPRISE,IMPOSSIBLE,SURPRISE', 'SURPRISE,(P)PARTY,TIME,START,#WHEN,part:indef,SURPRISE,(P)PARTY,TIME,START,part:indef', '#IF,RAIN+,(Y)YESTERDAY,whoa,REALLY,#GO,(nd-1)MOVIE,RAIN+,(nd-1)MOVIE', 'IX-2p,WORK,WHERE,WORK', '#NO++,POSS-1p,ROOMMATE,NOT,(1h)GRAB,RECENT-PAST,HAVE,EAT+MORNING,WITH,IX-3p:i,part:indef,ROOMMATE,MORNING,WITH,part:indef', 'IX-1p,WANT+NEG,BUY,SHORTS,WANT,NEG,BUY,SHORTS', 'FATHER,LAZY++,MOW,GRASS,REFUSE,IX-3p:i,MOW', 'KISS-FIST,LOOK-UP,STAR+BOMB++,WHO,part:indef,STAR,BOMB++,(1h)part:indef,part:indef', 'IX-1p,THINK,(Y)WOW,BORE,IX-1p', '(1h)TEND,IX-1p,GO,UNCLE,HOUSE,IX-3p:i,UNCLE,ALWAYS,(1h)STAY,IN+,IX-3p:j,GO,HOUSE,IN+', 'IX-1p,GO,SCHOOL++,GO,SCHOOL++', 'IX-2p,FINISH,(L)LIVE,THROUGH,COLD,IN,ns-BOSTON,wow,SNOW+,A-LOT,(1h)part:indef,FINISH,(L)LIVE,THROUGH,COLD,IN,SNOW+,A-LOT', 'IX-1p,NOW,READ+,BOOK,NOW,READ+,BOOK', 'KNOW+,FUTURE,RAIN,TOMORROW,RAIN', 'IX-2p,NOT,PASS-OUT_2,IX-2p,DRUNK,NOT,IX-2p', 'IX-1p,FINISH,DECIDE,fs-MARY,NOT,INVITE/HIRE,GO-OUT,#BQQ,(P)PARTY,(25)WHY,IX-3p:i,NOT,HAPPEN,(5)SOCIAL/INTERACT,FINISH,DECIDE,(P)PARTY,HAPPEN,(5)SOCIAL/INTERACT', 'ATTENTION-WAVE,#IF,ATTENTION-WAVE,fs-BOB,IX-3p:i,STUDY,fs-LIT,BOOK,IX-3p:i,FUTURE,PASS,LAST,fs-EXAM,ATTENTION-WAVE,STUDY,BOOK,PASS,LAST', 'IX-1p,MUST,REQUEST,DIRECT/EXPLAIN,(25)WHY,IX-1p,KNOW-NOTHING,WHERE,GO-OUT,IX-1p,REQUEST,DIRECT/EXPLAIN', '(1h)part:indef,IX-1p,LIKE,IX-3p:i,#IF,IX-3p:i,(1h)HAVE,BUTTER,IN+,oh well,FINE,IX-1p,part:indef,BUTTER,IN+,oh well,part:indef', 'VEGETABLE,#IF++,fs-JOHN,(2h)alt.EAT+,fs-SPINACH,BECOME,SICK,(2h)alt.EAT+,BECOME,SICK', \"what's going on?,NONE/NOTHING,BOOK-pl,TABLE,IX-honorific:i,(1h)NONE/NOTHING,(1h)part:indef,NONE/NOTHING,BOOK-pl,TABLE\", '(P)PARTY,START,WHICH,TIME,EIGHT,TIME,NINE,(P)PARTY,START,WHICH,TIME', 'NOT,HAVE,TIME,TOMORROW,not a big deal,wash car,CAR,MONDAY,HAVE,TIME,not a big deal,wash car,CAR', 'AUNT,EXPERT,MAKE,(1h)DO-DO,MAKE', 'WHO,IX-3p-pl-arc,FIND/FIND-OUT,IX-1p,KEY,(1h)part:indef,KEY', '(P)PARTY_2,NIGHT,START,EIGHT,NINE,part:indef,(P)PARTY_2,NIGHT,START,part:indef', 'POSS-1p,FAMILY,IX-3p:i,EVERY-YEAR,VACATION+,part:indef,(2h)#NO+MORE,(1h)part:indef,FAMILY,EVERY-YEAR,VACATION+,part:indef,(2h)#NO,MORE', '#NO,IX-1p,VOMIT/HATE++,#IF,IX-1p,EAT,PINEAPPLE,fs-CREAM,CHEESE,wave no,IX-1p,FAVORITE/PREFER+,fs-LOX,VOMIT/HATE++,CHEESE', 'IX-1p,NOT,THINK,IX-3p:i,PLAN,GO,part:indef,IF+,SEE,part:indef,IX-1p,FUTURE,(1h)INFORM,i:CALL-BY-PHONE:j,IX-2p,PLAN,GO,part:indef', '#IF,fs-BOB,IX-loc:i,GO-OUT,#PO,IX-1p,FUTURE,GIVE:i,ALL,POSS-1p,LETTER/MAIL_2,(25)WHY,IX-3p:i,CAN,(1h)DROP,fs-OFF,BUOY,ALL,LETTER/MAIL_2,CAN', '#WHEN,FRIEND,GO-OUT,(P)PARTY,IX-1p,GRAB-CHANCE,1p-INFORM:i,ROOMMATE+,IX-1p,JOIN,FRIEND,(P)PARTY,GRAB-CHANCE,1p-INFORM:i,ROOMMATE+,JOIN', 'IX-3p:i,BUY,CAR,WHAT,KIND,BUY,CAR,WHAT,KIND', 'POSS-1p,FRIEND,WANT,PLAID,(2h)SHIRT,(25)WHY,IX-3p:i,FUTURE,HAVE,DRESS/CLOTHES,(P)PARTY,GROUP/TOGETHER,DEPART,FRIEND,WANT,(2h)SHIRT,DRESS/CLOTHES,(P)PARTY,GROUP/TOGETHER', 'THAT,TWO,DIFFERENT,(B)NEXT-TOPIC,#ORIENTATION,CURRENT-TOPIC,SET-UP,FROM,WHAT,DIFFERENT,(B)NEXT-TOPIC,CURRENT-TOPIC,SET-UP,FROM,WHAT', 'TEACH+AGENT,IX-3p:i,SICK-OF,NICE/CLEAN,CLASS+BOX/ROOM,IX-3p:i,FORGET-IT,NOT,NICE/CLEAN,NOW+,TEACH,AGENT,NICE/CLEAN,CLASS,BOX/ROOM,NICE/CLEAN,NOW+', 'IX-2p,START,TRIP,#WHEN,(1h)part:indef,START', 'SEND,LETTER/MAIL,WHO,SEND,LETTER/MAIL', 'whoa,#IF+,ORDER,PIZZA_4,HERE,FUTURE,DELICIOUS,whoa,HERE', 'POSS-1p,GIRL,CORRECT,IX-3p:i,WANT+NEG,HEADBAND,FOR,BIRTHDAY,(1h)WANT+NEG,CORRECT,BUOY,WANT,NEG,HEADBAND', '#HS,IX-2p,GO,WHERE,GO', 'FATHER,UPSET,WHY,(1h)part:indef', 'POSS-1p,PAY,IX-1p,INCREASE,LITTLE-BIT,SMALL-AMOUNT,INCREASE,part:indef,PAY,INCREASE,part:indef', 'WHEN,IX-3p:i,FRIEND,LAPTOP,TYPE,INTERNET,hey,IX-1p,REMIND:i,GRAB-CHANCE,HOME+WORK++,WHEN,FRIEND,LAPTOP,TYPE,INTERNET,GRAB-CHANCE,WORK++', 'MAN,WHO,throw out of plane,AIRPLANE,WHO,IX-3p:i,fs-ALEC-BALDWIN,throw out of plane', 'IX-1p,VOLUNTEER/SHIRT,HELP+,OTHER,ORGANIZATION,HELP+,ORGANIZATION', '#WHEN,MOTHER,IX-loc:i,GO-OUT,SELL,IX-1p,FUTURE,REMIND-2p+,MAKE+REALLY,GET,IX-1p-pl-arc,MILK,SELL,MAKE,GET', '#NO+,IX-3p:i,many games,#ALL,GAME,(1h)part:indef,LOSE-COMPETITION,many games,GAME', 'IX-1p,ANALYZE,MATH+,PROBLEM_2,IX-1p,LOOK-OVER,ANALYZE,MATH+,PROBLEM_2', 'FRIEND,GO-OUT,FISHING,FRIEND,FISHING', '#WHEN,IX-1p,FINISH,NICE/CLEAN+,(K)KITCHEN,MOTHER,FUTURE,TAKE,IX-1p,GO-OUT,FRIEND,HOUSE,IX-1p,FINISH,NICE/CLEAN+,(K)KITCHEN,FRIEND,HOUSE', 'IX-3p:i,FEEL,NONE/NOTHING_2,(1h)part:indef,FEEL,(F)NONE/NOTHING_2,(1h)part:indef,NONE/NOTHING_2,(F)NONE/NOTHING_2', 'IX-1p,GO-OUT,SWIM+,fs-BEACH,IX-1p,GUARANTEE,fs-SUN+#BURN,(25)WHY,IX-1p,BLANK-OUT,POSS-1p,applying suncreen,fs-SUNSCREEN,SWIM+,GUARANTEE,applying suncreen', 'exasperation,fs-JOHN,NOT,HERE,part:indef,FUTURE,ANY+ONE,IX-3p-pl-arc,KNOW+,WHERE,IX-3p:i,(1h)part:indef,HERE,part:indef', 'IX-3p:i,(1)GUILTY+,NONE/NOTHING_2+,part:indef,NONE/NOTHING_2+,part:indef', 'KNOW-THAT,SOMETHING/ONE,BUY,CAR,hey,WHO++,BUY,CAR', '(2h)HORSE,(1h)TEND,PLAY-continuative,WHERE,(2h)HORSE,PLAY-continuative', 'VEGETABLE,IX-loc:i,IF+,fs-JOHN,EAT+++,fs-SPINACH,FUTURE,BECOME,DISGUST+,SICK,BECOME,SICK', '#IF,IX-3p:i,fs-BOB,IX-loc:i,SUCCEED,(2h)alt.FIRE+,IX-1p,MUST,STAY,(2h)LOOK,fs-BONFIRE,MAKE+REALLY,CONTINUE,(2h)alt.FIRE++,SUCCEED,(2h)alt.FIRE+,STAY,(2h)LOOK,MAKE,CONTINUE,(2h)alt.FIRE++', '(P)PARTY+,(1h)DO-DO,KIND,(1h)DO-DO,(P)PARTY+,KIND', 'GO-OUT+,NOT,SNOW,SCHOOL,NORMAL,NOT,CANCEL/CRITICIZE,SNOW,SCHOOL,NORMAL,CANCEL/CRITICIZE', 'AND,MORE,COOPERATE/UNITE,HOW,DEAF,PEOPLE,POSS-pl-arc,EXPERIENCE,IN,THAT,WORLD,MORE,COOPERATE/UNITE,HOW,PEOPLE,IN,WORLD', '#WHEN,POSS-1p,FRIEND,START,HAIR_2+DYE,etcetera,GUARANTEE,MANY,PEOPLE,FUTURE,FOLLOW,FRIEND,START,HAIR_2,DYE,etcetera,GUARANTEE,MANY,PEOPLE,FOLLOW', '(1h)WOW/AWFUL,IX-1p,person passed out,PAST+NIGHT,EACH+ONE,(2h)alt.CHEER,WOW,person passed out,NIGHT,EACH,(2h)alt.CHEER', 'INTERNET,IX-2p,SURF-INTERNET,(1h)DO-DO,(1h)part:indef,INTERNET', 'IX-2p,NOT,ORDER,PIZZA_4,part:indef,CAN,ORDER,SPAGHETTI,part:indef,CAN,SPAGHETTI', 'WHO,SEND,LETTER/MAIL,SEND,LETTER/MAIL', 'BOX/ROOM,BIG_2,wave no,NOT,SMALL,wave no,BOX/ROOM,BIG_2,SMALL', '#TV,IX-loc:i,HOW-MANY/MANY+,IX-loc:i,HOW-MANY/MANY+', 'IX-1p,NOTICE,BABY,VOMIT/HATE,STAR,BOMB+,AFRAID,NOTICE,BABY,VOMIT/HATE,STAR,BOMB+,AFRAID', 'fs-JOHN,IX-3p:i,PAY/BUY,TURKEY,NONE/NOTHING_2,PAY/BUY,NONE/NOTHING_2', 'FRIEND,PROCEED,TAKE-UP,PIZZA_4,DINNER,(25)WHY,IX-3p:i,KISS-FIST,PIZZA_4,FRIEND,PROCEED,TAKE-UP,BUOY', '(1h)TEND,COMMUTE+,BICYCLE,(1h)part:indef,WHO,BICYCLE', 'BEFORE_2,fs-ISSUE,fs-DESDJ,#VOL,ONE,NUMBER,ONE,IX-1p,FOCUS/NARROW,(2h)alt.SEE,FEEL+,fs-TACTILE,MAJOR,fs-ORIENTATION,TALK-OVER,STILL,BEFORE_2,NUMBER,FOCUS/NARROW,(2h)alt.SEE,MAJOR,TALK-OVER,STILL', 'IX-1p,LOVE,FIREWORKS,(25)WHY,FIREWORKS,BEAUTIFUL,LOUD,LOVE,FIREWORKS,LOUD', 'fs-BOB,IX-loc:i,(2h)NOT-YET,GO-OUT,#PO,(1h)part:indef,(2h)NOT-YET', 'IX-2p,(1h)WANT,KNOW+,(1h)part:indef,#IF,fs-JOHN,IX-loc:i,WIN,IX-3p:i,GET,BEAR,size of bear,WIN,GET,BEAR,size of bear', 'BOX/ROOM,IX-loc:i,NOT-YET,ARRIVE,IX-loc:i,SHOULD,CONTACT+,fs-FEDEX,BOX/ROOM,ARRIVE,CONTACT+', 'FRIEND,IX-3p:i,DEPART,FISHING,#WHEN,FRIEND,FISHING', 'KID,IX-loc-pl-arc,VOMIT/HATE,IX-3p:i,PRINCIPAL,(25)WHY++,#IF,IX-3p:j,NOT,ACTION,HOMEWORK,IX-3p:i,i:BAWL-OUT-distributive-3p-pl-arc,VOMIT/HATE,PRINCIPAL,ACTION,HOMEWORK,i:BAWL-OUT-distributive-3p-pl-arc', '#IF,FATHERwg,IX-loc:i,NOT,ARRIVE,HOME,fs-TOO,fs-LATE,IX-3p:i,CAN,HELP,IX-1p-pl-arc,WITH,POSS-1p-pl-arc,HOMEWORK,ARRIVE,CAN,HELP,WITH,HOMEWORK', 'ARRIVE,#LATE,WHO,ARRIVE', '(1h)TEND,COMMUTE,WORK,BICYCLE,WHO,WORK,BICYCLE', 'fs-BRIDE,AND,fs-GROOM,IX-3p-pl-2:i/j,DANCE,LAST,POSS-1p,WEDDING,CLOSE-DOOR,HOW,(1h)part:indef,PICK,POSS-1p,fs-OWN,MUSIC,BUOY_2,DANCE,LAST,WEDDING,CLOSE-DOOR,HOW,MUSIC', 'WHO,FALL-IN-LOVE,fs-BILL,FALL-IN-LOVE', 'IX-1p,TIRED,(1h)WOW/AWFUL,TIRED', '#IF,IX-3p:i,fs-BOB,(1)SEND,POSS-3p:i,RESUME,FUTURE,GET,WORK,BUOY,RESUME,GET,WORK', 'IX-2p,GRADUATE,#HS,#WHEN,GRADUATE', 'IF,LEARN+AGENT,IX-3p:i,HEAR/LISTEN,TEACH+AGENT,FUTURE,LEARN,SOMETHING/ONE,LEARN,AGENT,TEACH,AGENT,LEARN', '#IF,POSS-1p,FRIEND,GROUP/TOGETHER,GO-OUT,IX-1p,FUTURE,JOIN,FRIEND,GROUP/TOGETHER,JOIN', 'FRIEND,PLAN+,SURPRISE,fs-BOB,(25)WHY,IX-3p:i,fs-BOB,SOON,AGE-TWENTY-ONE,FRIEND,PLAN+,SURPRISE,BUOY', 'HAVE,HOMEWORK,MUST,WRITE,THREE,BOOK-PAGE,(1)REPORT,part:indef,HAVE,HOMEWORK,WRITE,BOOK-PAGE,(1)REPORT,part:indef', '#IF,POSS-1p,FRIEND,PROCEED,BRAVE/RECOVER,ASK,DIRECT/EXPLAIN,WHERE,IX-1p,MUST,ACCEPT,DRIVE,IX-1p,FRIEND,PROCEED,BRAVE/RECOVER,DIRECT/EXPLAIN,ACCEPT,DRIVE', 'IX-3p:i,WANT_2,NONE/NOTHING_2,DOUBT,IX-1p,NONE/NOTHING_2,dismissive gesture,WANT_2,NONE/NOTHING_2,dismissive gesture', 'RECENT-PAST,IX-2p,BUY,GIFT,FOR,POSS-2p,MOTHER,IX-3p:i,FUTURE,KISS-FIST,BUY,GIFT,BUOY', 'WHEN,IX-1p,TRIP,ARRIVE,ns-INDIA,IX-1p,MUST,WRITE,PAPER-CHECK/CARD,(2h)SEND/MAIL,MOTHER+FATHER,THANK-YOU+,IX-3p:i,i:HELP-1p,SUPPORT,MONEY,TRIP,WHEN,ARRIVE,WRITE,PAPER-CHECK/CARD,(2h)SEND/MAIL,THANK-YOU+,i:HELP-1p,SUPPORT,MONEY', 'START,WORK,IX-2p,#WHEN,START,WORK', 'IX-3p-pl-2:i/j,fs-JEN,fs-JOE,MARRY,IX-3p-pl-2:i/j,QMwg,MARRY', 'ORDER,PIZZA_4,HERE,GUARANTEE,DELICIOUS,HERE,GUARANTEE', '#ALL_2,LEARN+AGENT,ARRIVE,ON,TIME,NONE,TEST,LEARN,AGENT,ARRIVE,ON,TIME,NONE,TEST', 'SURPRISE,(P)PARTY+,IX-loc:i,TIME,START,part:indef,SURPRISE,(P)PARTY+,TIME,START,part:indef', 'fs-SUE,IX-3p:i,MOVE,WHERE++,MOVE', '#NO++,POSS-1p,ROOMMATE,NOT,(1h)GRAB,RECENT-PAST,HAVE,EAT+MORNING,WITH,IX-3p:i,part:indef,ROOMMATE,MORNING,WITH,part:indef', 'POSS-1p,FRIEND,PROCEED,CROWD,(5)CRASH,(P)PARTY,(25)WHY,RECENT-PAST,FINISH,LAST,fs-EXAM,FRIEND,PROCEED,CROWD,(5)CRASH,(P)PARTY,FINISH,LAST', 'IX-2p,ARTICLE,IX-2p,WRITE,FOR,ns-BOSTON,fs-GLOBE,IX-1p,READ,WOW,(1h)GOOD/THANK-YOU,IX-3p:i,ARTICLE,WRITE,READ', 'NOW+AFTERNOON+,IX-1p,FUTURE,GO,SELL+,NOW,AFTERNOON+,GO,SELL+', 'SISTER,IX-loc:i,#IF++,IX-3p:i,NEGLECT++,HOME+WORK,REFUSE,SUCCEED,IN,SCHOOL,(1h)part:indef,SISTER,NEGLECT++,WORK,SUCCEED,IN,SCHOOL', '#IF,POSS-1p,FAMILY,IX-loc:i,DECIDE,NOT,TAKE-UP,fs-PUPPIES,POSS-1p,FRIEND,IX-3p:j,FUTURE,IX-3p:j,MAYBE,FAMILY,DECIDE,TAKE-UP,FRIEND,BUOY,MAYBE', 'fs-JOHN,IX-loc:i,BREAK,WINDOW+,BREAK,WINDOW+', 'IX-3p:i,fs-MARY,STOP,ROWING,wave no,IX-3p:i,NEVER,ROWING,UP-TO-NOW,NOW,STOP,ROWING,UP-TO-NOW,NOW', 'GO-OUT,SNOW+,STOP,SCHOOL,FUTURE,fs-RE+OPEN,TOMORROW,SNOW+,STOP,SCHOOL,OPEN', 'FRIEND,KISS-FIST,GO-OUT,FISHING,(25)WHY,IX-3p:i,LOVE,EAT,(1h)FISH,FRIEND,FISHING,LOVE', 'FRIEND,IX-loc:i,(P)PARTY,(1h)GOOD/THANK-YOU,QMwg,FRIEND,(P)PARTY', \"IDEA,REALLY,MORE,TWO,DIFFERENT,SEPARATE,ROAD,SET-UP,ON,let's see,FIRST-IN-LIST,STORY,SYSTEM,HOW,EXPRESS,MORE,DIFFERENT,SEPARATE,ROAD,SET-UP,ON,let's see,FIRST-IN-LIST,STORY,SYSTEM,HOW,EXPRESS\", 'ASK,DIRECT/EXPLAIN,part:indef,WHO,part:indef,DIRECT/EXPLAIN,part:indef', '(Y)YESTERDAY,IX-1p,PLAY,GOLF,NONE/NOTHING,PLAY,GOLF,NONE/NOTHING', '#IF+,fs-JOHN,SMILE,MEAN,GET,WORK+,IX-3p:i,SMILE,MEAN,GET,WORK+', '#NO++,IX-3p:i,NOT,VEGETABLE,IX-3p:i,EAT,MEAT,YES,MEAT', 'WHO,ARRIVE,LATE+,part:indef,WHO,ARRIVE,part:indef', 'fs-BOB,IX-loc:i,READ,(1h)DO-DO,READ', 'IX-1p,LOVE,ACTION,MOVIE,NOT,BORE,fs-DRAMA,(1h)FORGET-IT,LOVE,ACTION,MOVIE', 'wave no,IX-1p,GO-OUT,HANDSOME/ns-HAWAII_2+,FOR,SPRING,TAKE-BREAK,SPRING,TAKE-BREAK', 'FRIEND,PLAY,FRISBEE,WHERE,IX-loc:i,fs-PARK,(1h)TEND,PLAY,FRISBEE,FRIEND,PLAY,BUOY,PLAY', 'IX-1p,#WHEN,IX-1p,INTRODUCE,FRIEND,FUTURE,TEST,IX-2p,REMEMBER,POSS-3p:i,NAME,LATER_2,INTRODUCE,FRIEND,TEST,REMEMBER,NAME', 'wave no,NOW,THURSDAY+,MEAN,TOMORROW,FRIDAY+,NOW,MEAN', 'fs-BOB,IX-loc:i,(1h)VOMIT/HATE,READ,BOOK+,READ,BOOK+', 'BOX/ROOM,SMALL,NOT,BOX/ROOM,SMALL', 'IX-1p,WORK+', '#IF,FRIEND,IX-loc:i,TAKE-UP,PIZZA_4,EAT+NIGHT+,IX-1p,BRING,round flat,(1h)BAKING-SPRINKLES,FUTURE,IX-1p,FRIEND,TAKE-UP,NIGHT+,BRING,round flat', '#NO,IX-1p,NOT,LIKE,PINEAPPLE,fs-CREAM,CHEESE,IX-1p,FAVORITE/PREFER+,fs-LOX,CHEESE', 'MOST,FOCUS/NARROW,ns-AMERICA,CULTURE,GIFT,MEAN,INTERPRET,TO/UNTIL,DIFFERENT-arc,NOISE,VOICE+,MOST,FOCUS/NARROW,ns-AMERICA,CULTURE,GIFT,MEAN,INTERPRET,TO/UNTIL,DIFFERENT-arc,NOISE', 'BELOW_2,ON,IDEA,HOW,fs-HUMAN,LANGUAGE,EXPRESS,BELOW_2,ON,HOW,LANGUAGE,EXPRESS', '#IF,fs-BOB,IX-3p:i,SEND,RESUME,GUARANTEE,GET,#JOB,SEND,RESUME,GUARANTEE,GET', 'GO-OUT,TIE_2+FISHING,WHO,TIE_2,FISHING', 'IX-1p,(1h)TEND,COMMUTE,BICYCLE,GO-OUT,WORK,(25)WHY,IX-1p,CANNOT,AFFORD,fs-CAR,IX-1p,BICYCLE,WORK,CANNOT,AFFORD', 'IX-1p,MOVE-AWAY,#OUT,ns-#SD,(2h)#FUCK,IX-1p,NOT,READY,IX-1p,STAY,MOVE-AWAY,(2h)#FUCK,READY,STAY', 'HUSBAND,WIFE,DANCE,POSS-3p:i,LAST,MUSIC,EACH+ONE,many people look at them,QUIET,HUSBAND,WIFE,DANCE,LAST,MUSIC,EACH,many people look at them,QUIET', 'FRIEND,LOVE,INTERNET,SURF-INTERNET,REALLY+WORK+,QMwg,FRIEND,LOVE,INTERNET,WORK+', 'FRIEND,GROUP/TOGETHER,#FUCK,NOT,(5)CRASH,(P)PARTY,FRIEND,GROUP/TOGETHER,(5)CRASH,(P)PARTY', '(2h)HORSE,IX-loc:i,TEND,PLAY-continuative,WHERE,(2h)HORSE,TEND,PLAY-continuative', '(G/Q)POSS-1p,FRIEND,IX-LOC:i,BRAVE/RECOVER,PROCEED,ASK,DIRECT/EXPLAIN,WHERE,IX-1p,FUTURE,FINE,DRIVE,FRIEND,BRAVE/RECOVER,PROCEED,DIRECT/EXPLAIN,DRIVE', 'BAD,(5)WEATHER,clouds rolling in,ns-BOSTON,WHEN,(5)WEATHER,clouds rolling in,WHEN', 'IX-1p,MUST,TAKE-UP,TEST_2,AGAIN,TAKE-UP,TEST_2,AGAIN', 'FIRST-IN-LIST,THROUGH_2,(2h)TALKwg,FIRST-IN-LIST,THROUGH_2,SIGN+,ROAD,THAT,IDEA,SET-UP:i,SET-UP:j,FIRST-IN-LIST,THROUGH_2,(2h)TALKwg,FIRST-IN-LIST,THROUGH_2,SIGN+,ROAD,SET-UP:i,SET-UP:j', 'IX-2p,START,TRIP,#WHEN,(1h)part:indef,START', 'BUT,FOR,THINK+MEAN,THIS_2,FOCUS/NARROW,ON,TWO,(nd-1)FIRST-AND-SECOND-IN-LIST,BUT,MEAN,THIS_2,FOCUS/NARROW,ON,(nd-1)FIRST-AND-SECOND-IN-LIST', 'CAT,IX-3p:i,POSS-1p,(1h)NEXT-TO,IX-3p:j,FIND/FIND-OUT,IX-3p:i,(Y)WOW,HUNGRY/WISH,SMALL', 'POSS-1p,GIRL+CORRECT,IX-3p:i,FAVORITE/PREFER,WATER+TUBING,IX-loc:i,THAN,SKI,(25)WHY,(1h)part:indef,TUBING,EASY+(1h)MOST,CORRECT,TUBING,THAN,SKI,TUBING,EASY', 'POSS-1p,(2h)alt.LONG-AGO,(2h)LONG-PAST,FROM,WHERE,ns-nat-GERMANY,(2h)alt.LONG-AGO,(2h)LONG-PAST,FROM', 'TEACH+AGENT,IX-3p:i,REQUIRE,IX-3p:j,fs-JOHN,MUST,READ+,BOOK,TEACH,AGENT,REQUIRE,READ+,BOOK', 'TEACH+AGENT,REQUIRE,fs-JOHN,IX-3p:i,FUTURE,READ,BOOK+,TEACH,AGENT,REQUIRE,READ,BOOK+', '#IF,fs-BOB,IX-3p:i,PROCEED,TAKE-UP,WIDE,DOG,MUST,ACCEPT,(flat-O)PAY/SPEND,fs-DOG,EAT+,PROCEED,TAKE-UP,WIDE,ACCEPT,(flat-O)PAY/SPEND', 'IX-1p,HAVE,APPOINTMENT,(1h)NOW+AFTERNOON_2,WITH,(crvd-5)POSS-1p,TEACH+AGENT,HAVE,APPOINTMENT,AFTERNOON_2,WITH,TEACH,AGENT', 'IX-1p,NOT,THINK,IX-3p:i,PLAN,GO,part:indef,IF+,SEE,part:indef,IX-1p,FUTURE,(1h)INFORM,i:CALL-BY-PHONE:j,IX-2p,PLAN,GO,part:indef', 'IX-2p,WORK,START,#WHEN,WORK,START', 'fs-JACK,fs-SUE,MEET,FINISH,MEET,FINISH', '#IF,REALLY+WORK,IX-1p,COMMUTE+,WORK,BICYCLE,IX-1p,MUST,GET-UP,EMPTY/EARLY+(1h)MOST,(nd-1)BEFORE,WORK,BICYCLE,GET-UP,EMPTY/EARLY,(nd-1)BEFORE', 'WHO,MUST,(P)PAY,EVERY-MONTH/RENT+,(P)PAY,EVERY-MONTH/RENT+', 'FRIEND,MUST,DRIVE,(25)WHY,IX-1p,TIRED,IX-1p,FRIEND,DRIVE,TIRED', 'POSS-2p,FRIEND,GROUP/TOGETHER,TRIP,WHY++,(1h)part:indef,FRIEND,GROUP/TOGETHER', '#NO+,IX-1p,RECENT-PAST,#BACK_2,FROM,DINNER,IX-3p:i,NONE/NOTHING,ICE-CREAM,IX-honorific:i,FROM,NONE/NOTHING', 'MUST,(1h)(flat-O)PAY/SPEND,(1h)DO-DO,IX-2p', 'FRIEND,DELIBERATE,DECIDE,NOT,(5)CRASH,(P)PARTY,FRIEND,DELIBERATE,DECIDE,(5)CRASH,(P)PARTY', 'MAN,WHO,throw out of plane,AIRPLANE,WHO,IX-3p:i,fs-ALEC-BALDWIN,throw out of plane', 'POSS-1p,MOTHER,IX-loc:i,(1h)HAVE,TIME+,FUTURE,BRING,COOKIE,IX-3p:i,TIME+,BRING,COOKIE', 'IX-1p,ARRIVE,SCHOOL+,fs-LATE,(25)WHY,IX-1p,BICYCLE,(5)ACCIDENT,ARRIVE,SCHOOL+,BICYCLE,(5)ACCIDENT', 'POSS-1p,FATHER,IX-loc:i,PLAY,VIDEO-GAME,IX-1p,(1h)TEND,(1h)FORGET-IT,IX-1p,GO-OUT,POSS-1p,BOX/ROOM,(25)WHY,POSS-1p,FATHER,FEEL,BORE,KNOW+(1h)NEG,HOW,PLAY,VIDEO-GAME,KNOW+(1h)NEG,IX-loc:i,PLAY,VIDEO-GAME,BOX/ROOM,HOW,PLAY,VIDEO-GAME', 'FRIEND,GROUP/TOGETHER,PLAN,SURPRISE,fs-BOB,WHY++,fs-BOB,IX-loc:i,AGE-TWENTY-ONE_2,IX-3p:i,FRIEND,GROUP/TOGETHER,PLAN,SURPRISE,BUOY', '#IF,IX-1p,INVITE/HIRE,IX-3p:i,PEOPLE,IX-3p-pl-arc,POP-UP,fs-LATE,IX-3p-pl-arc,SORRY,FUTURE,IX-3p:i,PEOPLE,POP-UP', \"#IF,POSS-1p,BOSS,IX-loc:i,SUMMON,IX-1p,listen up,GUARANTEE,EACH+ONE-pl-arc,',KNOW-THAT,IX-1p,IN,TROUBLE,SUMMON,GUARANTEE,EACH,',IN,TROUBLE\", 'fs-PHIL,(1h)HAVE,KID,CHILDREN,(1h)HOW-MANY/MANY,CHILDREN', 'WHEN,FRIEND,i:CALL-ON-RELAY/VRS-1p,#VP,LIGHT,LIGHT-FLASH,WHEN,FRIEND,i:CALL-ON-RELAY/VRS-1p,LIGHT-FLASH', 'INTERNET,IX-2p,LAPTOP,TYPE,WHAT,IX-2p,INTERNET,LAPTOP,TYPE', 'IF+,(2h)IX-2p,WANT+NEG,PIZZA_4,CAN,ORDER,SPAGHETTI,(2h)IX-2p,WANT,NEG,CAN,SPAGHETTI', 'POSS-1p,SISTER,i:BLAME-1p,IX-1p,exasperation,IX-1p,INNOCENT,exasperation,SISTER,i:BLAME-1p,exasperation,INNOCENT,exasperation', '#NO+,IX-1p,RECENT-PAST,#BACK_2,FROM,DINNER,IX-3p:i,NONE/NOTHING,ICE-CREAM,IX-honorific:i,FROM,NONE/NOTHING', 'IX-3p:i,DOG,CHASE,CAT,THAT,IX-3p:i,#DOG,IX-3p:i,NOT,POSS-1p+,IX-3p:i,CHASE,IX-3p:i', 'SELF-3p:i+,MOVIE,REALLY,SCARE+,BUOY,MOVIE,SCARE+', '#IF,IX-3p:i,FRIEND,IX-loc:i,FINISH,HOMEWORK+,EMPTY/EARLY,GUARANTEE,LAPTOP,TYPE,INTERNET,ALL-NIGHT,(1h)part:indef,FRIEND,FINISH,HOMEWORK+,EMPTY/EARLY,GUARANTEE,LAPTOP,TYPE,INTERNET,ALL-NIGHT', 'WHY,IX-2p,WORK,ALL-NIGHT,WHY,part:indef,WORK,ALL-NIGHT,part:indef', 'DIFFERENT,EXPERIENCE,BELONG,WITH,MEAN,DIFFERENT,BELONG,WITH,MEAN', 'HUNGRY/WISH,HAVE,PINEAPPLE,fs-CREAM,CHEESE,HAVE,CHEESE', 'BOY+,NEVER,GO-OUT,HOME,(1h)part:indef', 'fs-BILL,PLAN,(1h)MOVE,ns-NEW-YORK,QMwg,PLAN,ns-NEW-YORK', 'FRIEND,GO-OUT,(P)PARTY,FRIEND,(P)PARTY', 'IF,IX-1p,ARRIVE,WORK,LATE,POSS-1p,BOSS,FUTURE,FIRED,IX-1p,(1h)part:indef,ARRIVE,WORK,FIRED', 'WHO,SICK,WHO,SICK', 'PLEASE/(1h)ENJOY+,IF,HURRICANE+,GAME+,DECIDE,CANCEL/CRITICIZE,HURRICANE+,GAME+,DECIDE,CANCEL/CRITICIZE', '#IF+,IX-1p+,GO,HEARING,SCHOOL,IX-1p,(nd-1)LOOK-AROUND,WHY,NONE/NOTHING,COMMUNICATE,part:indef,GO,SCHOOL,(nd-1)LOOK-AROUND,NONE/NOTHING,COMMUNICATE,part:indef', '#IF,FRIEND,PLAY,FRISBEE,IX-1p,FUTURE,JOIN,PLAY,IX-1p,FRIEND,PLAY,JOIN,PLAY', '#IF,IX-1p,ENJOY,CHAT:i,WITH,IX-3p-pl-2:i/j,MEAN,IX-1p,MUST,CHAT:k,#ALL,fs-BU,ENJOY,CHAT:i,WITH,MEAN,CHAT:k', 'FRIEND,GO-OUT,TRIP,FRIEND', 'FRIEND,IX-3p-pl-arc,(1h)TEND,TYPE,LAPTOP,INTERNET,FRIEND,TYPE,LAPTOP,INTERNET', 'FRIEND,NOT-YET,GROUP/TOGETHER,group go together,fs-BEACH,NOT-YET+,FRIEND,GROUP/TOGETHER,group go together', 'IX-2p,(1)SEND,LETTER/MAIL_2,WHO,LETTER/MAIL_2', 'THAT,MAN,fs-JIM,PUNCH,IX-loc:i,THREAT,AGAINST,IX-3p:j,IX-3p:i,BUOY,THREAT,AGAINST', '#IF,REALLY+WORK,AUNT,MAKE,BLUE+fs-BERRY,PIE,FINISH,ZOOM-OFF,HOME,GOBBLE-UP,WORK,MAKE,PIE,FINISH,ZOOM-OFF,GOBBLE-UP', 'IX-2p,WANT_2,#VP,WHERE,(1h)part:indef,WANT_2', 'IX-1p,WARM,wave no,IX-1p,COLD_2', 'FUTURE,GO-OUT,#PO,(1h)part:indef,WHO,(1h)part:indef', 'AUNT,IX-loc:i,NOT,EXPERT,MAKE+,APPLE,PIE,MAKE+,PIE', 'FRIEND,IX-loc:i,KISS-FIST,LAPTOP,TYPE,INTERNET,FRIEND,LAPTOP,TYPE,INTERNET', '#WHEN,TEACH+AGENT,IX-3p:i,FINISH,NICE/CLEAN,CLASS+BOX/ROOM,(1h)TEND,IX-3p:i,LOCK,(nd-1)GATE,TEACH,AGENT,FINISH,NICE/CLEAN,CLASS,BOX/ROOM,LOCK,(nd-1)GATE', 'MUST,#VP,WHY++,(1h)part:indef,CAN,TEXTING,part:indef,CAN,TEXTING,part:indef', 'IX-1p+,LOVE,MOVIE_2++,POSS-1p,FAVORITE/PREFER++,WHAT,fs-COMEDY,#OR,MONSTER,MOVIE_2+,LOVE,MOVIE_2++,WHAT,MONSTER,MOVIE_2+', 'IX-3p:i,WANT+NEG,NONE/NOTHING_2,(1h)part:indef,WANT,NEG,NONE/NOTHING_2', '#IF+,IX-1p,GO-OUT,EAT,WHO,(P)PAY,part:indef,(P)PAY,part:indef', 'WHO,ACCEPT,IX-3p:i,BIG,fs-DOG,IX-loc:i,ACCEPT,BIG', 'HUSBAND,WIFE,DANCE,POSS-3p,WEDDING,WHY,HUSBAND,WIFE,DANCE,WEDDING', 'TEACH+AGENT,IX-loc:i,SICK-OF,NICE/CLEAN+,CLASS+BOX/ROOM,TEACH,AGENT,SICK-OF,NICE/CLEAN+,CLASS,BOX/ROOM', 'FRIEND,GROUP/TOGETHER,GO-OUT,(P)PARTY+,FRIEND,GROUP/TOGETHER,(P)PARTY+', 'THAT,STUDENT,ON,fs-QUIZ,ACT,IX-3p:i,THAT,IX-loc:i,NOT,WIN,IX-3p:i,(1h)part:indef,STUDENT,ON,ACT,WIN', 'IX-1p,NOTHING-AT-ALL,CAR,part:indef,CAR,part:indef', 'IX-1p,MUST,DISCUSS,HOW,IX-1p,CONFRONT,TEACH+AGENT,REGULAR,part:indef,DISCUSS,HOW,CONFRONT,TEACH,AGENT,REGULAR,part:indef', 'wave no,THAT,NOT,fs-SARAH-JESSICA-PARKER,THAT,fs-WAS,fs-SARAH-PALIN,DIFFERENT++', 'IX-1p,RECENT-PAST,READ+,BOOK,NOTICE,ONE,BOOK-PAGE+,missing page,READ+,BOOK,NOTICE,BOOK-PAGE+,missing page', \"FRIEND,IX-loc:i,',GO-OUT,LOOK,(nd-1)MOVIE,WHO,JOIN,FRIEND,',(nd-1)MOVIE,JOIN\", '#IF,1p-LOOK,SEE,THAT,fs-BEACH,IX-3p-pl-arc,CROWDED,PEOPLE,IX-1p,(1h)FORGET-IT,IX-1p,WANT+NEG,GO-OUT,CROWDED,PEOPLE,WANT,NEG', '#NO++,IX-3p:i,NOT,VEGETABLE,IX-3p:i,EAT,MEAT,YES,MEAT', 'IX-1p,WORK,IX-1p,WORK', 'IX-3p:i,WANT+NEG,IX-1p,DOUBT,IX-1p,THINK,IX-3p:i,WANT,NEG,WANT', 'POSS-1p,FRIEND,IX-3p:i,person passed out,PAST+NIGHT,PARTY-HARD,WOW,(25)WHY,POSS-3p:i,BIRTHDAY,FRIEND,person passed out,NIGHT,PARTY-HARD', '#WHEN,IX-3p:i,FRIEND,CALL-BY-PHONE,IX-1p,IX-loc:i,#VP,(1h)TEND,LIGHT-FLASH++,friend,FRIEND,LIGHT-FLASH++', '#NO++,BEAUTIFUL,sky up there,SUNSHINE,WARM,(2h)SHINE,BEAUTIFUL,part:indef,(2h)SHINE,(1h)part:indef,part:indef', 'IX-2p,FINISH,WORK,WHEN,IX-2p,FINISH,WORK,WHEN', '#WHEN,IX-3p:i,fs-BOB,(2h)alt.FIRE,IX-1p,FUTURE,RAKE,fs-LOGS,FEED+,(2h)alt.FIRE++,(2h)alt.FIRE,RAKE,FEED+,(2h)alt.FIRE++', 'THAT,VIDEO-GAME,IX-loc:i,NOT,LIKE,(25)WHY,(1h)part:indef,VIDEO-GAME,BUOY', 'GO-OUT+,SNOW,SCHOOL,QMwg,CLOSE-DOOR,part:indef,SNOW,SCHOOL,CLOSE-DOOR,part:indef', 'fs-JEN,fs-JOE,IX-3p-pl-2:i/j,MARRY,QMwg,MARRY', '#NO++,IX-1p,RECENT-PAST,FINISH,HOMEWORK,IX-1p,FINISH,HOMEWORK', 'IX-2p,(1h)TEND,CHAT,WITH,fs-JESSICA,AND,fs-DONNA,(1h)DO-DO,(25)WHY,WITH', 'fs-LIZ,SISTER,IX-3p:i,FAMOUS,WHO,SISTER,FAMOUS', 'fs-NETFLIX,RECENT-PAST,SEND,IX-1p,recieve DVD,fs-DVD,DVD,(1h)SCRAPE,(1h)part:indef,SEND,recieve DVD,DVD', '(5)POSS-1p,FATHER,IX-3p:i,LAZY,IX-3p:i,REFUSE,MOW+,REFUSE,BUOY,MOW+', '#IF,IX-3p:i,NOT,BORE,IX-1p,FUTURE,READ,IX-1p,part:indef,READ,part:indef', 'person passed out,(2h)DRUNK,PAST_2+NIGHT,(25)WHY,(1h)part:indef,person passed out,(2h)DRUNK,NIGHT', 'NONE/NOTHING_2,CAR,IX-1p,part:indef,NONE/NOTHING_2,CAR,part:indef', 'IX-1p,WORK,ALL-NIGHT,(25)WHY,IX-1p,WANT_2,SHOULD+,fs-EXTRA,MONEY+,WORK,ALL-NIGHT,WANT_2,MONEY+', 'FRIEND,group go together,DIFFERENT,MOVIE,WHY,IX-3p:i,FAVORITE/PREFER,ACTION,MOVIE,FRIEND,group go together,DIFFERENT,MOVIE,ACTION,MOVIE', '#IF,AUNT,REALLY+WORK,PROCEED,MAKE+,BLUE,BERRY,PIE,wave no,IX-1p,MUST,GO,eat with two forks,(2h)alt.EAT,WORK,PROCEED,MAKE+,BERRY,PIE,wave no,GO,eat with two forks,(2h)alt.EAT', 'wave no,SERIOUS,CAR,BREAK-DOWN,IX-1p,(1h)KEY++,CORRECT,part:indef,CAR,BREAK-DOWN,CORRECT,part:indef', '#NO++,CLASS,NEXT-WEEK,HAVE,CLASS,NEXT-WEEK,HAVE', 'FRIEND,IX-3p:i,GROUP/TOGETHER,group go together,fs-BEACH,people tanning,SUN,TAN,woah,IX-1p,MUST,BRING,squeeze lotion,rub lotion,applying lotion,NONE/NOTHING,(2h)#BURN,FRIEND,GROUP/TOGETHER,group go together,people tanning,woah,BRING,squeeze lotion,rub lotion,applying lotion,NONE/NOTHING,(2h)#BURN', 'wave no,POSS-1p+,MOTHER+,VOMIT/HATE,SURPRISE+,wave no,VOMIT/HATE,SURPRISE+,wave no', 'FRIEND,GROUP/TOGETHER,group go together,MOVIE_2,ACT+,WHO,JOIN,FRIEND,GROUP/TOGETHER,group go together,MOVIE_2,ACT+,JOIN', '(crvd-L)POSS-1p,FRIEND,KISS-FIST,LAPTOP,TYPE,INTERNET,(25)WHY,USE+,fs-GOOGLE,fs-CHROME,VERY-FAST,FRIEND,LAPTOP,TYPE,INTERNET,USE+,VERY-FAST', 'STUDENT,IX-loc:i,REFUSE,HEAR/LISTEN,TEACH+AGENT,IX-3p:i,STUDENT,TEACH,AGENT', 'REALLY,A-LOT,INCLUDE/INVOLVE,TO/UNTIL,FULL,IN,THAT,GROUP/TOGETHER,MAJOR,A-LOT,INCLUDE/INVOLVE,TO/UNTIL,FULL,IN,GROUP/TOGETHER,MAJOR', '#NO,IX-1p,NOT,AFRAID,fs-OF,HIGH,part:indef,DO-DO,MAKE,IX-2p,THINK,THAT,(1h)part:indef,AFRAID,part:indef,DO-DO,MAKE', 'ASK,FOR,DIRECT,part:indef,WHO,DIRECT,part:indef,IX-3p-honorific:i', 'FRIEND,IX-loc:i,KISS-FIST,GO,(1h)FISHING++,(25)WHY,LOVE,NEW,FISH,FOR,EAT+NIGHT+,FRIEND,GO,LOVE,NEW,FISH,NIGHT+', 'POSS-2p:i,FAMILY,VACATION,EVERY-YEAR,(1h)TEND,WHERE,FAMILY,VACATION,EVERY-YEAR', 'IX-1p,WARM,LATER_2,HOT', 'THAT,(1h)EXPAND,EXPERIENCE,COOPERATE/UNITE,(1h)FIRST-IN-LIST,(1h)SECOND-IN-LIST,COOPERATE/UNITE', '#IF,(2h)HORSE,PLAY-continuative,FARM,running,NIGHT+,READY,BED,FUTURE,PASS-OUT_3,(2h)HORSE,PLAY-continuative,running,NIGHT+,READY', 'WHO,SICK', '#IF,POSS-1p,FRIEND,IX-3p:i,START,VIDEO-GAME,CONTINUE,TO/UNTIL,eyes falling out,FOR,REALLY,FRIEND,START,VIDEO-GAME,CONTINUE,TO/UNTIL,eyes falling out', 'FRIEND,WANT_2,BUY,PLAID,(2h)SHIRT,FRIEND,WANT_2,BUY,(2h)SHIRT', 'STUDENT,IX-3p:i,WIN,TROPHY,IX-loc:i,GET,ONE+HUNDRED,DOLLAR_2,PAPER-CHECK/CARD,STUDENT,WIN,TROPHY,GET,DOLLAR_2,PAPER-CHECK/CARD', 'KNOW,WHO,KISS-FIST,LOOK,FIREWORKS,QMwg,FIREWORKS', 'BRACELET,POSS-1p,BROTHER,RECENT-PAST,FIND/FIND-OUT,THAT,BRACELET,REALLY+WORK,GOLD/ns-CALIFORNIA,circular bracelet,wow,BRACELET,BROTHER,BRACELET,WORK,circular bracelet', 'IF+,RAIN,TOMORROW,IX-1p,ARRIVE,UNCLE,HOUSE,STAY,IN+,RAIN,ARRIVE,HOUSE,STAY,IN+', 'KNOW-THAT,SOMETHING/ONE,BUY,CAR,hey,WHO++,BUY,CAR', 'VIDEO-GAME,IX-loc:i,EASY,BEAT_2,VIDEO-GAME,EASY,BEAT_2', 'POSS-1p,FRIEND,FISHING,(1h)FISH,IX-1p,HURRY,IX-1p,bucket,fill bucket,move bucket,FISH,throw fish in bucket,WHY++,FOR,EAT+NIGHT,FRIEND,FISHING,HURRY,bucket,fill bucket,move bucket,FISH,throw fish in bucket,NIGHT', 'fs-JACK,(1h)HAVE,(1h)(flat-O)PAY/SPEND+,QMwg,(1h)part:indef', 'FRIEND,TAKE-UP,EAT+NIGHT+,round flat,PIZZA_4,WHEN,FRIEND,TAKE-UP,NIGHT+,round flat,WHEN', '#WHEN,REALLY+WORK,MOVE-AWAY,ns-#SD,IX-1p,MUST,GET,CAR,LICENSE,IX-1p,WORK,MOVE-AWAY,GET,CAR,LICENSE', 'WANT,#VP,WHERE,WANT', 'WHO,GO-OUT,#PO,(1h)part:indef', 'CAT,IX-3p:i,POSS-1p,(1h)NEXT-TO,IX-3p:j,FIND/FIND-OUT,IX-3p:i,(Y)WOW,HUNGRY/WISH,SMALL', 'WHO,IX-3p-pl-arc,FIND/FIND-OUT,IX-1p,KEY,(1h)part:indef,KEY', '#IF,KID,IX-loc:i,PLAY-continuative,fs-PARK,IX-loc:i,(1h)part:indef,FUTURE,TIRED,LATER_2,AFTERNOON_3,PLAY-continuative,TIRED,AFTERNOON_3', 'IX-1p,MOVE-AWAY,ns-#SD,(25)WHY,(1h)part:indef,NEW,WORK,(2h)IX-honorific:i,MOVE-AWAY,NEW,WORK,(2h)IX-honorific:i', 'IX-2p,WANT,#BBQ,GROUP/TOGETHER,WHAT,IX-2p,WANT,GROUP/TOGETHER,WHAT', \"#IF,IX-1p,DECIDE,FORGET-IT,IX-1p,WANT+NEG,SWIM,fs-BEACH,IX-1p,DO-DO,WATER,shoreline,IX-1p,FUTURE,SCL:3”person walking at water’s edge”,DECIDE,FORGET-IT,WANT,NEG,SWIM,DO-DO,waves,water's edge\", 'FRIEND,GROUP/TOGETHER,GO-OUT,TRIP,FRIEND,GROUP/TOGETHER', 'COAT,IX-2p,RECENT-PAST,BUY,FACE,WARM,(Y)WOW,COAT,BUY', 'IX-1p,LOVE,GET-IN+,AIRPLANE,(2h)alt.FLY-BY-PLANE,DIFFERENT,PLACE,LOVE,GET-IN+,(2h)alt.FLY-BY-PLANE,DIFFERENT,PLACE', '#NO++,(nd-1)MOVIE,START,TIME,TEN++,(nd-1)MOVIE,START,TIME', 'fs-BOB,GIVE,SWEETHEART,WHAT,SWEETHEART,WHAT', 'POSS-1p,FRIEND,(1h)WOW/AWFUL,PLAY,VIDEO-GAME,ALL-DAY,(25)WHY,IX-loc:i,DO-DO,NOTHING,FRIEND,PLAY,VIDEO-GAME,ALL-DAY,DO-DO,NOTHING', '#IF,fs-OJ,IX-loc:i,INNOCENT,part:indef,POSS-1p,GRANDMOTHER,CAN,BICYCLE,INNOCENT,part:indef,CAN,BICYCLE', '(1h)GOOD/THANK-YOU,WEATHER,IX-loc:i,ARRIVE,ns-BOSTON,(2h)NOT-YET,HURRY,part:indef,WEATHER,ARRIVE,(2h)NOT-YET,HURRY,part:indef', 'fs-MARY,GO,COLLEGE,WHICH+,GO,COLLEGE,WHICH+', 'COOK/KITCHEN,EAT+NIGHT+,WHO,COOK/KITCHEN,NIGHT+', 'PEOPLE,DIFFERENT-arc,CULTURE,NOT,ONLY,(2h)TALKwg,DIFFERENT,LANGUAGE,PEOPLE,DIFFERENT-arc,CULTURE,(2h)TALKwg,DIFFERENT,LANGUAGE', 'wave no,fs-MITT-ROMNEY,IX-3p:i,SELF-3p+:i,MORMON,fs-RICK-PERRY,IX-3p:j,NOT,IX-3p:j,BUOY', 'FRIEND,GROUP/TOGETHER,group go together,fs-BEACH,FOR-FOR+,part:indef,FRIEND,GROUP/TOGETHER,group go together,(1h)part:indef,part:indef', 'WHEN,FRIEND,IX-loc:i,OVER-IT,IX-1p,switch seats,IX-1p,DRIVE,IX-1p,WHEN,FRIEND,OVER-IT,switch seats,DRIVE', 'FRIEND,LOOK,FORGET-IT,GO-OUT,BUT,(nd-1)MOVIE,(25)WHY,IX-3p:i,FAVORITE/PREFER,ACTION,fs-ACTION,AND,MONSTER,fs-HORROR,FRIEND,GO-OUT,BUT,(nd-1)MOVIE,ACTION,MONSTER', 'FRIEND,FINISH,CAR,QMwg,FRIEND,FINISH,CAR', 'DRESS/CLOTHES,ON,#SALE,WHERE,DRESS/CLOTHES,ON', 'VIDEO-GAME,IX-loc:i,EASY,BEAT_2,QMwg,VIDEO-GAME,EASY,BEAT_2', 'wave no,IX-1p,USE,CORRECT,(1h)KEY++,IX-loc:i,CAR,BREAK-DOWN,USE,CORRECT,CAR,BREAK-DOWN', 'wave no,REFUSE,RAIN,you see,#IF+,RAIN,you know,GAME+,FOR,REALLY,CANCEL/CRITICIZE,RAIN,you see,RAIN,you know,GAME+,CANCEL/CRITICIZE', 'ARRIVE,#LATE,WHO,ARRIVE', 'SOMETHING/ONE,BUY,CAR,WHO,part:indef,BUY,CAR,part:indef', 'wave no,NOT,EAT,COOKIE,wave no,IX-loc:i,WITH,BUTTER+,wave no,ok, hey,IX-1p,LIKE,BUT,#IF,IX-3p:i,BUTTER+,IX-1p,NOT-CARE,(1h)part:indef,wave no,COOKIE,wave no,WITH,BUTTER+,wave no,ok, hey,BUT,BUTTER+', 'IX-2p,WORK,WHERE,WORK', 'ns-#AA,IX-loc:i,well,NOT,EXPENSIVE,part:indef,#IF,REALLY+WORK,EXPENSIVE,part:indef,IX-1p,STUCK,WHY,flying back and forth,ns-BOSTON,ns-#FLA,ALONE,ns-#AA,(1h)part:indef,well,EXPENSIVE,part:indef,WORK,EXPENSIVE,part:indef,BUOY', 'COAT,IX-2p,RECENT-PAST,BUY,FACE,WARM,(Y)WOW,COAT,BUY', '#VP,CLEAR', 'IX-1p,WANT+NEG,BUY,SHORTS,IX-1p,WANT,NEG,BUY,SHORTS', \"#IF,DRESS/CLOTHES,ON,#SALE,GUARANTEE,FRIEND,IX-1p-pl-arc,',GO-OUT,fs-MALL,DRESS/CLOTHES,ON,GUARANTEE,FRIEND,'\", \"IX-1p,NOT,LIKE,TALKwg,ASK,FOR,DIRECT,IX-3p:i,I don't know,IX-1p,NOT,LIKE,IX-1p,DIRECT,I don't know\", 'FRIEND,PLAY,FRISBEE,(2h)NOT-YET,FRIEND,PLAY,(2h)NOT-YET', '(1h)HAPPY+,NOT,(1h)HAPPY+,#NO+', 'HOW-MANY,CHILDREN,fs-PHIL,HAVE,(1h)part:indef,HOW-MANY,CHILDREN,HAVE', 'IX-1p,LOOK,MOVIE,PAST+NIGHT,IX-1p,AFRAID,(1h)WOW/AWFUL,MOVIE,NIGHT,AFRAID', 'BUT,MAYBE,MORE,IMPORTANT,emphasis,LIVE,IN,DIFFERENT,fs-SENSORY,WORLD,BUT,MAYBE,MORE,IMPORTANT,emphasis,LIVE,IN,DIFFERENT,WORLD', 'ARRIVE,fs-LATE,FINE,IX-1p,MUST,CALL-BY-PHONE,IX-3p:i,RESTAURANT,POSTPONE,APPOINTMENT,ARRIVE,POSTPONE,APPOINTMENT', 'PAST,MONDAY,IX-1p,you know,KNOW-THAT,FUTURE,RAIN,NEXT,fs-DAY,RAIN,NEXT', 'IX-1p,NOT', 'NOW+,ECONOMIC,CRISIS,NOW+,ECONOMIC,CRISIS,NOW+', 'FRIEND,SCL:crvd-5”group go together”,GO-OUT,(nd-1)MOVIE,ACT,IX-loc:i,(2h)NOT-YET,(25)WHY,TRAFFIC_2,FRIEND,SCL:crvd-5”group go together”,(nd-1)MOVIE,ACT,(2h)NOT-YET,TRAFFIC_2', 'fs-SUE,IX-3p:i,MOVE,WHERE++,MOVE', 'IN,NINETEEN,EIGHTY-TWO,IX-3p:i,WRITE,QUOTE/TOPIC,IN,WRITE,QUOTE/TOPIC', 'POSS-1p,FRIEND,FAVORITE/PREFER,#VP,TEXTING_3,(1h)FORGET-IT,(25)WHY,CAN,USE-SIGN-LANGUAGE,#ASL,FRIEND,TEXTING_3,CAN,USE-SIGN-LANGUAGE', 'IX-3p:i,fs-MARY,IX-loc:i,NOT,(1h)HAPPY,IX-3p:i,(1h)part:indef,IX-3p-pl-arc,NONE/NOTHING_2+ONE,(1h)HAPPY,part:indef,NONE/NOTHING_2,part:indef', 'IX-1p,FINISH,KNOW+,HAVE,PINEAPPLE,fs-CREAM,CHEESE+,FINISH,HAVE,CHEESE+', '#WHEN,IX-1p-pl-arc,ARRIVE,ns-INDIA,IX-loc:i,MUST,1p-SEND/MAIL:j,FAMILY,PAPER-CHECK/CARD,THANK-YOU+,FOR,SUPPORT+,ARRIVE,FAMILY,PAPER-CHECK/CARD,THANK-YOU+,SUPPORT+', 'fs-JOHN,IX-loc:i,NOT,SEE,IX-1p,NONE/NOTHING', '(25)WHY,IX-1p,WORK,ALL-NIGHT,(25)WHY,(1h)part:indef,WORK,ALL-NIGHT', 'IX-2p,(1h)VOMIT/HATE,VIDEO-GAME,IX-loc:i,(25)WHY,IX-loc:i,VIDEO-GAME', 'WHO,(1h)ACCEPT,IX-3p:i,BIG,#DOG,BUOY,BIG', 'IX-1p,THINK,(Y)WOW,BORE,IX-1p', '#IF+,IX-2p,FIND/FIND-OUT,(G/Q)POSS-1p,KEY,around here,NOT-MIND+,2p-GIVE-1p,KEY', 'POSS-1p,SISTER,HATE,WATER,SKI,(25)WHY,HARD,skiing back and forth,BALANCE,HARD,SISTER,HATE,SKI,HARD,skiing back and forth,BALANCE,HARD', '#IF,FATHERwg,IX-loc:i,ARRIVE,HOME,fs-LATE,IX-3p:j,REFUSE,REASON,IX-3p:j,NOT,fs-AT,HOME,ARRIVE', 'MUST,(P)PAY,EVERY-MONTH/RENT,WHO,(P)PAY,EVERY-MONTH/RENT', 'IX-2p,GRADUATE,#HS,WHEN,GRADUATE,WHEN', '#IF++,RAIN,TOMORROW,WHEN,ARRIVE,UNCLE,HOUSE,STAY,IN++,RAIN,WHEN,ARRIVE,HOUSE,STAY,IN++', 'GO-OUT+,SNOW+,SCHOOL,FUTURE,CANCEL/CRITICIZE,QMwg,SNOW+,SCHOOL,CANCEL/CRITICIZE', 'WHO,FUTURE,GO,#PO,GO', 'FRIEND,NOW,SURF-INTERNET,INTERNET,FRIEND,NOW,INTERNET', 'wave no,PINEAPPLE,fs-CREAM,CHEESE,wave no,BETTER,fs-LOX,IX-1p,hands off,wave no,CHEESE,wave no,hands off', 'IX-1p,(1h)TEND,WORK-OUT+,OVER/AFTER,CLASS,WORK-OUT+,OVER/AFTER,CLASS', 'IX-2p,MUST,MOVE-AWAY,ns-#SD,(25)WHY,(1h)part:indef,MOVE-AWAY', 'wave no,fs-MITT-ROMNEY,IX-3p:i,SELF-3p+:i,MORMON,fs-RICK-PERRY,IX-3p:j,NOT,IX-3p:j,BUOY', 'YESTERDAY,ALL-DAY,IX-1p,WORK++,ALL-DAY,WORK++', 'fs-JOHN,IX-loc:i,NOT,BUY,TURKEY,#NO+,IX-3p:j,fs-JAMES,BUY,TURKEY,BUY', '#IF,fs-BOB,IX-loc:i,MAKE-IT,SURPRISE,POSS-2p,SURPRISE,(P)PARTY,WOW+,IX-1p,APPLAUSE,POSS-1p,FRIEND,IX-loc:j,(25)WHY,IX-3p:i,fs-BOB,IX-loc:i,HARD,SURPRISE,HARD,MAKE-IT,SURPRISE,(P)PARTY,APPLAUSE,FRIEND,HARD,SURPRISE,HARD', \"MOTHER,#OK-1p,IX-1p,GO-OUT,GUITAR,IX-1p,THRILL/WHAT'S-UP,GUITAR,THRILL/WHAT'S-UP\", 'REALLY,SELF-3p:i+,OLD,NOT,IMPORTANT,(1h)part:indef,BUOY,IMPORTANT', \"TEACH+AGENT,NOT,REQUIRE,BOOK,READ,DROP,IX-3p:i,fs-JOHN,FUTURE,READ,BOOK,I don't know,TEACH,AGENT,REQUIRE,BOOK,READ,DROP,READ,BOOK,I don't know\", 'wave no,IX-1p,NEVER,RUN,fs-MARATHON,PAST,wave no,IX-1p,NOT,PLAN,START,NOW,whoa,RUN,PLAN,START,NOW,whoa', 'IX-1p,1p-ASK:i,POSS-1p,TEACH+AGENT,FOR,SOME,ADVISE/INFLUENCE,IX-1p,DISCUSS++,part:indef,TEACH,AGENT,SOME,ADVISE/INFLUENCE,DISCUSS++,part:indef', 'FINE,wave no,ns-MCDONALD,IX-loc:i,VERY-FAST,EAT,RESTAURANT,IX-3p:i,(2h)GIVE-distributive,HAMBURGER,part:indef,ns-MCDONALD,VERY-FAST,(2h)GIVE-distributive,HAMBURGER,part:indef', 'GO-OUT+,RAIN,wave no,(1)TEMPERATURE-DROP,SNOW,RAIN,wave no,(1)TEMPERATURE-DROP,SNOW', 'STUDENT,IX-loc:i,REFUSE,HEAR/LISTEN,TO/UNTIL,TEACH+AGENT,(1h)part:indef,STUDENT,BUOY,TO/UNTIL,TEACH,AGENT', 'WHO,(1h)(flat-O)PAY/SPEND,fs-RENT,WHO', 'wave no,IX-1p,GO-OUT,HANDSOME/ns-HAWAII_2+,FOR,SPRING,TAKE-BREAK,SPRING,TAKE-BREAK', 'FINISH,BUY,CAR+,WHO,FINISH,BUY,CAR+', 'FRIEND,group go together,WATCH-TV,BUT,(nd-1)MOVIE,(25)WHY,IX-3p:i,FAVORITE/PREFER,SOMETHING/ONE,DIFFERENT,(1h)part:indef,FRIEND,group go together,BUT,(nd-1)MOVIE,DIFFERENT', '(alt-G/bent-L)POSS-1p,SISTER,LIKE,ns-BOSTON,(2h)KNOW+NEG,SISTER,(2h)KNOW,NEG', 'fs-BOB,IX-loc:i,NOT-YET,GO,#PO,IX-3p:i,GO', 'IX-2p,NOT,LIE-DOWN,DRUNK,IX-2p,LIE-DOWN', 'IX-3p:i,PARK,RED,STOPLIGHT,CAR,(3)ACCIDENT,IX-3p:i+,USE,PHONE,(1h)part:indef,PARK,CAR,(3)ACCIDENT,USE', 'IF+,SON,BORN,TOMORROW,BORN,YEAR,TWO_2+ZERO+THIRTEEN,(1h)part:indef,SON,BORN,YEAR', 'BUY,CAR,WHO,part:indef,BUY,CAR,part:indef', 'IX-1p+,NOT,EXPERT,REMEMBER+,NEW,PEOPLE,NAME,part:indef,REMEMBER+,NEW,PEOPLE,NAME,part:indef', 'BOY+,ARRIVE,HOME,ARRIVE', 'IX-3p:i,BUY,CAR,WHAT,KIND,BUY,CAR,WHAT,KIND', '(G/Q)POSS-1p,OFFICE,POSS-1p,BOSS,WORK,ABOVE,IX-loc:i+,OFFICE,WORK,ABOVE', 'NOTICE,OH-I-SEE,IX-3p:i,BABY,(1h)VOMIT/HATE,FIREWORKS,CRY++,NOTICE,BABY,FIREWORKS,CRY++', 'UNDERSTAND+,IX-3p:i,(2h)TALKwg,MINOR,(1h)HAVE,ADD-TO,USE,GESTURE,SAME,ALSO,SIGN+,MAJOR,(1h)HAVE,ADD-TO,USE,TWO,VOICE+,(1h)CURRENT-TOPIC,(2h)TALKwg,MINOR,ADD-TO,USE,GESTURE,ALSO,SIGN+,MAJOR,(1h)HAVE,ADD-TO,USE,IX-3p:j,IX-honorific:j', 'FRIEND,SCL:crvd-5”group go together”,fs-BEACH,FOR-FOR+,(1h)part:indef,FRIEND,SCL:crvd-5”group go together”', 'IF+,fs-JACK,HAVE,WIFE,IX-3p:i,LOVE,IX-3p:j,HAVE,WIFE,LOVE', 'MOTHER+FATHER,GUARANTEE,FUTURE,MAD,NOT,(1h)HAPPY,#IF,CHILDREN,REALLY+WORK,DYE,HAIR,COLOR,ORANGE,GUARANTEE,CHILDREN,WORK,DYE', 'PAST+NIGHT,IX-1p,PLAY+,(crvd-5)BASKETBALL,SCRIMMAGE,WITH,FRIEND,(Y)WOW+,(baby-O)BY-A-HAIR,(1h)BEAT,THIRTY+,TWENTY-EIGHT,NIGHT,PLAY+,(crvd-5)BASKETBALL,SCRIMMAGE,WITH,FRIEND', 'IX-2p,GO,WHERE,(1h)part:indef,GO', 'IX-1p,#FUCK,not a big deal,IX-1p,NOT,MOVE-AWAY,ns-#SD,(25)WHY,IX-1p,NOT,READY,part:indef,MOVE-AWAY,READY,part:indef', 'IX-1p,SHOULD,BUY,SHORTS,(25)WHY,IX-loc:i,WOW,OUT+,HOT,BUY,SHORTS', 'fs-BOB,IX-loc:i,GIVE:j,GIRL+FRIEND,IX-loc:j,(1h)DO-DO,(1h)part:indef,BUOY,FRIEND,BUOY', '(5)POSS-1p,FRIEND,IX-loc:i,do nothing,NONE/NOTHING,FUTURE,PROCEED,VIDEO-GAME,ALL-DAY,FRIEND,do nothing,NONE/NOTHING,PROCEED,VIDEO-GAME,ALL-DAY', '#IF+,FRIEND,GROUP/TOGETHER,DEPART,FISHING+,IX-1p,CHECK,(5)WEATHER,MAKE,REALLY,fs-OK,FRIEND,GROUP/TOGETHER,FISHING+,CHECK,(5)WEATHER,MAKE', 'TIME+,FRIEND,(5)CRASH,(P)PARTY,part:indef,TIME,(1h)part:indef,TIME+,FRIEND,(5)CRASH,(P)PARTY,part:indef,TIME', 'SOMETHING/ONE,IX-3p-pl-arc,FIND/FIND-OUT,POSS-1p,KEY,WHICH,WHO,IX-3p-pl-arc,KEY,WHICH', 'PAST+NIGHT,(5)ACCIDENT,long line of cars,(1h)WOW/AWFUL,NIGHT,(5)ACCIDENT,long line of cars', 'CAR,IX-3p:i,(1h)(flat-O)PAY/SPEND,YESTERDAY,DO-DO+,KIND,part:indef,CAR,DO-DO+,KIND,part:indef', 'FINEwg,#IF,IX-1p,MOW,MOTHER,FUTURE,GIVE-1p,TWENTY,DOLLAR,MOW,DOLLAR', '#WHEN,IX-1p,ARRIVE,SCHOOL+,IX-1p,MUST,TEXTING_3,1p-INFORM:j,MOTHER+,IX-1p,FINISH,ARRIVE,SAFE,ARRIVE,SCHOOL+,TEXTING_3,1p-INFORM:j,FINISH,ARRIVE,SAFE', '#NO+,IX-3p:i,(L)LIVE,(L-X)SMALL,#APT,IN,CITY/COMMUNITY,fs-CITY,IX-3p:i,(L)LIVE,(L-X)SMALL,IN,CITY/COMMUNITY', 'IX-1p,RECENT-PAST,DRINK,TASTE,FINE++,(1h)part:indef', 'IX-2p,WRONG,IX-3p:i,NOT,PINEAPPLE,fs-CREAM,CHEESE,IX-1p,FAVORITE/PREFER,fs-LOX,CHEESE', '#NO+,IX-1p,NOT,GO-OUT:i', 'SICK,WHO,SICK', 'tube skipping on water,(1h)part:indef,TIME++,(1h)part:indef,tube skipping on water,TIME++', 'IX-2p,PLAN,TRIP,WHERE,(1h)part:indef,PLAN', 'HUSBAND,WIFE,IX-3p:i,NOT,DANCE+,HUSBAND,WIFE,DANCE+', 'IX-3p:i,PARK,RED,STOPLIGHT,CAR,(3)ACCIDENT,IX-3p:i+,USE,PHONE,(1h)part:indef,PARK,CAR,(3)ACCIDENT,USE', 'wave no,REFUSE,RAIN,you see,#IF+,RAIN,you know,GAME+,FOR,REALLY,CANCEL/CRITICIZE,RAIN,you see,RAIN,you know,GAME+,CANCEL/CRITICIZE', 'REALLY,POSS-1p+,OPPOSITE,FRIEND,DO-DO+,ALARM+,OPPOSITE,FRIEND,DO-DO+,ALARM+', '#NO++,IX-1p,RECENT-PAST,#BACK_2,FROM,DINNER,IX-3p:i,HAVE,ICE-CREAM,IX-3p:i,(1h)part:indef,FROM', 'GO-OUT,NONE/NOTHING_2,RAIN,(1h)WAIT,WAIT-A-MINUTE,NONE/NOTHING_2,RAIN', 'CANNOT,DISTRIBUTE,NUT+BUTTER,IX-3p:i,fs-BETH,IX-loc:i,wow,ALLERGY,NUT+,IX-3p:i,CANNOT,DISTRIBUTE,BUTTER,ALLERGY', 'FINISH,GRADUATE,#HS,IX-2p,FINISH,GRADUATE', 'FRIEND,IX-3p-pl-arc,(P)PARTY+,(1h)GOOD/THANK-YOU,FRIEND,(P)PARTY+', 'IX-2p,LIE-DOWN,PAST+NIGHT,WHY,(1h)part:indef,LIE-DOWN,NIGHT', 'fs-PETE,IX-3p:i,LOVE,TAPE-RECORDING,IX-3p:i,(1h)HAVE,THREE,three computers next to each other,POSS-3p:i,HOME,WOW,LOVE,TAPE-RECORDING,three computers next to each other', 'PLEASE/(1h)ENJOY+,IF,HURRICANE+,GAME+,DECIDE,CANCEL/CRITICIZE,HURRICANE+,GAME+,DECIDE,CANCEL/CRITICIZE', '(1h)part:indef,IX-1p,LIKE,IX-3p:i,#IF,IX-3p:i,(1h)HAVE,BUTTER,IN+,oh well,FINE,IX-1p,part:indef,BUTTER,IN+,oh well,part:indef', '#IF,MOTHERwg,GO-OUT,SELL,IX-3p:i,FUTURE,BUY,MILK,SELL,BUY', 'EAT,SELL+,WHERE++,SELL+', 'WHO,(1h)TEND,COMMUTE,WORK,BICYCLE,part:indef,WORK,BICYCLE,part:indef', 'IX-2p,FACE,NOT,FEEL,(1h)GOOD/THANK-YOU,IX-3p:j,#OK,IX-2p,WRONG+,(1h)part:indef', 'fs-BILL,IX-loc:i,MOVE,ns-NEW-YORK,FUTURE,MOVE,ns-NEW-YORK', 'HEAR/LISTEN,TEACH+AGENT,WHO,TEACH,AGENT', 'IX-1p,1p-MEET-3p-pl-arc,NEW,PEOPLE,IX-1p,LOUSY,MEMORIZE,POSS-3p-pl-arc,NAME,IX-1p,1p-MEET-3p-pl-arc,NEW,PEOPLE,NAME', 'BIG,#DOG,IX-loc:i,(1h)ACCEPT,WHO,BIG,BUOY', 'IX-1p,VERY,NOT,(1h)HAPPY+,VERY', 'FINE,wave no,ns-MCDONALD,IX-loc:i,VERY-FAST,EAT,RESTAURANT,IX-3p:i,(2h)GIVE-distributive,HAMBURGER,part:indef,ns-MCDONALD,VERY-FAST,(2h)GIVE-distributive,HAMBURGER,part:indef', 'fs-JOHN,IX-3p:i,NOT,BUY,TURKEY,(1h)part:indef,BUY', 'IX-1p,REALLY,HAVE,PINEAPPLE,fs-CREAM,CHEESE,HAVE,CHEESE', 'fs-MARY,STOP,ROWING+,out of my control,NOT,CONTINUE,ROWING,no more,STOP,ROWING+,out of my control,CONTINUE,ROWING,no more', 'GO-OUT,HOME', 'HONEST,IX-1p,VOMIT/HATE,GO-OUT,WORK,COMMUTE,BICYCLE,IX-1p,(1h)VOMIT/HATE,IX-1p,HONEST,VOMIT/HATE,WORK,BICYCLE', 'fs-BOB,IX-loc:i,NOT-YET,(2h)GIVE,(R)FLOWER,POSS-3p:i,SWEETHEART,(2h)GIVE,SWEETHEART', 'wave no,IX-1p,NONE/NOTHING_2,CAR,wave no,NONE/NOTHING_2,CAR', 'FINISH,GRADUATE,#HS,FINISH,GRADUATE', 'FRIEND,IX-3p:i,DRIVE,FRIEND,DRIVE', 'TEACH+AGENT,DISTRIBUTE,ANSWER,TO/UNTIL,TEST,TEACH,AGENT,DISTRIBUTE,ANSWER,TO/UNTIL,TEST', '#IF,POSS-1p,FRIEND,GO-OUT,CAMP+,IX-1p,FUTURE,GO-OUT,WITH,IX-pl-arc,FRIEND,CAMP+,WITH', '#VP,CLEAR,QMwg,CLEAR', '#NO++,BEAUTIFUL,sky up there,SUNSHINE,WARM,(2h)SHINE,BEAUTIFUL,part:indef,(2h)SHINE,(1h)part:indef,part:indef', 'IX-2p,PUT,TREE,WHERE,PUT,TREE', 'GAME,FINISH,BEFORE,SIX,QMwg,(1h)part:indef,GAME,FINISH,BEFORE', 'fs-BRIDE,AND,fs-GROOM,IX-3p-pl-2:i/j,IX-loc:i,DANCE,LAST,WEDDING,NOT,(1h)part:indef,BUOY-2,DANCE,LAST,WEDDING', '#IF,fs-BOB,REALLY+WORK,STUDY,fs-LIT,TEST,FUTURE,PASS,WORK,STUDY,TEST,PASS', 'IX-1p,KISS-FIST,IX-2p,WHY+,IX-2p,EXPERT,MAKE,PEOPLE,LAUGH-HARD,IX-2p,EASY+,(1h)part:indef,MAKE,PEOPLE,LAUGH-HARD,EASY+', 'IX-1p,(2h)NOT-YET,(P)PAY,fs-RENT,(2h)NOT-YET,(P)PAY', 'fs-BOB,IX-loc:i,READ,WHAT,READ,WHAT', 'FRIEND,IX-loc:i,WANT+NEG,BUY,PLAID,(2h)SHIRT,WANT+NEG,FRIEND,WANT,NEG,BUY,(2h)SHIRT,WANT,NEG', 'IX-1p,SAY,fs-JOHN,wave no,IX-1p,CREATE/PRETEND,fs-JAMES', 'WHO,ASK,FOR,DIRECT/EXPLAIN,part:indef,DIRECT/EXPLAIN,part:indef', 'FRIEND,GROUP/TOGETHER,DEPART,FISHING,#WHEN,FRIEND,GROUP/TOGETHER,FISHING', 'PERSON,IX-loc:i,(1h)part:indef,WHO,IX-3p:i,(1h)part:indef,PERSON,BUOY', 'WHO,HEAR/LISTEN,IX-3p:i,(1h)TEACH+(1h)AGENT,(1h)part:indef', 'WHEN,IX-1p,ARRIVE,SCHOOL,IX-1p,1p-INFORM:i,MOTHER,IX-1p,FINISH,ARRIVE,SAFE,WHEN,ARRIVE,SCHOOL,1p-INFORM:i,FINISH,ARRIVE,SAFE', 'FRIEND,GROUP/TOGETHER,WANT+NEG,PIZZA_4,EAT+NIGHT,(25)WHY,SAME-OLD+,FRIEND,GROUP/TOGETHER,WANT,NEG,NIGHT,SAME-OLD+', 'FRIEND,NOT-YET,PROCEED,START,FRISBEE,NOT-YET+,FRIEND,PROCEED,START', 'NOW+,ECONOMIC,CRISIS,NOW+,ECONOMIC,CRISIS,NOW+', 'IX-1p,WANT+NEG,SOMETHING/ONE,IX-1p,wave no,WANT,NEG', 'IX-loc:i,RAIN,HAPPEN,WHO,GO-OUT,part:indef,RAIN,HAPPEN,(1h)part:indef,part:indef', 'POSS-1p,FRIEND,KISS-FIST,SURF-INTERNET,INTERNET,(25)WHY,CLICK,FINEwg,FLOW,DIFFERENT+,fs-SITES,FLOW++,FRIEND,INTERNET,FLOW,DIFFERENT+,FLOW++', 'IX-1p,REALLY+WORK,PROCEED,COMMUTE,WORK,BICYCLE,IX-1p,MEAN,MUST,GET-UP,EMPTY/EARLY+(1h)MOST,WORK,PROCEED,WORK,BICYCLE,MEAN,GET-UP,EMPTY/EARLY', 'POSS-2p,FRIEND,LOVE,TRIP,pay attention,(25)WHY,(1h)part:indef,FRIEND,LOVE', 'fs-BOB,IX-loc:i,HAVE,BIG,#DOG,#NO,IX-3p:i,(1h)HAVE,SMALL,HAVE,BIG,SMALL', '#NO,IX-1p,NOT,HAVE,CAR,HAVE,CAR', 'BOX/ROOM,SMALL,small box,BOX/ROOM,SMALL,small box', 'RECENT-PAST,RAIN,NONE/NOTHING_2+,RAIN,NONE/NOTHING_2+', 'TEACH+AGENT,IX-loc:i,START,NICE/CLEAN,TIME+,TEACH,AGENT,START,NICE/CLEAN,TIME+', 'POSS-1p,SISTER,ACTION,STRANGE,IX-1p,1p-LOOK:i,SISTER,ACTION', 'BAD,WEATHER,START,IN,ns-BOSTON,#WHEN,WEATHER,START,IN', 'IX-1p,D,CLASS,IX-1p,ACCEPT,D,CLASS,ACCEPT', 'POSS-1p,FRIEND,PAST+NIGHT,WOW,(2h)DRUNK,(2h)PASS-OUT_2,(25)WHY,(2h)(Y)DRINK,A-LOT,IX-3p:i,FRIEND,NIGHT,(2h)DRUNK,(2h)PASS-OUT_2,(2h)(Y)DRINK,A-LOT', 'fs-BOB,one person approaching another,GIVE:i,(R)FLOWER,GIRL+FRIEND,(2h)NOT-YET,part:indef,one person approaching another,girlfriend,FRIEND,(2h)NOT-YET,part:indef', 'ANYWAY/NOT-MATTER++,RAIN,NOT,part:indef,STILL,PROCEED,SWIM+,ANYWAY/NOT-MATTER++,RAIN,part:indef,STILL,PROCEED,SWIM+', '(L-X)POSS-1p,FRIEND,IX-loc:i,TRIP,KISS-FIST,IX-loc:i,FAVORITE/PREFER++,WHERE,fs-ASIA,(25)WHY,POSS-3p:j,EAT+,DELICIOUS,FRIEND', 'IX-2p,ARTICLE,IX-2p,WRITE,FOR,ns-BOSTON,fs-GLOBE,IX-1p,READ,WOW,(1h)GOOD/THANK-YOU,IX-3p:i,ARTICLE,WRITE,READ', 'IX-2p,MUST,WORK,ALL-NIGHT,IX-2p,WORK,ALL-NIGHT', '#IF,SCHOOL+,NOT,CANCEL/CRITICIZE,IX-3p:i,FUTURE,GO,SCHOOL,IX-3p:i,SCHOOL+,CANCEL/CRITICIZE,GO,SCHOOL', 'IX-1p,ENJOY,CHAT,WITH,FIRST-IN-LIST,fs-JESSICA,AND,SECOND-IN-LIST,fs-DONNA,IX-3p-pl-2:i/j,ENJOY,(25)WHY,IX-1p,ENJOY,CHAT,fs-ASL,ENJOY,CHAT,WITH,FIRST-IN-LIST,SECOND-IN-LIST,ENJOY,CHAT', '(alt-G/bent-L)POSS-1p,SISTER,LIKE,ns-BOSTON,(2h)KNOW+NEG,SISTER,(2h)KNOW,NEG', 'FRIEND,TAKE-UP,DINNER,PIZZA_4,(P)PARTY,(1h)part:indef,#WHEN,(1h)part:indef,FRIEND,TAKE-UP,(P)PARTY', 'PAST+,TAKE-BREAK,IX-1p,READY,#DO,HOMEWORK,FROM-NOW-ON,EMPTY-FROM-NOW-ON,READY,TAKE-BREAK,READY,HOMEWORK,FROM-NOW-ON,EMPTY-FROM-NOW-ON,READY', 'IX-1p,ALMOST,FINISH,HOMEWORK,ALMOST,FINISH,HOMEWORK', 'BOX/ROOM,BIG_5,BOX/ROOM,BIG_5', 'wave no,IX-1p,NEVER,RUN,fs-MARATHON,PAST,wave no,IX-1p,NOT,PLAN,START,NOW,whoa,RUN,PLAN,START,NOW,whoa', '#IF,REALLY+WORK,IX-1p,MUST,(P)PAY,fs-RENT,NOW,FINE,CANCEL/CRITICIZE,POSS-1p,VACATION,(1h)PROCEED+,WORK,(P)PAY,NOW,CANCEL/CRITICIZE,VACATION', 'DURING/WHILE,LONG-AGO+,IX-1p,#HS,MOTHER,ALWAYS,REMIND-1p+,IX-1p,EVERY-MORNING,(25)WHY+,IX-1p,sound asleep,NOT,FEEL,ALARM+++,DURING/WHILE,EVERY-MORNING,sound asleep,ALARM+++', '#IF,fs-BOB,IX-loc:i,TAKE-UP,BIG,#DOG,MUST,ACCEPT,FUTURE,(flat-O)PAY/SPEND,WOW+,BUOY,TAKE-UP,BIG,ACCEPT,(flat-O)PAY/SPEND', '#WHEN,POSS-1p,FRIEND,FINISH,TIRED,DRIVE,FUTURE,SWITCH,FRIEND,FINISH,TIRED,DRIVE', '#IF,POSS-2p,FRIEND,(2h)PASS-OUT_2,(2h)DRUNK,IX-1p,REFUSE,CARE,REFUSE,IX-1p,FRIEND,(2h)PASS-OUT_2,(2h)DRUNK,CARE', 'fs-SUE,MOVE,WHERE,MOVE', 'fs-JACK,DISGUST,WHY,(1h)part:indef', 'WIDE,fs-DOG,IX-loc:i,ACCEPT,WHO,WIDE,ACCEPT,IX-3p:i', 'IX-1p,REALLY+WORK,PROCEED,BUY,SHORTS,MEAN,IX-1p,MUST,SHOE+,SEND/MAIL,WORK,PROCEED,BUY,SHORTS,MEAN,SHOE+', 'IX-1p,(1h)HAPPY+,NONE/NOTHING_2,#NO+,IX-1p,SAD,ok (giving in),NONE/NOTHING_2,SAD,ok (giving in)', 'SOMETHING/ONE,IX-3p-pl-arc,FIND/FIND-OUT,POSS-1p,KEY,WHICH,WHO,IX-3p-pl-arc,KEY,WHICH', \"HOW,WHAT,THROUGH,FEEDBACK,let's see,HOW,WHAT,THROUGH,FEEDBACK,let's see\", 'WHO,(1h)TEND,COMMUTE,BICYCLE,WHO,BICYCLE', 'IX-1p,NOT,SKILL,(1h)part:indef,SKILL', 'WANT_2,PLAY,FRISBEE,WHO,(1h)part:indef,WANT_2,PLAY', 'AUNT,IX-3p:i,EXPERT,MAKE,APPLE,PIE,NOT,MAKE,PIE', \"what's going on?,NONE/NOTHING,BOOK-pl,TABLE,IX-honorific:i,(1h)NONE/NOTHING,(1h)part:indef,NONE/NOTHING,BOOK-pl,TABLE\", 'DURING/WHILE,IX-1p,ENJOY,CHAT,WITH,fs-DONNA,AND,SECOND-IN-LIST,fs-JESSICA,IX-1p,SAME,ENJOY,CHAT,WITH,EACH+ONE,OTHER,SAME,IX-1p,DURING/WHILE,ENJOY,CHAT,WITH,SECOND-IN-LIST,ENJOY,CHAT,WITH,EACH', '#IF,IX-3p:i,fs-BOB,IX-loc:i,GO,#PO,IX-1p,GRAB-CHANCE,give package,POSS-1p,LETTER/MAIL,IX-3p:j,(1h)DROP,#OFF,FOR,IX-1p,GO,GRAB-CHANCE,give package,LETTER/MAIL', '#WHEN,POSS-1p,FRIEND,catch fish,(1h)FISH,IX-1p,MUST,fs-BUCKET,ICL:B-L”bring over bucket”,SCL:1”throw fish in bucket”,FIRST,FAST_3,#FRESH,PERFECT,FINE+,FRIEND,catch fish,ICL:B-L”bring over bucket”,FAST_3,PERFECT', '#IF,fs-MARY,IX-3p:i,NOT,(1h)HAPPY,(1h)part:indef,NONE/NOTHING_2+ONE,IX-1p-pl-arc,(1h)HAPPY,(1h)part:indef,NONE/NOTHING_2', 'IF+,IX-3p:i,fs-OBAMA,CHOOSE,REPUBLICAN,whoa,fs-OBAMA,FUTURE,SORRY,THUMB-IX-3p:i,CHOOSE', 'fs-JACK,IX-loc:i,HAVE,MONEY,HAVE,MONEY', 'fs-JACK,WAIT,GO-OUT+,SEE,STRANGE,QMwg,WAIT', '#IF,TOMORROW,NONE/NOTHING_2,TIME,IX-2p,CAN,washing car,CAR,MONDAY,NONE/NOTHING_2,TIME,CAN,washing car,CAR', 'WHO,FIND/FIND-OUT,POSS-1p,KEY_2,WHO', 'DRIVE,WHO,DRIVE', 'FRIEND,IX-3p:i,DRIVE,FRIEND,DRIVE', 'DRESS/CLOTHES,IX-loc:i,#SALE,NOT,IX-3p:i,DRESS/CLOTHES', 'fs-MAC,TROUNCE,fs-PC,WHY+,fs-MAC,EXPERT,MATCH,PEOPLE,WANT_2,TROUNCE,MATCH,PEOPLE,WANT_2', 'FUTURE,GO,#PO,WHO,GO', 'IX-3p:i,APPLY-1p,IX-1p,MANY,fs-TASKS,frustration,APPLY-1p,MANY,frustration', 'IX-1p,CHAT,WITH,IX-3p-pl-2:i/j,ENJOY,IX-1p,NOT,IX-1p,CHAT,WITH,ENJOY', 'IX-2p,NOT,person passed out,NOT,IX-2p,person passed out', \"FRIEND,NOW,IX-3p:i,PLAN,SURPRISE,THRILL/WHAT'S-UP,FRIEND,NOW,PLAN,SURPRISE,THRILL/WHAT'S-UP\", 'MAN,RECENT-PAST,BUSTED,BREAK,ENTER,fs-NEWTON,IX-3p:i,THAT,IX-3p:i,MAYBE,SAME,PERSON,WHO,BREAK+ENTER,IN,ns-BROOKLINE,part:indef,BUSTED,BREAK,ENTER,MAYBE,BUOY,PERSON,BREAK,ENTER,IN,part:indef', 'IF+,BOX/ROOM,IX-loc:i,NOT,ARRIVE,IX-loc:i,SHOULD,CONTACT+,fs-FEDEX,BOX/ROOM,ARRIVE,CONTACT+', 'FRIEND,GO-OUT,FISHING,FRIEND,FISHING', 'FRIEND,GROUP/TOGETHER,DELIBERATE,(2h)REASON,WANT+NEG,PIZZA_3,(P)PARTY,(25)WHY,(1h)part:indef,UP-TO-NOW,SAME-OLD,FRIEND,GROUP/TOGETHER,DELIBERATE,(2h)REASON,WANT,NEG,(P)PARTY,UP-TO-NOW,SAME-OLD', 'THAT,STUDENT,ON,fs-QUIZ,ACT,IX-3p:i,THAT,IX-loc:i,NOT,WIN,IX-3p:i,(1h)part:indef,STUDENT,ON,ACT,WIN', \"IX-1p,NOT,THRILL/WHAT'S-UP,#IF,HAVE,PINEAPPLE,fs-CREAM,CHEESE,part:indef,THRILL/WHAT'S-UP,HAVE,CHEESE,part:indef\", '#HS,IX-2p,GO-OUT,WHERE,IX-2p', '#IF,IX-1p,NOT,AFRAID,IX-1p,PROCEED,GO,WATER,PADDLE/CANOE,FUTURE,IX-1p,(1h)part:indef,AFRAID,PROCEED,GO,PADDLE/CANOE', '(1h)THIS,ARTICLE,QUOTE/TOPIC,fs-SENSORY,fs-ORIENTATION,SECOND,PART,ARTICLE,QUOTE/TOPIC,PART', 'WHO,FALL-IN-LOVE,fs-BILL,FALL-IN-LOVE', 'IF+,fs-JOHN,NOT,HERE,part:indef,ANY+ONE,IX-3p-pl-arc,KNOW,WHERE,GO,(1h)part:indef,HERE,part:indef,GO', 'IX-2p,MUST,#VP,IX-2p,(25)WHY,NOT,TEXTING_3,part:indef,TEXTING_3,part:indef', 'WHEN,REALLY+WORK,MOVE-AWAY,ns-#SD,OUT,IX-1p,(2h)MUST,GET,NEW,CAR,LICENSE+,WHEN,WORK,MOVE-AWAY,OUT,(2h)MUST,GET,NEW,CAR,LICENSE+', 'fs-LIZ,RELATIONSHIP,FAMOUS,ACT,WHO,RELATIONSHIP,FAMOUS,ACT', 'fs-JEN,fs-JOE,IX-3p-pl-2:i/j,MARRY,QMwg,MARRY', 'IX-3p:i,SISTER,IX-loc:i,IF+,IX-3p:i,NEGLECT+,HOME+WORK,REFUSE,SUCCEED,IN,SCHOOL,(1h)part:indef,SISTER,NEGLECT+,WORK,SUCCEED,IN,SCHOOL', 'PAST+NIGHT,IX-1p,LIE-DOWN,DRUNK,EACH+ONE,fist pump,NIGHT,LIE-DOWN,EACH,fist pump', '#NO+,NOT,STOP,perplexed,STOP,perplexed', 'IX-1p,HIT,MISS/ASSUME,POSS-1p,MORNING,CLASS,WHY++,IX-1p,OVERSLEEP,IX-1p,HIT,MORNING,CLASS,OVERSLEEP', 'WHICH,COLLEGE,fs-MARY,GO-OUT,WHICH,(1h)part:indef,WHICH,COLLEGE,WHICH', 'FRIEND,GROUP/TOGETHER,PLAY,VIDEO-GAME,FRIEND,GROUP/TOGETHER,PLAY,VIDEO-GAME', '#IF,POSS-1p,FRIEND,DEPART,(P)PARTY,IX-1p,FUTURE,(1h)JOIN,GUARANTEE,YES,FRIEND,(P)PARTY,GUARANTEE', '#WHEN,POSS-1p,FRIEND,GO-OUT,IX-1p,PROCEED,FINALLY,START,POSS-1p,HOMEWORK,FRIEND,PROCEED,FINALLY,START,HOMEWORK', 'IX-2p,WRONG,(alt-G/bent-L)POSS-1p,FAVORITE/PREFER,fs-LOX,NOT,LIKE,PINEAPPLE,fs-CREAM,CHEESE', 'IX-2p,WORK,WHAT,WORK,WHAT', 'fs-JACK,WAIT,GO-OUT+,SEE,STRANGE,QMwg,WAIT', 'ns-#AA,IX-loc:i,well,NOT,EXPENSIVE,part:indef,#IF,REALLY+WORK,EXPENSIVE,part:indef,IX-1p,STUCK,WHY,flying back and forth,ns-BOSTON,ns-#FLA,ALONE,ns-#AA,(1h)part:indef,well,EXPENSIVE,part:indef,WORK,EXPENSIVE,part:indef,BUOY', '#IF,(2h)HORSE,IX-loc:i,PLAY+,ALL-DAY,horse galloping,ON,FARM,GUARANTEE,NIGHT,TIME+,EXHAUST,(2h)HORSE,PLAY+,ALL-DAY,horse galloping,ON,GUARANTEE,NIGHT,TIME+,EXHAUST', 'BOX/ROOM,SMALL,wave no,BIG_5,BOX/ROOM,SMALL,BIG_5', 'WHO,IX-3p:i,BUOY', '(25)WHY,FATHER,(P)UPSET,(1h)part:indef,KNOW+(1h)NEG', 'POSS-2p,FRIEND,ADDICTED,SURF-INTERNET,INTERNET,(25)WHY,(1h)part:indef,FRIEND,INTERNET', '#NO,IX-1p,NOT,AFRAID,fs-OF,HIGH,part:indef,DO-DO,MAKE,IX-2p,THINK,THAT,(1h)part:indef,AFRAID,part:indef,DO-DO,MAKE', '#IF,FRIEND,CRASH,POSS-1p,(P)PARTY,IX-1p,FUTURE,KICK-OFF,IX-1p,FRIEND,CRASH,(P)PARTY,KICK-OFF', 'FRIEND,FACE+SAME,INTERCOURSE+fs-UP,WHY,(1h)part:indef,FRIEND,INTERCOURSE', 'UNDERSTAND,LEARN+++,AND,USE,THAT,(2h)alt.UNDERSTAND,IX-1p,USE,MANY,DEAF,PEOPLE,POSS-3p-pl-arc,EXPERIENCE,THROUGH,STORY+,LEARN+++,USE,(2h)alt.UNDERSTAND,USE,MANY,PEOPLE,THROUGH,STORY+', 'TIRED,wave no,TIRED', '#IF,IX-1p,BUY,SHORTS+,IX-1p,MUST,(5)THROW,SHOE+,BUY,SHORTS+,SHOE+', 'EACH,STUDENT,WHO,GET,TROPHY,IX-3p:i,HERE,(2h)LOOK-UP,EACH,STUDENT,GET,TROPHY,HERE,(2h)LOOK-UP', 'MAN,RECENT-PAST,BUSTED,BREAK,ENTER,fs-NEWTON,IX-3p:i,THAT,IX-3p:i,MAYBE,SAME,PERSON,WHO,BREAK+ENTER,IN,ns-BROOKLINE,part:indef,BUSTED,BREAK,ENTER,MAYBE,BUOY,PERSON,BREAK,ENTER,IN,part:indef', '#IF,QUIET,HERE+,MEAN,MAYBE,(1h)HAVE,CHILDREN,UP,SLEEP,QUIET,HERE+,MEAN,MAYBE,CHILDREN', 'FRIEND,CAR,WHERE,(1h)part:indef,FRIEND,CAR', 'WHO,KISS-FIST,(2h)LOOK-FORWARD,STAR+BOMB++,(2h)LOOK-FORWARD,STAR,BOMB++', '#IF,POSS-1p,FRIEND,GROUP/TOGETHER,GO-OUT,WANT+NEG,IX-1p,FUTURE,PROCEED,STAY,HOME,(2h)LOOK,#TV,FRIEND,GROUP/TOGETHER,WANT,NEG,PROCEED,STAY,(2h)LOOK', 'POSS-1p,SISTER,IX-loc:i,WANT+NEG,HEADBAND,FOR,POSS-3p:i,BIRTHDAY_3,SISTER,WANT,NEG,HEADBAND,BIRTHDAY_3', 'fs-MARY,IX-loc:i,ARRIVE,HOME,fs-LATE,IX-3p:j,fs-JOHN,MAYBE,UPSET,IX-3p:k,ARRIVE,IX-3p:j,MAYBE', 'WANT_2,FRISBEE,PLAY,WHO,part:indef,WANT_2,PLAY,(1h)part:indef,part:indef', 'POSS-1p,GIRL+CORRECT,(1h)WANT,HEADBAND,FOR,POSS-2p,BIRTHDAY,(25)WHY,(1h)part:indef,HAIR,long hair,WOW,CORRECT,HEADBAND,long hair', 'TEACH+AGENT,SICK-OF,NICE/CLEAN+,CLASS+BOX/ROOM,forget it,NOT,NICE/CLEAN+,NOW+,TEACH,AGENT,NICE/CLEAN+,CLASS,BOX/ROOM,forget it,NICE/CLEAN+,NOW+', 'IX-1p+,ARRIVE,SCHOOL,LATE,(25)WHY,IX-1p,BICYCLE,IX-1p,(3)ACCIDENT,ARRIVE,SCHOOL,BICYCLE,(3)ACCIDENT', '(nd-1)FIRST-IN-LIST,VOICE+,(nd-1)FIRST-AND-SECOND-IN-LIST,MANAGE/CONTROL,#OF,fs-SOUND,(nd-1)FIRST-AND-SECOND-IN-LIST,(nd-1)FIRST-IN-LIST,(nd-1)FIRST-AND-SECOND-IN-LIST,MANAGE/CONTROL,(nd-1)FIRST-AND-SECOND-IN-LIST', \"fs-BOB,IX-loc:i,FUTURE,SURPRISE,FROM,THAT,SURPRISE,THRILL/WHAT'S-UP,QMwg,SURPRISE,FROM,SURPRISE,THRILL/WHAT'S-UP\", 'KISS-FIST,LOOK,FIREWORKS,WHO,FIREWORKS', 'WHEN,IX-1p,INTRODUCE,NEW,FRIEND,IX-1p,FUTURE,TEST,MAKE,REALLY,REMEMBER,NAME,WHEN,INTRODUCE,NEW,FRIEND,TEST,MAKE,REMEMBER,NAME', 'KIND,(P)PARTY,part:indef,KIND,(P)PARTY,part:indef', 'NOT-YET,NONE/NOTHING+ONE,FIND/FIND-OUT,UMBRELLA,STILL,GONE,part:indef,NONE/NOTHING,UMBRELLA,STILL,GONE,part:indef', 'IX-3p:i,TEACH+AGENT,NOT,REQUIRE,READ+,DROP,IX-3p:j,fs-JOHN,IX-loc:j,NOT,READ,TEACH,AGENT,REQUIRE,READ+,DROP,READ', 'MOTHER,IX-loc:i,SICK,QMwg,HOW,SICK,HOW', 'POSS-1p,FRIEND,IX-3p:i,LOVE,TRIP,UNDERSTAND,KISS-FIST,fs-ASIA,ns-ASIA,(25)WHY,IX-loc:i,fs-ASIA,MANY,(2h)THING,DO-DO,DIFFERENT++,VARY,COMPARE,TO/UNTIL,OTHER,COUNTRY+,FRIEND,LOVE,focus,MANY,(2h)THING,DO-DO,DIFFERENT++,VARY,COMPARE,TO/UNTIL,COUNTRY+', 'GO-OUT+,SNOW,SCHOOL,CANCEL/CRITICIZE,SNOW,SCHOOL,CANCEL/CRITICIZE', \"#IF,POSS-1p,FRIEND,IX-3p:i,DRIVE,IX-1p,FUTURE,SLEEP,BACK,SIT,',FRIEND,DRIVE,SIT,'\", 'BOSS,SUMMON,IX-1p,LOOK,EACH+ONE,many people staring,KNOW-THAT,IX-1p,TROUBLE,IX-1p,SUMMON,EACH,many people staring,TROUBLE', '#IF,FRIEND,TAKE-UP,PIZZA_4,DINNER,IX-1p,FUTURE,BRING,fs-SUPREME,round flat,FRIEND,TAKE-UP,BRING,round flat', '#IF,POSS-1p,SISTER,IX-loc:i,GET,HEADBAND,FOR,POSS-3p:i,BIRTHDAY,IX-3p:i,SISTER,GUARANTEE,FUTURE,DECORATE,WITH,fs-GLITTER,BAKING-SPRINKLES,SISTER,GET,HEADBAND,SISTER,GUARANTEE,DECORATE,WITH,BAKING-SPRINKLES', 'IX-1p,ALWAYS,SERIOUS,IN,SCHOOL,IN,SCHOOL', 'fs-PETE,IX-3p:i,LOVE,TAPE-RECORDING,IX-3p:i,(1h)HAVE,THREE,three computers next to each other,POSS-3p:i,HOME,WOW,LOVE,TAPE-RECORDING,three computers next to each other', 'IX-3p:i,fs-JACK,GO-OUT,IX-3p:i,SEE,SOMETHING/ONE,STRANGE,QMwg,(1h)part:indef', '#IF,POSS-1p,FRIEND,GO-OUT,FISHING+,IX-1p,MUST,(2h)LOOK-FORWARD+,MAKE,REALLY,WEATHER,IX-loc:i,FINE+,FRIEND,FISHING+,(2h)LOOK-FORWARD+,MAKE,WEATHER', 'PAST+ALL-NIGHT,IX-1p,#DO,HOMEWORK,WOW,A-LOT,ALL-NIGHT,HOMEWORK,A-LOT', 'FRIEND,NOW,IX-3p:i,#VP,HOME,CHAT+++,FRIEND,NOW,CHAT+++', '#IF,IX-3p:i,REALLY+WORK,LIKE,IX-3p:j,EAT,eating,FUTURE,ALL-GONE,FUTURE,(1h)part:indef,IX-3p:i,NOT,(1h)part:indef,SOMETHING/ONE,WRONG+,(1h)part:indef,WORK,eating,ALL-GONE', 'POSS-1p,FRIEND,IX-3p:i,START,VIDEO-GAME,FINISH,ALL-NIGHT,VIDEO-GAME,CONTINUE,TO/UNTIL,EYES,eyes pop out,WOW,FRIEND,START,VIDEO-GAME,FINISH,ALL-NIGHT,VIDEO-GAME,CONTINUE,TO/UNTIL,eyes pop out', '#IF,GIRL+FRIEND,IX-3p:i,fs-BOB,GIVE:i,(R)FLOWER,IX-3p:i,FUTURE,(1h)HAPPY,FRIEND,BUOY', 'fs-JOHN,IX-3p:i,NOT,BREAK,WINDOW,#NO+,IX-3p:j,fs-SALLY,BREAK,WINDOW', 'OLD,MUSIC,round flat,no more,WHY+++,EACH+ONE,IX-3p-pl-arc,HAVE,fs-IPOD,MUSIC,round flat,no more,EACH,HAVE', 'LECTURE,fs-TESTIMONIES,DIFFERENT,MAKE-A-COLLECTION,BECOME,(2h)SAME,fs-BRICOLAGE,gathering information,ORGANIZE,DIFFERENT,MAKE-A-COLLECTION,BECOME,(2h)SAME,gathering information,ORGANIZE', '#IF+,FRIEND,GROUP/TOGETHER,GO-OUT,(P)PARTY+,IX-1p,why not,JOIN,IX-1p,FRIEND,GROUP/TOGETHER,(P)PARTY+,why not,JOIN', 'fs-BOB,IX-3p:i,ARRIVE,(P)PARTY_3,EACH+ONE,MUST,use spray cans,(flat-O)PAY/SPEND,(2h)alt.TEASE,MUST,ARRIVE,(P)PARTY_3,EACH,use spray cans,(flat-O)PAY/SPEND,(2h)alt.TEASE', 'fs-JACK,fs-SUE,MEET,FINISH,MEET,FINISH', 'DURING/WHILE,COLD,IX-1p,(1h)TEND,SICK-continuative,WHY++,(1h)TEND,USE,FLIP-FLOP+,part:indef,DURING/WHILE,COLD,SICK-continuative,USE,FLIP-FLOP+,part:indef', '#NO++,IX-1p,RECENT-PAST,FINISH,HOMEWORK,IX-1p,FINISH,HOMEWORK', 'IX-1p,PROCEED,NOT,INVITE/HIRE,fs-MARY,WHY,IX-3p:i,NOT,AGREE,(5)SOCIAL/INTERACT,GROUP/TOGETHER,NOT,PROCEED,AGREE,(5)SOCIAL/INTERACT,GROUP/TOGETHER', 'BASEBALL,IX-loc:i,GAME,IX-loc:i,HAVE,STAR,BOMB+,IX-1p,MUST,GO,(2h)LOOK,BASEBALL,GAME,HAVE,STAR,BOMB+,whoa,GO,(2h)LOOK', '#IF,POSS-1p,FRIEND,DEPART,(P)PARTY+,IX-1p,POSS-1p,ROOMMATE,IX-1p-pl-2:i,(1h)JOIN,FRIEND,(P)PARTY+,ROOMMATE', 'POSS-1p,SISTER,VOMIT/HATE,WATER,SKI,(25)WHY,HARD,BALANCE,(2h)alt.SKI,SISTER,VOMIT/HATE,SKI,HARD,BALANCE,(2h)alt.SKI', 'fs-JOHN,IX-loc:i,BREAK,WINDOW,#NO+,IX-3p:j,fs-JAMES,BREAK,WINDOW', '(P)PARTY+,START,WHEN,(P)PARTY+,START,WHEN', 'IX-1p,KNOW-THAT,IX-3p:i,MONSTER,HOUSE,IX-1p,SUFFER,ENTER,fs-AT,POSS-1p,#OWN,fs-RISK,MONSTER,HOUSE,ENTER', 'CANNOT,DISTRIBUTE,NUT+BUTTER,IX-3p:i,fs-BETH,IX-loc:i,wow,ALLERGY,NUT+,IX-3p:i,CANNOT,DISTRIBUTE,BUTTER,ALLERGY', 'HERE,ns-BOSTON,NOT,MANY,ANIMAL+,part:indef,HERE,MANY,ANIMAL+,part:indef', 'NOT-YET,NONE/NOTHING+ONE,FIND/FIND-OUT,UMBRELLA,STILL,GONE,part:indef,NONE/NOTHING,UMBRELLA,STILL,GONE,part:indef', 'FRIEND,IX-loc:i,PROCEED,PLAY,FRISBEE,(2h)IX-1p,JOIN,PLAY,FRIEND,PROCEED,PLAY,(2h)IX-1p,JOIN,PLAY', '#IF,IX-2p,WANT+NEG,PIZZA_4,CAN,ORDER,SPAGHETTI,WANT,NEG,CAN,SPAGHETTI', 'POSS-1p,FRIEND,SURF-INTERNET,INTERNET,(1h)TEND,REMIND-2p+,REMEMBER,IX-2p,NOT,FINISH,HOMEWORK,FRIEND,INTERNET,REMEMBER,FINISH,HOMEWORK', 'MOTHER,(2h)IX-loc:i,SICK,IX-3p:i,IX-1p,MUST,CARE+,IX-3p:i,(2h)IX-loc:i,SICK,CARE+', '#NO+,IX-3p:i,(L)LIVE,(L-X)SMALL,#APT,IN,CITY/COMMUNITY,fs-CITY,IX-3p:i,(L)LIVE,(L-X)SMALL,IN,CITY/COMMUNITY', 'FRIEND,IX-loc:i,START,CAR,#WHEN,FRIEND,START,CAR', 'fs-PHIL,(1h)HAVE,KID,CHILDREN,(1h)HOW-MANY/MANY,CHILDREN', 'WHO,ASK,FOR,DIRECT', 'NOW,MOVING-ON-TO-NEXT-TOPIC,TALK,ABOUT,fs-AUDIO,fs-VOCAL,#ORIENTATION,MAJOR,NOW,MOVING-ON-TO-NEXT-TOPIC,ABOUT,MAJOR', 'WHO,BUY,CAR,part:indef,BUY,CAR,part:indef', 'IF+,IX-3p:i,GO-OUT,NOT-MIND+,IX-loc:j,CLOSE-GATE', '#NO++,(nd-1)MOVIE,START,TIME,TEN++,(nd-1)MOVIE,START,TIME', 'WHEN,(crvd-5)POSS-1p,FATHER,START,VIDEO-GAME,IX-1p,whoa,IX-1p,UP,WHY+,IX-loc:i,VIDEO-GAME,BORE,IX-1p,LOOK,WHEN,START,VIDEO-GAME,whoa,VIDEO-GAME', '#IF,MOTHER,IX-loc:i,NICE/CLEAN+,(K)KITCHEN,IX-1p,CANNOT,BAKE/OVEN,COOKIE,NICE/CLEAN+,(K)KITCHEN,CANNOT,BAKE/OVEN,COOKIE', 'BRACELET,POSS-1p,BROTHER,RECENT-PAST,FIND/FIND-OUT,THAT,BRACELET,REALLY+WORK,GOLD/ns-CALIFORNIA,circular bracelet,wow,BRACELET,BROTHER,BRACELET,WORK,circular bracelet']\n"
          ]
        }
      ]
    },
    {
      "cell_type": "code",
      "source": [
        "print(inp)"
      ],
      "metadata": {
        "colab": {
          "base_uri": "https://localhost:8080/"
        },
        "id": "0SYd95Ic608U",
        "outputId": "abac930a-5d8c-4125-acfb-db540232b8b3"
      },
      "execution_count": 25,
      "outputs": [
        {
          "output_type": "stream",
          "name": "stdout",
          "text": [
            "['When does the party start, at 8 or 9?', 'When my sister goes water tubing, I will have to watch her and make sure to stop the boat when she falls off.', 'If mom has time she will bring cookies.', \"No, I wasn't old enough to vote at that time.\", 'My friend wants to buy a plaid shirt.', \"If it snows tomorrow, then it's a guarantee that school will be closed.\", 'I just drank it and it tastes fine.', \"If mom doesn't walk to the store, we won't have milk.\", 'Mother will give me twenty dollars if I clean the kitchen.', 'Who listened to the teacher?', 'I just read a book.', 'It can be expressed through speech or through sign language.', \"It doesn't matter to me. I like anything.\", \"No, today's Thursday, which means tomorrow's Friday.\", 'Where did the friends drive to?', 'My friend is playing video games.', 'What does my sister want for her birthday?', 'Has your friend experienced travelling?', \"Bob hasn't sent the letter.\", 'If my family decides to vacation every year, they will go to Puerto Rico.', 'The DVD that Netflix sent me was all scratched up.', 'Did Jack and Sue already meet?', 'The game finishes before 6? What time?', 'When you leave, would you mind closing the gate?', \"He/She didn't finish because he/she was laying around.\", 'If clothes are on sale, my friends and I will go over to the mall.', \"I didn't see the accident, I was asleep.\", 'Who is planning to surprise Bob?', \"If it rains tomorrow, that means that when I arrive at my uncle's house, I will stay inside.\", \"It's raining so much. Wow.\", 'When Father arrives home late, Mother refuses to make dinner.', 'When my sister goes water tubing, we have to watch to make sure she doesn’t fall off.', 'I watched a movie last night and the actor was good.', 'How did Mother get sick?', 'The friends have not gone to the beach.', \"Mother isn't sick today.\", 'My mother loves glasses because she looks cool in them.', 'No, he lost all the games.', 'Why do you want the BBQ?', 'Where did you buy the car?', 'His idea was the basis for different cultures and their ways to interpret or give meaning to different sensory experiences.', 'Did someone win the lottery?', 'I met a lot of interesting people last night.', \"I starting making an invitation list for my BBQ party, I will have to make sure it's right.\", 'Why is your friend addicted to surfing the internet?', \"It wasn't me who started to open the can.\", 'If my friend finishes his homework early, he will surf the Internet all night.', \"The set up of the two categories was based on Edward Hall's analysis from the idea he presented years ago.\", \"If there's no snow outside, normally school will be open.\", 'My friend passed out last night because he drank too much.', 'Does your friend really love surfing the internet?', 'I love apples in the fall.', 'I was picked to join the club. Wow, it was an honor.', \"I'm not warm, I'm hot.\", 'Did John read that book? No, he never started it.', 'If I arrive at work late, my boss will undoubtedly fire me.', \"I'm letting you know that the car is broken down, I used the the right key.\", 'I am not good at memorizing names of people I’ve already met.', 'When my father arrives home late, we tend to eat pizza for dinner.', 'Where are the clothes that are on sale?', 'If my friend drives, I will sit in the back and sleep.', \"I didn't wash my clothes.\", 'If Jack gets a cat, he will take care of it.', 'The game finishes before 6? What time?', 'If Father arrives home late, he can’t help us with our homework.', 'Now I am studying to go to school.', 'Who wants to play frisbee?', 'What time did my friend crash the party?', 'If my family adopts the puppies, I will immediately go to the pet store to buy collars, of which they have assorted colors.', 'My friend has to drive because I am tired.', 'Does Jack have money?', 'Who sent the letter?', 'Who bought a car?', 'If I go to a public school, it is guaranteed that I won’t pay attention because there is no communication.', 'If the student wins an award, he will get a $100 gift card.', 'When I make a list for the BBQ, I have to make sure I invite all of my friends.', 'Why did the bride and groom end the wedding?', 'Why do you have to move out of San Diego?', 'If the students listen to their teacher, they will learn something.', \"The horses hate the rain- they don't like running in the rain.\", 'I automatically keep information in the back of my mind.', 'Alcohol is not always good.', 'Why do you talk with those two?', 'If Obama picks a Republican, he will be sorry.', 'If my friend buys a plaid shirt, I have to make sure to buy a striped shirt so we don’t match.', 'Who has to pay rent?', 'Will Bill move to New York?', \"I haven't paid rent.\", 'If Father arrives home late, Mother will yell at him because the children wanted to see him.', 'If the bride and groom dance their last dance, everyone would have to watch.', 'Who loves watching fireworks?', 'Bob hates reading books.', 'If my friend succesfully surprises Bob, kudos to him because it’s nearly impossible to surprise Bob!', 'What time does the surprise party start?', \"If it had rained yesterday, I would've gone to the movies for sure.\", 'Where do you work?', 'No, my roommate wasn’t arrested; I just had breakfast with her.', \"I don't want to buy shorts.\", 'Father is lazy and refused to mow the lawn.', 'Who loves watching fireworks?', 'I thought it was terribly boring.', \"Everytime I go to my uncle's house, he tends to stay inside.\", 'I am going to school.', 'Have you ever lived through a winter in Boston? It snows a lot!', \"Now I'm reading a book.\", \"I know it's going rain tomorrow.\", 'Did you not pass out?', 'I have decided not to invite Mary because she doesn’t get along with that crowd.', 'If Bob studies literature, he will pass his final exam.', 'I had to ask for directions because I had no idea where to go.', \"I like it, if it has butter, I'm fine with that.\", 'If John eats spinach, he will get sick.', \"There's no book on the table.\", 'When does the party start, at 8 or 9?', \"If you don't have time tomorrow, you can wash the car on Monday.\", 'What is my aunt an expert at making?', 'Which one of you found my keys?', 'Does the party tonight start at 8 or 9?', 'My family does not vacation every year any more.', 'No, I would not stop vomitting if I ate pineapple cream cheese. I prefer lox.', \"I don't think he was planning to go, but if I see him, I'll have him call you.\", 'If Bob goes to the post office, I will give him all of my mail so he can drop it off.', 'When my friends are  leaving to go to the party, I will let my roommate know that I will be joining them.', 'What kind of car did he buy?', 'My friend wanted a plaid shirt because there will be a formal party soon.', 'There are two different orientation paths, they are based on what?', 'The teacher is sick of always cleaning the classroom, so today he didn’t.', 'When do you start travelling?', 'Who sent the letter?', 'If you order pizza here, it will be delicious.', 'My sister doesn’t want a headband for her birthday.', 'Where did you go to high school?', 'Why is father upset?', 'My pay increased a little bit.', 'When my friend starts to surf the Internet, I have to tell him to do homework.', 'The man who was just thrown out of the plane was Alec Baldwin.', 'I volunteer to help other organizations.', 'When Mother goes to the store, I’ll remind her to get us milk.', 'No, he lost all the games.', 'I analyzed and looked over the math problem.', 'My friends are going fishing.', 'When I finish cleaning the kitchen, mom will take me to my friends house.', 'He/She really feels nothing?', 'I will get a sunburn when I go swimming at the beach because I forgot sunscreen.', \"John isn't here. Does anyone know where he is?\", \"He/She isn't guilty.\", 'Who was it that just bought a car?', 'Where do the horses tend to play?', 'If John eats spinach, he will get nauseous and sick.', 'If Bob is successful at making a fire, I must stay and watch it to make sure it is maintained.', 'What kind of a party is it?', \"If there's no snow outside then normally school isn't cancelled.\", \"Now, on a related topic, how do the deaf people's experiences were included in that world?\", 'Once my friends start dying their hair, many more people will follow.', 'When I passed out last night, everyone cheered me on.', 'What do you usually do on the Internet?', \"If you don't order pizza, you can order pasta instead.\", 'Who sent the letter?', \"The box is really big, it's not small.\", 'How much is that TV?', 'I notice that babies hate fireworks. The fireworks scare the babies.', \"John didn't buy the turkey.\", 'My friend hosted a pizza party because he loves pizza.', 'Who tends to commute to work by bicycle?', 'The previous issue in DESDJ volume one number one, focused on visual feeling specifically the tactile orientation.', 'I love fireworks because they’re beautiful and loud.', \"Bob hasn't gone to the post office yet.\", 'If you want to know, if John wins he will get a teddy bear.', \"If the box hasn't arrived yet you should contact Fedex\", 'When are your friends going fishing?', 'Those kids hate the principal because if they don’t do homework, he will yell at them.', \"If dad doesn't get home too late then he can help us with our homework.\", 'Who arrived late?', 'Who commutes to work by bike?', 'The bride and groom danced their last dance before the wedding ended with their own choice of a song.', 'Who fell in love with Bill?', \"Wow, I'm really tired.\", 'If Bob sends his resume, he will get the job.', 'When did you graduate high school?', 'If the students listen to the teacher, they will learn something.', 'If my friends go out, I will join them.', \"My friend is planning to surprise Bob because he's turning 21.\", 'Yes, I do have homework. I need to write a three-page report.', 'If my friend asks for directions, I have to drive.', 'I doubt that he/she wants anything.', 'Your mom will love the gift you just bought for her.', 'When I arrive at India, I have to send a letter to my parents thanking them for supporting my travels expenses.', 'When do you start work?', 'Are Jen and Joe married?', 'If you order pizza here, I guarantee it will be delicious.', \"If all the students arrive on time, there won't be a test.\", 'What time is the surprise party?', 'Where did Sue move to?', 'No, my roommate wasn’t arrested; I just had breakfast with her.', 'My friend crashed the party because he had just finished his final exam.', 'The article you wrote for the Boston Globe was good.', \"This afternoon I'm going to the store.\", \"If my sister neglects her homework, she won't succeed in school.\", 'If my family decides not to adopt the puppies, my friend probably will.', 'John broke the window.', \"Did Mary stop rowing? No, she's never rowed until now.\", 'If it stops snowing outside then school will reopen tomorrow.', 'My friend loves to go fishing because he loves to eat fish.', 'Is your friend’s party good?', 'The idea is basically how the two modalities are different based on their primary message system and how people express them.', 'Who is asking for directions?', \"Yesterday, I didn't play any golf.\", 'If John has a grin on his face, that means he got the job.', 'No, he’s not a vegetarian; he eats meat.', 'Who arrived late?', 'What did Bob read?', 'I love action movies, not boring dramas.', \"No, I'm going to Hawaii for spring break.\", 'My friends tend to play Frisbee at the park.', 'When I introduce a friend, I will test whether or not he remembers his name later.', \"No, today's Thursday, which means tomorrow's Friday.\", 'Bob hates reading books.', 'The box is not small.', \"I'm working.\", 'If friends host a pizza party, I will bring a pizza with lots of toppings.', \"No, I don't like pineapple cream cheese. I prefer lox.\", 'Most of it is focused on American culture and how people interpret or give meaning to different noises and voices.', 'They are basically based on the idea of how human language is expressed.', 'If Bob sends his resume, he is guaranteed the job.', 'Who is going out fishing?', 'I commute to work by bicycle because I can’t afford a car.', \"I wasn't ready to move out of San Diego, so I stayed.\", 'When the bride and groom danced their last song at their wedding, everyone looked on quietly.', 'Does your friend love surfing the Internet?', \"Friends didn't crash the party.\", 'Where does the horse tend to play?', 'If my friend boldly asks for directions, I am willing to drive.', 'When is bad weather coming to Boston?', 'I have to take the test again.', 'The idea of the primary system for both spoken and sign language is set in their own ways.', 'When do you start travelling?', 'But, for the purpose of this, I would like to focus on two things.', 'The cat that my neighbor found was small and hungry.', 'My sister prefers tubing rather than water skiing because tubing is easier.', 'My ancestors are from Germany.', 'The teacher made the reading required for John so he had to read the book.', 'If the teacher requires John to do it,  John will read the book.', 'If Bob decides to adopt a big dog, he will have to accept the fact that he will spend lots of money on dog food.', 'I have an appointment this afternoon with my teacher.', \"I don't think he was planning to go, but if I see him, I'll have him call you.\", 'When do you start work?', 'Have Jack and Sue met?', 'If I commute to work by bicycle, I will have to wake up earlier.', 'Who has to pay rent?', 'My friend has to drive because I’m exhausted.', 'Why is your group of friends travelling?', 'No, I just came back from dinner. They had no ice cream.', 'What do you have to buy?', 'My friends talked and decided not to crash the party.', 'The man who was just thrown out of the plane was Alec Baldwin.', 'If my mom has time she will bring cookies.', 'I arrived school late because I was in a bike accident.', 'Once my father starts playing video games, I tend to go to my room because it’s boring to watch him and he doesn’t know how to play video games.', 'My friends got together and planned to surprise Bob for his 21st.', 'If the people I invited show up late, they will regret it.', 'If my boss summons me, everyone will know I’m in trouble.', 'How many kids does Phil have?', 'When a friend calls me via VP, the lights flash on and off.', 'What are you looking at on the internet?', \"If you don't want pizza, you can order pasta.\", 'My sister blamed me but I am innocent!', 'No, I just came back from dinner. They had no ice cream.', \"That dog that's chasing the cat isn't mine.\", 'The movie is really scary.', 'If my friend finishes his homework early, it is guaranteed he will be surfing the Internet all night long.', 'Why do you work all night?', 'Many different experiences with discovering the meanings of them.', 'I wish there was pineapple cream cheese.', 'The boy never goes home.', 'Is Bill planning on moving to New York?', 'My friend goes out to a party.', 'If I arrive to work late, my boss will fire me.', 'Who is sick?', \"Oh no, if there's a hurricane, the game is definitely cancelled.\", 'If I went to a public school, I will not pay attention because of the lack of communication.', 'If my friends play Frisbee, I will join and play.', 'If I enjoy talking with those two, it means that I should enjoy talking with all of BU.', 'My friend travels.', 'My friends tend to surf the internet on their laptops.', \"Friends haven't gone to the beach yet.\", 'Who did you send the letter to?', 'Jim threatened to sue the man who punched him.', 'If my aunt makes a blueberry pie, I will run home to gobble all of it up!', 'Where is the video phone that you want?', 'I am not warm, I am cold!', 'Will you go to the post office? Who will?', \"My aunt isn't good at making apple pies.\", 'Do your friend love surfing the internet on their laptop?', 'When the teacher finishes cleaning the classroom, he locks the door.', \"Why do you have to use the video phone? Can't you text?\", 'I love movies. My favorite is comedy or horror movies.', \"He/She doesn't want anything?\", \"If we go out to eat, who's paying?\", 'Who owns this big dog?', 'Why did the bride and groom dance at their wedding?', 'The teacher is sick of always cleaning the classroom.', 'My friends are going out to a party together.', \"That student who was on the quiz show didn't win.\", \"Nope, I don't have a car.\", 'I have to discuss how I should approach the teacher appropriately.', \"No, that's not Sarah Jessica Parker, that was Sarah Palin, they're different.\", 'I just finished reading a book and I noticed there was a page missing.', 'Who will join the friends’ outing to the movie theater?', 'If I see that the beach is crowded, I would not want to go.', 'No, he’s not a vegetarian; he eats meat.', 'I work.', \"He/she doesn't want anything? I doubt that. I think he/she wants something.\", 'My friend passed out last night because it was his birthday.', 'When my friend calls me on the video phone, the lights flash on and off.', 'No, it’s beautiful outside! The sun’s shining and it’s warm and beautiful!', 'When do you finish work?', 'When Bob starts the fire, we will collect logs to keep it going.', 'Why don’t you like that video game?', 'When it snows out a lot school closes right?', 'Are Jen and Joe married?', 'No, I just finished homework.', 'Do you usually talk with Jessica and Donna? What? Why?', \"Who is Liz's famous sister?\", 'The DVD that Netflix sent me was all scratched up.', 'Father is lazy so he refuses to mow the lawn.', \"If the book wasn't boring, I would've read it.\", 'Why did you drink hard and pass out last night?', \"I don't have a car at all.\", 'I work all night because I need the extra money.', 'Friends go to a different movie because they prefer action movies.', \"If my aunt makes a blue (starts signing 'pie') berry pie, I have to go over and eat it.\", \"I'm serious, the car is broken. I tried the key but it isn't working.\", 'No, we do have class next week.', 'If friends go to the beach and suntan, I have to bring sunscreen or else I will burn.', 'Oh no, my mom hates surprises.', 'Who is joining the friends going to the movie theater?', 'My friend likes to use the Internet because he uses Google Chrome and it is fast.', 'The students refuse to listen to the teacher.', 'There are a lot of key points to cover related to the audio vocal orientation concept.', \"No, I'm not scared of heights. What makes you think that?\", 'Who is asking for directions?', 'My friend loves going fishing because he loves fresh fish for dinner.', 'Where does your family tend to vacation every year?', 'I start off warm and then later I get really hot.', 'We will expand on the voice and control of sounds in connection with the experiences.', 'If the horse plays all day on the farm, it will fall asleep easily at night.', 'Who is sick?', 'If my friend starts to play video games, he will continue until his eyes fall out!', 'Does the friend reallhy want to buy the plaid shirt?', 'The student who won the award will get a $100 voucher.', 'Who loves to watch fireworks?', 'The watch that my brother just found is real gold!', \"If it rains tomorrow when I arrive at my uncle's house, I will stay inside.\", 'Who was it that just bought a car?', 'Is that videogame easy to beat?', 'My friend caught a fish. I hurried and got a bucket and filled it with water to put the fish in to save the fish for dinner.', 'Does Jack have money?', 'When is the pizza party that friend is hosting?', 'When I move to San Diego, I have to get a driver’s license.', 'Where do you want the video phone?', 'Who is going to the post office?', 'The cat that my neighbor found was small and hungry.', 'Which one of you found my keys?', 'If the kids play at the park, they will be tired later in the afternoon.', 'I moved to San Diego because of a new job offer.', 'Do you want to get together for a BBQ party?', 'If I decide not to swim in the water, I will walk on the shore.', 'My friends are travelling together.', 'Wow, that coat you just bought looks warm!', 'I love riding in airplanes and flying different places.', 'No, the movie starts at 10.', 'What did Bob give to his girlfriend?', 'My friend plays video games all day because he does nothing else.', 'If OJ is innocent then my grandma can ride a bike.', 'Good weather has not arrived in Boston… Hurry up!', 'Which college did Mary go to?', 'Who is cooking dinner?', \"People from different cultures don't just speak different languages.\", \"No, Mitt Romney is a Mormon, but Rick Perry isn't.\", 'Why are the friends going to the beach?', 'If my friend is sick of driving, we will switch and I will drive.', 'My friend went to a different movie because he prefers action and horror movies.', 'Did your friend drive?', 'Where are the clothes on sale?', 'Is the video game easy to beat?', 'No, I did use the right key. The car is broken.', \"No, it won't rain, but if it does the game will be cancelled for sure.\", 'Who arrived late?', 'Someone bought the car. Who was it?', '“Don’t eat cookies with butter.” “Well, I like cookies, but if they have butter, I still don’t care.”', 'Where do you work?', \"American Airlines isn't that expensive, but if it was, then I'd be stuck because it's the only airline that flies between Boston and Florida.\", 'Wow, that coat you just bought looks warm!', 'Is the video phone clear?', 'I don’t want to buy shorts.', 'If clothes are on sale, my friends and I are definitely going to the mall.', 'I don’t like asking for directions.', 'The friends have not played Frisbee.', \"No, I'm not happy.\", 'How many children does Phil have?', 'I watched a movie last night. I was really scared.', 'However, more importantly, they also live in a different sensory world.', \"If you're arriving late, it's fine. I just have to call the restauarnt and postpone the reservation.\", 'Last Monday, I knew it would rain the next day.', \"I'm not.\", \"What? No, right now we're in an economic crisis.\", 'The friends have not gone to the theater because of traffic.', 'Where did Sue move to?', 'In 1982, Edward Hall wrote about it, as he quoted.', 'My friend prefers video phone over texting because he can use ASL.', 'When Mary is not happy, no one is.', \"I already know that there's pineapple cream cheese.\", 'When we arrive in India, I have to send my family a postcard thanking them for support.', \"John didn't see me.\", 'Why do you work all night?', 'Why do you hate video games?', 'Who owns that big dog?', 'I thought it was terribly boring.', 'If you find my keys, please give them back to me.', 'My sister hates water skiing because it is hard to balance.', \"If father gets home late, (he/she) won't realize that he is not at home.\", 'Who has to pay rent?', 'When did you graduate high school?', \"If it rains tomorrow when I arrive at my uncle's house, I will stay inside.\", \"If it's snowing outside a lot, will school be cancelled?\", 'Who will go to the post office?', 'My friend is surfing the web.', \"No, not pineapple cream cheese. Lox is better for me, that's it.\", 'I tend to exercise after class.', 'Why do you have to move to San Diego?', \"No, Mitt Romney is a Mormon, but Rick Perry isn't.\", 'Yesterday I worked all day.', \"John didn't buy the turkey, James did.\", 'If Bob is surprised at his surprise party, it is commendable because it is difficult to surprise Bob.', \"If my mom says I can go to the concert, I'll be thrilled.\", \"Age isn't important.\", \"The teacher didn't make the reading required. It's uncertain whether or not John will read the book now.\", \"No, I've never run a marathon before, and I don't plan to start now.\", 'I asked my teacher for some advice and we had a discussion.', \"Cool? No, McDonald's is a fast food resteraunt, they give out hamburgers.\", \"Is it raining outside? No, because the temperature dropped, it's snowing.\", 'The student would not obey the teacher.', 'Who is paying rent?', \"No, I'm going to Hawaii for spring break.\", 'Who bought a car?', 'My friends are going to watch a different movie because they wanted something different.', \"I don't know if my sister likes Boston.\", \"Bob hasn't gone to the post office.\", \"You weren't passed out drunk, were you?\", 'The driver of the car that rear-ended me at a red light was talking on the phone at the time.', 'If my son is born tomorrow, he will be born in 2013.', 'Who bought a car?', 'I am not good at remembering the names of new people.', 'The boy arrived home.', 'What kind of car did he buy?', 'My boss works in an office right above me.', 'That baby doesn’t like fireworks; it’s crying.', 'However, when the speech is used, they also use the gestures. It goes the same with sign language using the voice in their language.', 'Why are friends going to the beach?', 'If Jack has a wife, then he loves her.', 'I guarantee that the parents will be mad if the children dye their hair orange.', 'Last night, I played basketball with friends. It was a close game and we barely beat them, 30-28.', 'Where are you going?', \"I'm not going to move out to San Diego because I'm not even ready.\", 'I have to buy shorts because it is hot outside.', 'What did Bob give his girlfriend?', 'My friend, if he has nothing to do, he will play video games all day.', \"If my friends are going fishing, I will check the weather report to make sure it's okay.\", 'What time did the friend crash the party?', 'Someone found my keys, who was it?', 'Last night, there was an accident and traffic was horrible.', 'What kind of car did you buy yesterday?', 'If I mow the lawn, Mother will give me twenty dollars.', 'When I arrive school, I have to text my mother to tell her I’ve arrived safely.', 'No, he lives in a small apartment in the city.', 'I just drank it and it tastes fine.', \"You're wrong, that is not pineapple cream cheese. I prefer lox.\", \"No, I didn't go.\", 'Who is sick?', 'What time is water tubing?', 'Where do you plan to travel?', \"The bride and groom didn't dance.\", 'The driver of the car that rear-ended me at a red light was talking on the phone at the time.', \"No, it won't rain, but if it does the game will be cancelled for sure.\", 'My worst enemy is my alarm clock.', 'No, I just came back from dinner. They had ice cream.', \"It's not raining outside. Oh,wait a minute.\", \"We can't give out peanut butter, Beth is deathly allergic to peanuts,\", 'Did you graduate high school?', \"Was my friends' party good?\", 'Why did you pass out last night?', 'Pete loves computers; he has three set up one next to the other at home!', \"Oh no, if there's a hurricane, the game is definitely cancelled.\", \"I like it, if it has butter, I'm fine with that.\", 'If Mother goes to the store, she will buy milk.', 'Where is the grocery store?', 'Who commutes to work by bike?', \"You look like you don't feel good. Are you okay - what's wrong?\", 'Will Bill move to New York?', 'Who listens to the teacher?', 'When I meet new people I’m lousy at memorizing their names.', 'Who owns that big dog?', 'I am very unhappy.', \"Cool? No, McDonald's is a fast food resteraunt, they give out hamburgers.\", \"John didn't buy the turkey.\", 'I really do have pineapple cream cheese.', \"Mary stopped rowing. She's not going to do it any more.\", 'Go home!', 'Honestly, I don’t like commuting to work by bicycle.', \"Bob hasn't given the rose to his girlfriend.\", \"No, I don't have a car.\", 'When do you graduate?', 'My friend is driving.', 'The teacher gave out the answers to the test.', 'If my friends go camping, I will go with them.', 'Is the video phone clear?', 'No, it’s beautiful outside! The sun’s shining and it’s warm and beautiful!', 'Where did you put the tree?', 'Would the game finish before six?', 'The bride and groom didn’t dance the last dance at the wedding.', 'If Bob studies for his literature test, he will pass it for sure.', 'I love you because you are so good at making people laugh.', 'I haven’t yet paid rent.', 'What is Bob reading?', \"My friend doesn't want to buy a plaid shirt.\", 'Did I say John? Oh, I made that up. I meant James.', 'Who is asking for directions?', 'When are the friends going fishing?', 'Who is that person?', 'Who listened to the teacher?', 'When I arrive at school, I let my mom know that I have arrived at school safely.', \"Friends didn't want a pizza night because they always have a pizza night.\", \"Friends haven't started playing Frisbee.\", \"What? No, right now we're in an economic crisis.\", \"I don't want anything.\", 'Who went out when it was raining?', 'My friend loves the Internet because there are many different websites.', \"If I commute to work by bike, then I'll have to wake up earlier.\", 'Why does your friend love travelling?', 'Bob does not have a big dog; he has a small one.', \"No, I don't have a car.\", 'The box is small.', \"It hasn't rained recently.\", 'What time did the teacher start cleaning?', 'I noticed my sister acting strange.', 'When does the bad weather start in Boston?', 'I got a D in the class; I accepted it.', 'Last night, my friend passed out because he drank too much.', 'Bob hasn’t given his girlfriend roses yet.', \"It doesn't matter if it rains or not, I will still go ahead and go swimming.\", 'My friend loves traveling all over. His favorite place is Asia because their food is delicious.', 'The article you wrote for the Boston Globe was good.', 'Do you have to work all night?', \"He/she will go to school if it's not canceled.\", 'I enjoyed talking with Jessica and Donna because I enjoy talking in ASL.', \"I don't know if my sister likes Boston.\", 'When is the pizza party that my friend is hosting?', 'Last break, I completed all of my homework ahead of time.', \"I'm almost finished with my homework.\", 'The box is really big.', \"No, I've never run a marathon before, and I don't plan to start now.\", \"If I have to pay rent now, that is fine, I'll just cancel my vacation.\", \"Back in high school, my mom would wake me up every morning because I didn't feel the alarm and slept through it.\", 'If Bob adopts a big dog, he has to accept that he will spend lots of money on the dog.', 'When my friend is tired of driving, we will switch.', 'If your friend passes out, I won’t take care of him.', 'Where did Sue move?', 'Why is Jack nauseated?', 'Who owns this big dog?', 'If I buy the shorts, I will have to return the shoes.', \"I'm not happy, I'm sad.\", 'Someone found my keys, who was it?', 'And how they coped and navigated through the world and the feedbacks they received from others.', 'Who tends to commute to work by bicycle?', \"I'm not skilled.\", 'Who wants to play Frisbee?', 'My aunt isn’t an expert at making apple pies.', \"There's no book on the table.\", 'I enjoy talking with Donna and Jessica, but I also enjoy talking with everyone else.', 'If Bob goes to the post office, I will give him my letters to drop off.', 'When my friend goes out fishing, the fish has to go in the bucket immediately so it will be fresh.', 'If Mary is not happy, no one is.', 'If Obama picks a Republican, he will be sorry.', 'Does Jack have money?', 'Did Jack see something weird while he was waiting outside?', \"If there's no time tomorrow, you can wash the car on Monday.\", 'Who found my keys?', \"Who's driving?\", 'My friend drives.', \"The clothes aren't on sale.\", 'Mac beats PC because Mac is good at suiting people’s needs.', 'Who will go to the post office?', 'They assigned me many tasks.', \"I didn't enjoy talking with those two.\", \"You didn't pass out?\", 'My friend is currently planning a surprise event.', 'The man who broke into a house in Newton is probably the same person who broke into a house in Brookline,', \"If the box hasn't arrived yet you need to contact Fedex.\", 'My friend goes out fishing.', 'My friends realized they didn’t want a pizza party because it has been the norm.', \"That student who was on the quiz show didn't win.\", \"I won't be thrilled if there's pineapple cream cheese.\", 'Which high school did you go to?', \"If I wasn't so afraid, I would've gone white water rafting.\", 'The second part of this article is titled Sensory Orientation.', 'Who fell in love with Bill?', \"If John isn't here, does anyone know where he went?\", 'Do you really need to video phone? Why not page?', \"When I move out of San Diego, I will have to get a new driver's license.\", 'Which famous actor is Liz related to?', 'Are Jen and Joe married?', \"If my sister neglects her homework, she won't succeed in school.\", 'Last night, I was drunk; everyone was cheering me on.', \"No, he/she didn't stop.\", 'One time, I missed my morning class because I accidentally over slept.', 'Which college does Mary go to?', 'My friends are playing video games.', 'If my friend goes out to a party, I will join them for sure.', 'When my friends leave, I will finally start on my homework.', 'You are wrong. No, I prefer lox, I don’t like pineapple cream cheese.', \"What's your job?\", 'Did Jack see something weird while he was waiting outside?', \"American Airlines isn't that expensive, but if it was, then I'd be stuck because it's the only airline that flies between Boston and Florida.\", 'If the horses play all day on the farm, by nighttime they will be exhausted.', \"The box isn't small it's large.\", 'Who is he/she?', 'Why is dad upset? I have no idea...', 'Why is your friend addicted to the Internet?', \"No, I'm not scared of heights. What makes you think that?\", 'If your friend crashes my party, I will kick him out.', 'Why does the friend look fucked up?', \"They will start to have the understanding by learning through experiences. We often use the Deaf people's experience through narratives to discuss the understanding of the American culture.\", \"I'm not tired.\", 'If I buy shorts, I would have to return my shoes.', 'Each student that received an award is here watching.', 'The man who broke into a house in Newton is probably the same person who broke into a house in Brookline,', \"If it's quiet in here it probably means that there are children upstairs sleeping.\", 'Where is your friend driving to?', 'Who loves watching fireworks?', 'If my friends do not want to go out, I will stay home and watch television.', \"My sister doesn't want a headband for her birthday.\", 'If Mary gets home late, John will probably be upset.', 'Who wants to play frisbee?', 'My sister wants a headband for her birthday because she has long hair.', \"The teacher is sick of cleaning the classroom, so he didn't clean the room.\", 'I arrived at school late because I got into a bicycle accident.', 'The first one is the voice and the second one is the control of sounds.', 'Will Bob be surprised by the surprise event?', 'Who loves to watch fireworks?', 'When I introduce a new friend, I will test and make sure he remembers the names.', 'What kind of party is it?', \"No, no one has found the umbrella, it's still missing.\", \"The teacher didn't make the reading required so John didn't read.\", 'Mother looks sick? How?', 'My friend loves travelling, especially in Asian countries because there’s more of a variety of things to do, compared to other countries.', \"If it's snowing out, then school is cancelled.\", 'If my friend is driving, I sleep in the back seat.', \"When my boss calls me, everyone looks at me and they know I'm in trouble.\", 'If my friend hosts a pizza party, I will bring a supreme sized pizza.', 'If my sister gets a headband for her birthday, she will definitely decorate it with glitter.', \"I'm always serious in school.\", 'Pete loves computers; he has three set up one next to the other at home!', 'When Jack went out, did he see something strange?', 'If my friend goes out fishing, I have to monitor the weather to make sure it’s fine for fishing.', 'Last night I did a lot of homework.', 'My friend is calling home on the video phone.', 'If he actually liked his food, we would have cleaned his plate. He did not, so something is wrong.', 'Once my friend starts playing video games, he is hooked to it all night until his eyes pop out.', 'If Bob gives his girlfriend roses, she will be happy.', \"John didn't break the window, Sally did.\", \"People aren't using records anymore because they have iPods now.\", \"The testimonies as well. It's becoming to be like a bricolage, but we collect and organize the deaf experiences instead.\", 'If my friends are going to the party, I will join.', 'When Bob arrives at the party, everyone has to spray him with silly string and tease him.', 'Have Jack and Sue met?', 'During the winter, I tend to get sick a lot because I tend to wear flip flops.', 'No, I just finished homework.', \"I decided not to invite Mary because she wouldn't get along with people.\", 'If the baseball game has fireworks, I have to go.', 'If my friend goes out to a party, my roommate and I will join.', \"My sister hates water skiing because it's hard to balance.\", \"John didn't break the window, James did.\", 'When does the party start?', 'I know that I should enter the haunted house at my own risk.', \"We can't give out peanut butter, Beth is deathly allergic to peanuts,\", \"There's not many animals here in Boston.\", \"No, no one has found the umbrella, it's still missing.\", 'If friends play frisbee, I will  join them.', \"If you don't want pizza, you can order pasta.\", 'When my friend is surfing the Internet, I remind him about his unfinished homework.', 'If mother is sick, I have to take care of her.', 'No, he lives in a small apartment in the city.', 'When did your friend start driving?', 'How many kids does Phil have?', 'Who is asking for directions?', 'Now as we move on to the next topic we will talk specifically about the audio vocal orientation.', 'Who bought the car?', 'If he/she leaves, would you mind closing door/gate?', 'No, the movie starts at 10.', \"When my father starts to play video games, I go upstairs because it's boring to watch him play.\", 'If Mother cleans the kitchen, it means we can’t bake cookies.', 'The watch that my brother just found is real gold!']\n"
          ]
        }
      ]
    },
    {
      "cell_type": "code",
      "source": [
        "BUFFER_SIZE = len(inp)\n",
        "BATCH_SIZE = 64\n",
        "\n",
        "dataset = tf.data.Dataset.from_tensor_slices((inp, target)).shuffle(BUFFER_SIZE)\n",
        "dataset = dataset.batch(BATCH_SIZE)"
      ],
      "metadata": {
        "id": "HrGfj_VT64ND"
      },
      "execution_count": 26,
      "outputs": []
    },
    {
      "cell_type": "code",
      "source": [
        "for example_input_batch, example_target_batch in dataset.take(1):\n",
        "  print(example_input_batch[:5])\n",
        "  print()\n",
        "  print(example_target_batch[:5])\n",
        "  break"
      ],
      "metadata": {
        "colab": {
          "base_uri": "https://localhost:8080/"
        },
        "id": "fPLyhZs_7Lfa",
        "outputId": "686d2acf-dd38-4343-d4ee-ef875b541051"
      },
      "execution_count": 27,
      "outputs": [
        {
          "output_type": "stream",
          "name": "stdout",
          "text": [
            "tf.Tensor(\n",
            "[b'When a friend calls me via VP, the lights flash on and off.'\n",
            " b'If my friend goes out to a party, my roommate and I will join.'\n",
            " b'If my friends go camping, I will go with them.'\n",
            " b'They are basically based on the idea of how human language is expressed.'\n",
            " b'No, I just came back from dinner. They had no ice cream.'], shape=(5,), dtype=string)\n",
            "\n",
            "tf.Tensor(\n",
            "[b'WHEN,FRIEND,i:CALL-ON-RELAY/VRS-1p,#VP,LIGHT,LIGHT-FLASH,WHEN,FRIEND,i:CALL-ON-RELAY/VRS-1p,LIGHT-FLASH'\n",
            " b'#IF,POSS-1p,FRIEND,DEPART,(P)PARTY+,IX-1p,POSS-1p,ROOMMATE,IX-1p-pl-2:i,(1h)JOIN,FRIEND,(P)PARTY+,ROOMMATE'\n",
            " b'#IF,POSS-1p,FRIEND,GO-OUT,CAMP+,IX-1p,FUTURE,GO-OUT,WITH,IX-pl-arc,FRIEND,CAMP+,WITH'\n",
            " b'BELOW_2,ON,IDEA,HOW,fs-HUMAN,LANGUAGE,EXPRESS,BELOW_2,ON,HOW,LANGUAGE,EXPRESS'\n",
            " b'#NO+,IX-1p,RECENT-PAST,#BACK_2,FROM,DINNER,IX-3p:i,NONE/NOTHING,ICE-CREAM,IX-honorific:i,FROM,NONE/NOTHING'], shape=(5,), dtype=string)\n"
          ]
        }
      ]
    },
    {
      "cell_type": "code",
      "source": [
        "def lower(text):\n",
        "  text = tf.strings.join(['[START]', text, '[END]'], separator=' ')\n",
        "  return text"
      ],
      "metadata": {
        "id": "jIUuzYaF9W-M"
      },
      "execution_count": 28,
      "outputs": []
    },
    {
      "cell_type": "code",
      "source": [
        "max_vocab_size = 700\n",
        "\n",
        "input_text_processor = tf.keras.layers.TextVectorization(\n",
        "    standardize=lower,\n",
        "    max_tokens=max_vocab_size)"
      ],
      "metadata": {
        "id": "37ctG5es9eub"
      },
      "execution_count": 29,
      "outputs": []
    },
    {
      "cell_type": "code",
      "source": [
        "input_text_processor.adapt(inp)\n",
        "\n",
        "input_text_processor.get_vocabulary()[:10]"
      ],
      "metadata": {
        "colab": {
          "base_uri": "https://localhost:8080/"
        },
        "id": "zkl8qwl-9oas",
        "outputId": "8e7a362a-09a2-4994-95b8-d6f7d7009248"
      },
      "execution_count": 30,
      "outputs": [
        {
          "output_type": "execute_result",
          "data": {
            "text/plain": [
              "['', '[UNK]', '[START]', '[END]', 'the', 'I', 'to', 'If', 'a', 'is']"
            ]
          },
          "metadata": {},
          "execution_count": 30
        }
      ]
    },
    {
      "cell_type": "code",
      "source": [
        "output_text_processor = tf.keras.layers.TextVectorization(\n",
        "    standardize=lower,\n",
        "    max_tokens=max_vocab_size)\n",
        "\n",
        "output_text_processor.adapt(target)\n",
        "output_text_processor.get_vocabulary()[:10]"
      ],
      "metadata": {
        "colab": {
          "base_uri": "https://localhost:8080/"
        },
        "id": "Zt_gwrCM-HDl",
        "outputId": "fbcca251-ffb7-42b4-ffd1-94cfa25d3345"
      },
      "execution_count": 31,
      "outputs": [
        {
          "output_type": "execute_result",
          "data": {
            "text/plain": [
              "['', '[UNK]', '[START]', '[END]', 'go', 'wave', 'passed', 'of', 'out', \"don't\"]"
            ]
          },
          "metadata": {},
          "execution_count": 31
        }
      ]
    },
    {
      "cell_type": "code",
      "source": [
        "example_tokens = input_text_processor(example_input_batch)\n",
        "example_tokens[:3, :10]"
      ],
      "metadata": {
        "colab": {
          "base_uri": "https://localhost:8080/"
        },
        "id": "p7U4GghB-Ol1",
        "outputId": "83a7d671-3185-460a-e9b4-efe1b3289a54"
      },
      "execution_count": 32,
      "outputs": [
        {
          "output_type": "execute_result",
          "data": {
            "text/plain": [
              "<tf.Tensor: shape=(3, 10), dtype=int64, numpy=\n",
              "array([[  2,  23,   8,  15, 427,  66,   1,   1,   4, 623],\n",
              "       [  2,   7,  10,  15,  72,  38,   6,   8, 107,  10],\n",
              "       [  2,   7,  10,  32,  34,   1,   5,  11,  34,  33]])>"
            ]
          },
          "metadata": {},
          "execution_count": 32
        }
      ]
    },
    {
      "cell_type": "code",
      "source": [
        "input_vocab = np.array(input_text_processor.get_vocabulary())\n",
        "tokens = input_vocab[example_tokens[0].numpy()]\n",
        "' '.join(tokens)"
      ],
      "metadata": {
        "colab": {
          "base_uri": "https://localhost:8080/",
          "height": 35
        },
        "id": "OiAxTaje-Url",
        "outputId": "2cfc4b80-eba0-4d12-824b-bb938ecb20a2"
      },
      "execution_count": 33,
      "outputs": [
        {
          "output_type": "execute_result",
          "data": {
            "text/plain": [
              "'[START] When a friend calls me [UNK] [UNK] the lights flash on and off. [END]               '"
            ],
            "application/vnd.google.colaboratory.intrinsic+json": {
              "type": "string"
            }
          },
          "metadata": {},
          "execution_count": 33
        }
      ]
    },
    {
      "cell_type": "code",
      "source": [
        "embedding_dim = 1024\n",
        "units = 1024"
      ],
      "metadata": {
        "id": "4aOZx9NI-jIt"
      },
      "execution_count": 34,
      "outputs": []
    },
    {
      "cell_type": "code",
      "source": [
        "class Encoder(tf.keras.layers.Layer):\n",
        "  def __init__(self, input_vocab_size, embedding_dim, enc_units):\n",
        "    super(Encoder, self).__init__()\n",
        "    self.enc_units = enc_units\n",
        "    self.input_vocab_size = input_vocab_size\n",
        "\n",
        "    # The embedding layer converts tokens to vectors\n",
        "    self.embedding = tf.keras.layers.Embedding(self.input_vocab_size,\n",
        "                                               embedding_dim)\n",
        "\n",
        "    # The GRU RNN layer processes those vectors sequentially.\n",
        "    self.gru = tf.keras.layers.GRU(self.enc_units,\n",
        "                                   # Return the sequence and state\n",
        "                                   return_sequences=True,\n",
        "                                   return_state=True,\n",
        "                                   recurrent_initializer='glorot_uniform')\n",
        "\n",
        "  def call(self, tokens, state=None):\n",
        "    shape_checker = ShapeChecker()\n",
        "    shape_checker(tokens, ('batch', 's'))\n",
        "\n",
        "    # 2. The embedding layer looks up the embedding for each token.\n",
        "    vectors = self.embedding(tokens)\n",
        "    shape_checker(vectors, ('batch', 's', 'embed_dim'))\n",
        "\n",
        "    # 3. The GRU processes the embedding sequence.\n",
        "    #    output shape: (batch, s, enc_units)\n",
        "    #    state shape: (batch, enc_units)\n",
        "    output, state = self.gru(vectors, initial_state=state)\n",
        "    shape_checker(output, ('batch', 's', 'enc_units'))\n",
        "    shape_checker(state, ('batch', 'enc_units'))\n",
        "\n",
        "    # 4. Returns the new sequence and its state.\n",
        "    return output, state"
      ],
      "metadata": {
        "id": "raTDdC9s-pnf"
      },
      "execution_count": 35,
      "outputs": []
    },
    {
      "cell_type": "code",
      "source": [
        "# Convert the input text to tokens.\n",
        "example_tokens = input_text_processor(example_input_batch)\n",
        "\n",
        "# Encode the input sequence.\n",
        "encoder = Encoder(input_text_processor.vocabulary_size(),\n",
        "                  embedding_dim, units)\n",
        "example_enc_output, example_enc_state = encoder(example_tokens)\n",
        "\n",
        "print(f'Input batch, shape (batch): {example_input_batch.shape}')\n",
        "print(f'Input batch tokens, shape (batch, s): {example_tokens.shape}')\n",
        "print(f'Encoder output, shape (batch, s, units): {example_enc_output.shape}')\n",
        "print(f'Encoder state, shape (batch, units): {example_enc_state.shape}')"
      ],
      "metadata": {
        "colab": {
          "base_uri": "https://localhost:8080/"
        },
        "id": "SWCkxYJe-wjW",
        "outputId": "f3ebad0f-d735-4331-9c80-1f130456990d"
      },
      "execution_count": 36,
      "outputs": [
        {
          "output_type": "stream",
          "name": "stdout",
          "text": [
            "Input batch, shape (batch): (64,)\n",
            "Input batch tokens, shape (batch, s): (64, 30)\n",
            "Encoder output, shape (batch, s, units): (64, 30, 1024)\n",
            "Encoder state, shape (batch, units): (64, 1024)\n"
          ]
        }
      ]
    },
    {
      "cell_type": "code",
      "source": [
        "class BahdanauAttention(tf.keras.layers.Layer):\n",
        "  def __init__(self, units):\n",
        "    super().__init__()\n",
        "    # For Eqn. (4), the  Bahdanau attention\n",
        "    self.W1 = tf.keras.layers.Dense(units, use_bias=False)\n",
        "    self.W2 = tf.keras.layers.Dense(units, use_bias=False)\n",
        "\n",
        "    self.attention = tf.keras.layers.AdditiveAttention()\n",
        "\n",
        "  def call(self, query, value, mask):\n",
        "    shape_checker = ShapeChecker()\n",
        "    shape_checker(query, ('batch', 't', 'query_units'))\n",
        "    shape_checker(value, ('batch', 's', 'value_units'))\n",
        "    shape_checker(mask, ('batch', 's'))\n",
        "\n",
        "    # From Eqn. (4), `W1@ht`.\n",
        "    w1_query = self.W1(query)\n",
        "    shape_checker(w1_query, ('batch', 't', 'attn_units'))\n",
        "\n",
        "    # From Eqn. (4), `W2@hs`.\n",
        "    w2_key = self.W2(value)\n",
        "    shape_checker(w2_key, ('batch', 's', 'attn_units'))\n",
        "\n",
        "    query_mask = tf.ones(tf.shape(query)[:-1], dtype=bool)\n",
        "    value_mask = mask\n",
        "\n",
        "    context_vector, attention_weights = self.attention(\n",
        "        inputs = [w1_query, value, w2_key],\n",
        "        mask=[query_mask, value_mask],\n",
        "        return_attention_scores = True,\n",
        "    )\n",
        "    shape_checker(context_vector, ('batch', 't', 'value_units'))\n",
        "    shape_checker(attention_weights, ('batch', 't', 's'))\n",
        "\n",
        "    return context_vector, attention_weights"
      ],
      "metadata": {
        "id": "m0U65JSJ-4J9"
      },
      "execution_count": 37,
      "outputs": []
    },
    {
      "cell_type": "code",
      "source": [
        "attention_layer = BahdanauAttention(units)"
      ],
      "metadata": {
        "id": "dsZRVwiZ-9vm"
      },
      "execution_count": 38,
      "outputs": []
    },
    {
      "cell_type": "code",
      "source": [
        "(example_tokens != 0).shape"
      ],
      "metadata": {
        "colab": {
          "base_uri": "https://localhost:8080/"
        },
        "id": "t3hoPgrV_SRO",
        "outputId": "e6724461-e52d-46f2-b9c9-c9e3a6aab1e9"
      },
      "execution_count": 39,
      "outputs": [
        {
          "output_type": "execute_result",
          "data": {
            "text/plain": [
              "TensorShape([64, 30])"
            ]
          },
          "metadata": {},
          "execution_count": 39
        }
      ]
    },
    {
      "cell_type": "code",
      "source": [
        "# Later, the decoder will generate this attention query\n",
        "example_attention_query = tf.random.normal(shape=[len(example_tokens), 2, 10])\n",
        "\n",
        "# Attend to the encoded tokens\n",
        "\n",
        "context_vector, attention_weights = attention_layer(\n",
        "    query=example_attention_query,\n",
        "    value=example_enc_output,\n",
        "    mask=(example_tokens != 0))\n",
        "\n",
        "print(f'Attention result shape: (batch_size, query_seq_length, units):           {context_vector.shape}')\n",
        "print(f'Attention weights shape: (batch_size, query_seq_length, value_seq_length): {attention_weights.shape}')"
      ],
      "metadata": {
        "colab": {
          "base_uri": "https://localhost:8080/"
        },
        "id": "WrL5Bpvj_UZI",
        "outputId": "9536c156-bfbd-4b2e-f758-73cbaa32bf78"
      },
      "execution_count": 40,
      "outputs": [
        {
          "output_type": "stream",
          "name": "stdout",
          "text": [
            "Attention result shape: (batch_size, query_seq_length, units):           (64, 2, 1024)\n",
            "Attention weights shape: (batch_size, query_seq_length, value_seq_length): (64, 2, 30)\n"
          ]
        }
      ]
    },
    {
      "cell_type": "code",
      "source": [
        "attention_weights.shape"
      ],
      "metadata": {
        "colab": {
          "base_uri": "https://localhost:8080/"
        },
        "id": "AeKblRwW_gKI",
        "outputId": "96c51b8c-2c27-4be7-9650-e1148861501a"
      },
      "execution_count": 41,
      "outputs": [
        {
          "output_type": "execute_result",
          "data": {
            "text/plain": [
              "TensorShape([64, 2, 30])"
            ]
          },
          "metadata": {},
          "execution_count": 41
        }
      ]
    },
    {
      "cell_type": "code",
      "source": [
        "attention_slice = attention_weights[0, 0].numpy()\n",
        "attention_slice = attention_slice[attention_slice != 0]"
      ],
      "metadata": {
        "id": "4YcfxmG5_jEC"
      },
      "execution_count": 42,
      "outputs": []
    },
    {
      "cell_type": "code",
      "source": [
        "class Decoder(tf.keras.layers.Layer):\n",
        "  def __init__(self, output_vocab_size, embedding_dim, dec_units):\n",
        "    super(Decoder, self).__init__()\n",
        "    self.dec_units = dec_units\n",
        "    self.output_vocab_size = output_vocab_size\n",
        "    self.embedding_dim = embedding_dim\n",
        "\n",
        "    # For Step 1. The embedding layer convets token IDs to vectors\n",
        "    self.embedding = tf.keras.layers.Embedding(self.output_vocab_size,\n",
        "                                               embedding_dim)\n",
        "\n",
        "    # For Step 2. The RNN keeps track of what's been generated so far.\n",
        "    self.gru = tf.keras.layers.GRU(self.dec_units,\n",
        "                                   return_sequences=True,\n",
        "                                   return_state=True,\n",
        "                                   recurrent_initializer='glorot_uniform')\n",
        "\n",
        "    # For step 3. The RNN output will be the query for the attention layer.\n",
        "    self.attention = BahdanauAttention(self.dec_units)\n",
        "\n",
        "    # For step 4. Eqn. (3): converting `ct` to `at`\n",
        "    self.Wc = tf.keras.layers.Dense(dec_units, activation=tf.math.tanh,\n",
        "                                    use_bias=False)\n",
        "\n",
        "    # For step 5. This fully connected layer produces the logits for each\n",
        "    # output token.\n",
        "    self.fc = tf.keras.layers.Dense(self.output_vocab_size)"
      ],
      "metadata": {
        "id": "iJ0jdvzJ_wNL"
      },
      "execution_count": 43,
      "outputs": []
    },
    {
      "cell_type": "code",
      "source": [
        "class DecoderInput(typing.NamedTuple):\n",
        "  new_tokens: Any\n",
        "  enc_output: Any\n",
        "  mask: Any\n",
        "\n",
        "class DecoderOutput(typing.NamedTuple):\n",
        "  logits: Any\n",
        "  attention_weights: Any"
      ],
      "metadata": {
        "id": "_g1NYUK2_4wS"
      },
      "execution_count": 44,
      "outputs": []
    },
    {
      "cell_type": "code",
      "source": [
        "def call(self,\n",
        "         inputs: DecoderInput,\n",
        "         state=None) -> Tuple[DecoderOutput, tf.Tensor]:\n",
        "  shape_checker = ShapeChecker()\n",
        "  shape_checker(inputs.new_tokens, ('batch', 't'))\n",
        "  shape_checker(inputs.enc_output, ('batch', 's', 'enc_units'))\n",
        "  shape_checker(inputs.mask, ('batch', 's'))\n",
        "\n",
        "  if state is not None:\n",
        "    shape_checker(state, ('batch', 'dec_units'))\n",
        "\n",
        "  # Step 1. Lookup the embeddings\n",
        "  vectors = self.embedding(inputs.new_tokens)\n",
        "  shape_checker(vectors, ('batch', 't', 'embedding_dim'))\n",
        "\n",
        "  # Step 2. Process one step with the RNN\n",
        "  rnn_output, state = self.gru(vectors, initial_state=state)\n",
        "\n",
        "  shape_checker(rnn_output, ('batch', 't', 'dec_units'))\n",
        "  shape_checker(state, ('batch', 'dec_units'))\n",
        "\n",
        "  # Step 3. Use the RNN output as the query for the attention over the\n",
        "  # encoder output.\n",
        "  context_vector, attention_weights = self.attention(\n",
        "      query=rnn_output, value=inputs.enc_output, mask=inputs.mask)\n",
        "  shape_checker(context_vector, ('batch', 't', 'dec_units'))\n",
        "  shape_checker(attention_weights, ('batch', 't', 's'))\n",
        "\n",
        "  # Step 4. Eqn. (3): Join the context_vector and rnn_output\n",
        "  #     [ct; ht] shape: (batch t, value_units + query_units)\n",
        "  context_and_rnn_output = tf.concat([context_vector, rnn_output], axis=-1)\n",
        "\n",
        "  # Step 4. Eqn. (3): `at = tanh(Wc@[ct; ht])`\n",
        "  attention_vector = self.Wc(context_and_rnn_output)\n",
        "  shape_checker(attention_vector, ('batch', 't', 'dec_units'))\n",
        "\n",
        "  # Step 5. Generate logit predictions:\n",
        "  logits = self.fc(attention_vector)\n",
        "  shape_checker(logits, ('batch', 't', 'output_vocab_size'))\n",
        "\n",
        "  return DecoderOutput(logits, attention_weights), state"
      ],
      "metadata": {
        "id": "1OIfSrEk_7rR"
      },
      "execution_count": 45,
      "outputs": []
    },
    {
      "cell_type": "code",
      "source": [
        "Decoder.call = call"
      ],
      "metadata": {
        "id": "OKhHZjlQABLB"
      },
      "execution_count": 46,
      "outputs": []
    },
    {
      "cell_type": "code",
      "source": [
        "decoder = Decoder(output_text_processor.vocabulary_size(),\n",
        "                  embedding_dim, units)"
      ],
      "metadata": {
        "id": "xxIK1yoDADaS"
      },
      "execution_count": 47,
      "outputs": []
    },
    {
      "cell_type": "code",
      "source": [
        "# Convert the target sequence, and collect the \"[START]\" tokens\n",
        "example_output_tokens = output_text_processor(example_target_batch)\n",
        "\n",
        "start_index = output_text_processor.get_vocabulary().index('[START]')\n",
        "first_token = tf.constant([[start_index]] * example_output_tokens.shape[0])"
      ],
      "metadata": {
        "id": "1FD2BvDQAIn6"
      },
      "execution_count": 48,
      "outputs": []
    },
    {
      "cell_type": "code",
      "source": [
        "# Run the decoder\n",
        "dec_result, dec_state = decoder(\n",
        "    inputs = DecoderInput(new_tokens=first_token,\n",
        "                          enc_output=example_enc_output,\n",
        "                          mask=(example_tokens != 0)),\n",
        "    state = example_enc_state\n",
        ")\n",
        "\n",
        "print(f'logits shape: (batch_size, t, output_vocab_size) {dec_result.logits.shape}')\n",
        "print(f'state shape: (batch_size, dec_units) {dec_state.shape}')"
      ],
      "metadata": {
        "colab": {
          "base_uri": "https://localhost:8080/"
        },
        "id": "NYbN3Pf1AKOY",
        "outputId": "211129ea-3f95-43bc-ba9a-60c24e22924a"
      },
      "execution_count": 49,
      "outputs": [
        {
          "output_type": "stream",
          "name": "stdout",
          "text": [
            "logits shape: (batch_size, t, output_vocab_size) (64, 1, 700)\n",
            "state shape: (batch_size, dec_units) (64, 1024)\n"
          ]
        }
      ]
    },
    {
      "cell_type": "code",
      "source": [
        "sampled_token = tf.random.categorical(dec_result.logits[:, 0, :], num_samples=1)"
      ],
      "metadata": {
        "id": "I-szbnicAQrD"
      },
      "execution_count": 50,
      "outputs": []
    },
    {
      "cell_type": "code",
      "source": [
        "vocab = np.array(output_text_processor.get_vocabulary())\n",
        "first_word = vocab[sampled_token.numpy()]"
      ],
      "metadata": {
        "id": "n1oIXv63AZV6"
      },
      "execution_count": 51,
      "outputs": []
    },
    {
      "cell_type": "code",
      "source": [
        "dec_result, dec_state = decoder(\n",
        "    DecoderInput(sampled_token,\n",
        "                 example_enc_output,\n",
        "                 mask=(example_tokens != 0)),\n",
        "    state=dec_state)"
      ],
      "metadata": {
        "id": "wUpYCKBHA2uy"
      },
      "execution_count": 52,
      "outputs": []
    },
    {
      "cell_type": "code",
      "source": [
        "sampled_token = tf.random.categorical(dec_result.logits[:, 0, :], num_samples=1)\n",
        "first_word = vocab[sampled_token.numpy()]"
      ],
      "metadata": {
        "id": "wQNs1_KXA8Ub"
      },
      "execution_count": 53,
      "outputs": []
    },
    {
      "cell_type": "code",
      "source": [
        "class MaskedLoss(tf.keras.losses.Loss):\n",
        "  def __init__(self):\n",
        "    self.name = 'masked_loss'\n",
        "    self.loss = tf.keras.losses.SparseCategoricalCrossentropy(\n",
        "        from_logits=True, reduction='none')\n",
        "\n",
        "  def __call__(self, y_true, y_pred):\n",
        "    shape_checker = ShapeChecker()\n",
        "    shape_checker(y_true, ('batch', 't'))\n",
        "    shape_checker(y_pred, ('batch', 't', 'logits'))\n",
        "\n",
        "    # Calculate the loss for each item in the batch.\n",
        "    loss = self.loss(y_true, y_pred)\n",
        "    shape_checker(loss, ('batch', 't'))\n",
        "\n",
        "    # Mask off the losses on padding.\n",
        "    mask = tf.cast(y_true != 0, tf.float32)\n",
        "    shape_checker(mask, ('batch', 't'))\n",
        "    loss *= mask\n",
        "\n",
        "    # Return the total.\n",
        "    return tf.reduce_sum(loss)"
      ],
      "metadata": {
        "id": "PBOGXqwuBBLi"
      },
      "execution_count": 54,
      "outputs": []
    },
    {
      "cell_type": "code",
      "source": [
        "class TrainTranslator(tf.keras.Model):\n",
        "  def __init__(self, embedding_dim, units,\n",
        "               input_text_processor,\n",
        "               output_text_processor, \n",
        "               use_tf_function=True):\n",
        "    super().__init__()\n",
        "    # Build the encoder and decoder\n",
        "    encoder = Encoder(input_text_processor.vocabulary_size(),\n",
        "                      embedding_dim, units)\n",
        "    decoder = Decoder(output_text_processor.vocabulary_size(),\n",
        "                      embedding_dim, units)\n",
        "\n",
        "    self.encoder = encoder\n",
        "    self.decoder = decoder\n",
        "    self.input_text_processor = input_text_processor\n",
        "    self.output_text_processor = output_text_processor\n",
        "    self.use_tf_function = use_tf_function\n",
        "    self.shape_checker = ShapeChecker()\n",
        "\n",
        "  def train_step(self, inputs):\n",
        "    self.shape_checker = ShapeChecker()\n",
        "    if self.use_tf_function:\n",
        "      return self._tf_train_step(inputs)\n",
        "    else:\n",
        "      return self._train_step(inputs)"
      ],
      "metadata": {
        "id": "QX88SyYABEMT"
      },
      "execution_count": 55,
      "outputs": []
    },
    {
      "cell_type": "code",
      "source": [
        "def _preprocess(self, input_text, target_text):\n",
        "  self.shape_checker(input_text, ('batch',))\n",
        "  self.shape_checker(target_text, ('batch',))\n",
        "\n",
        "  # Convert the text to token IDs\n",
        "  input_tokens = self.input_text_processor(input_text)\n",
        "  target_tokens = self.output_text_processor(target_text)\n",
        "  self.shape_checker(input_tokens, ('batch', 's'))\n",
        "  self.shape_checker(target_tokens, ('batch', 't'))\n",
        "\n",
        "  # Convert IDs to masks.\n",
        "  input_mask = input_tokens != 0\n",
        "  self.shape_checker(input_mask, ('batch', 's'))\n",
        "\n",
        "  target_mask = target_tokens != 0\n",
        "  self.shape_checker(target_mask, ('batch', 't'))\n",
        "\n",
        "  return input_tokens, input_mask, target_tokens, target_mask"
      ],
      "metadata": {
        "id": "LhmkyRsrBK9C"
      },
      "execution_count": 56,
      "outputs": []
    },
    {
      "cell_type": "code",
      "source": [
        "TrainTranslator._preprocess = _preprocess"
      ],
      "metadata": {
        "id": "jWCislNJBNOF"
      },
      "execution_count": 57,
      "outputs": []
    },
    {
      "cell_type": "code",
      "source": [
        "def _train_step(self, inputs):\n",
        "  input_text, target_text = inputs  \n",
        "\n",
        "  (input_tokens, input_mask,\n",
        "   target_tokens, target_mask) = self._preprocess(input_text, target_text)\n",
        "\n",
        "  max_target_length = tf.shape(target_tokens)[1]\n",
        "\n",
        "  with tf.GradientTape() as tape:\n",
        "    # Encode the input\n",
        "    enc_output, enc_state = self.encoder(input_tokens)\n",
        "    self.shape_checker(enc_output, ('batch', 's', 'enc_units'))\n",
        "    self.shape_checker(enc_state, ('batch', 'enc_units'))\n",
        "\n",
        "    # Initialize the decoder's state to the encoder's final state.\n",
        "    # This only works if the encoder and decoder have the same number of\n",
        "    # units.\n",
        "    dec_state = enc_state\n",
        "    loss = tf.constant(0.0)\n",
        "\n",
        "    for t in tf.range(max_target_length-1):\n",
        "      # Pass in two tokens from the target sequence:\n",
        "      # 1. The current input to the decoder.\n",
        "      # 2. The target for the decoder's next prediction.\n",
        "      new_tokens = target_tokens[:, t:t+2]\n",
        "      step_loss, dec_state = self._loop_step(new_tokens, input_mask,\n",
        "                                             enc_output, dec_state)\n",
        "      loss = loss + step_loss\n",
        "\n",
        "    # Average the loss over all non padding tokens.\n",
        "    average_loss = loss / tf.reduce_sum(tf.cast(target_mask, tf.float32))\n",
        "\n",
        "  # Apply an optimization step\n",
        "  variables = self.trainable_variables \n",
        "  gradients = tape.gradient(average_loss, variables)\n",
        "  self.optimizer.apply_gradients(zip(gradients, variables))\n",
        "\n",
        "  # Return a dict mapping metric names to current value\n",
        "  return {'batch_loss': average_loss}"
      ],
      "metadata": {
        "id": "EYJpzardBTMr"
      },
      "execution_count": 58,
      "outputs": []
    },
    {
      "cell_type": "code",
      "source": [
        "TrainTranslator._train_step = _train_step"
      ],
      "metadata": {
        "id": "8FCndemoBUVy"
      },
      "execution_count": 59,
      "outputs": []
    },
    {
      "cell_type": "code",
      "source": [
        "def _loop_step(self, new_tokens, input_mask, enc_output, dec_state):\n",
        "  input_token, target_token = new_tokens[:, 0:1], new_tokens[:, 1:2]\n",
        "\n",
        "  # Run the decoder one step.\n",
        "  decoder_input = DecoderInput(new_tokens=input_token,\n",
        "                               enc_output=enc_output,\n",
        "                               mask=input_mask)\n",
        "\n",
        "  dec_result, dec_state = self.decoder(decoder_input, state=dec_state)\n",
        "  self.shape_checker(dec_result.logits, ('batch', 't1', 'logits'))\n",
        "  self.shape_checker(dec_result.attention_weights, ('batch', 't1', 's'))\n",
        "  self.shape_checker(dec_state, ('batch', 'dec_units'))\n",
        "\n",
        "  # `self.loss` returns the total for non-padded tokens\n",
        "  y = target_token\n",
        "  y_pred = dec_result.logits\n",
        "  step_loss = self.loss(y, y_pred)\n",
        "\n",
        "  return step_loss, dec_state"
      ],
      "metadata": {
        "id": "Pg7-1Bk7Bbor"
      },
      "execution_count": 60,
      "outputs": []
    },
    {
      "cell_type": "code",
      "source": [
        "TrainTranslator._loop_step = _loop_step"
      ],
      "metadata": {
        "id": "QEkf9OcxBeIb"
      },
      "execution_count": 61,
      "outputs": []
    },
    {
      "cell_type": "code",
      "source": [
        "translator = TrainTranslator(\n",
        "    embedding_dim, units,\n",
        "    input_text_processor=input_text_processor,\n",
        "    output_text_processor=output_text_processor,\n",
        "    use_tf_function=False)\n",
        "\n",
        "# Configure the loss and optimizer\n",
        "translator.compile(\n",
        "    optimizer=tf.optimizers.Adam(),\n",
        "    loss=MaskedLoss(),\n",
        ")"
      ],
      "metadata": {
        "id": "YfZr1nM4BkuT"
      },
      "execution_count": 62,
      "outputs": []
    },
    {
      "cell_type": "code",
      "source": [
        "np.log(output_text_processor.vocabulary_size())"
      ],
      "metadata": {
        "colab": {
          "base_uri": "https://localhost:8080/"
        },
        "id": "XOrlwU39BoYk",
        "outputId": "33b92514-59a6-492e-df3a-0968db23c16e"
      },
      "execution_count": 63,
      "outputs": [
        {
          "output_type": "execute_result",
          "data": {
            "text/plain": [
              "6.551080335043405"
            ]
          },
          "metadata": {},
          "execution_count": 63
        }
      ]
    },
    {
      "cell_type": "code",
      "source": [
        "%%time\n",
        "for n in range(20):\n",
        "  print(translator.train_step([example_input_batch, example_target_batch]))\n",
        "print()"
      ],
      "metadata": {
        "colab": {
          "base_uri": "https://localhost:8080/"
        },
        "id": "JN8BPI1gByUv",
        "outputId": "b133dacf-1197-461d-cca9-2da45f679966"
      },
      "execution_count": 64,
      "outputs": [
        {
          "output_type": "stream",
          "name": "stdout",
          "text": [
            "{'batch_loss': <tf.Tensor: shape=(), dtype=float32, numpy=4.701548>}\n",
            "{'batch_loss': <tf.Tensor: shape=(), dtype=float32, numpy=4.4044375>}\n",
            "{'batch_loss': <tf.Tensor: shape=(), dtype=float32, numpy=3.3807578>}\n",
            "{'batch_loss': <tf.Tensor: shape=(), dtype=float32, numpy=5.7844963>}\n",
            "{'batch_loss': <tf.Tensor: shape=(), dtype=float32, numpy=2.7824345>}\n",
            "{'batch_loss': <tf.Tensor: shape=(), dtype=float32, numpy=2.8644052>}\n",
            "{'batch_loss': <tf.Tensor: shape=(), dtype=float32, numpy=2.9914012>}\n",
            "{'batch_loss': <tf.Tensor: shape=(), dtype=float32, numpy=2.8118088>}\n",
            "{'batch_loss': <tf.Tensor: shape=(), dtype=float32, numpy=2.4843166>}\n",
            "{'batch_loss': <tf.Tensor: shape=(), dtype=float32, numpy=2.1276562>}\n",
            "{'batch_loss': <tf.Tensor: shape=(), dtype=float32, numpy=2.2165172>}\n",
            "{'batch_loss': <tf.Tensor: shape=(), dtype=float32, numpy=2.1443477>}\n",
            "{'batch_loss': <tf.Tensor: shape=(), dtype=float32, numpy=1.9035554>}\n",
            "{'batch_loss': <tf.Tensor: shape=(), dtype=float32, numpy=1.8226991>}\n",
            "{'batch_loss': <tf.Tensor: shape=(), dtype=float32, numpy=1.8188884>}\n",
            "{'batch_loss': <tf.Tensor: shape=(), dtype=float32, numpy=1.7803416>}\n",
            "{'batch_loss': <tf.Tensor: shape=(), dtype=float32, numpy=1.6906904>}\n",
            "{'batch_loss': <tf.Tensor: shape=(), dtype=float32, numpy=1.5952897>}\n",
            "{'batch_loss': <tf.Tensor: shape=(), dtype=float32, numpy=1.5423504>}\n",
            "{'batch_loss': <tf.Tensor: shape=(), dtype=float32, numpy=1.5235206>}\n",
            "\n",
            "CPU times: user 7.91 s, sys: 131 ms, total: 8.04 s\n",
            "Wall time: 8.28 s\n"
          ]
        }
      ]
    },
    {
      "cell_type": "code",
      "source": [
        "@tf.function(input_signature=[[tf.TensorSpec(dtype=tf.string, shape=[None]),\n",
        "                               tf.TensorSpec(dtype=tf.string, shape=[None])]])\n",
        "def _tf_train_step(self, inputs):\n",
        "  return self._train_step(inputs)"
      ],
      "metadata": {
        "id": "Q8kFz4tNCEaP"
      },
      "execution_count": 65,
      "outputs": []
    },
    {
      "cell_type": "code",
      "source": [
        "TrainTranslator._tf_train_step = _tf_train_step\n",
        "translator.use_tf_function = True\n",
        "translator.train_step([example_input_batch, example_target_batch])"
      ],
      "metadata": {
        "colab": {
          "base_uri": "https://localhost:8080/"
        },
        "id": "QIyt5ixcCIy2",
        "outputId": "27b91e63-675e-483d-d65c-d01555dd95c4"
      },
      "execution_count": 66,
      "outputs": [
        {
          "output_type": "execute_result",
          "data": {
            "text/plain": [
              "{'batch_loss': <tf.Tensor: shape=(), dtype=float32, numpy=1.4963559>}"
            ]
          },
          "metadata": {},
          "execution_count": 66
        }
      ]
    },
    {
      "cell_type": "code",
      "source": [
        "%%time\n",
        "for n in range(20):\n",
        "  print(translator.train_step([example_input_batch, example_target_batch]))\n",
        "print()"
      ],
      "metadata": {
        "colab": {
          "base_uri": "https://localhost:8080/"
        },
        "id": "kt9MmONNCSFu",
        "outputId": "c85348eb-d8ef-41ff-f34d-9f2c2b49f096"
      },
      "execution_count": 67,
      "outputs": [
        {
          "output_type": "stream",
          "name": "stdout",
          "text": [
            "{'batch_loss': <tf.Tensor: shape=(), dtype=float32, numpy=1.4473816>}\n",
            "{'batch_loss': <tf.Tensor: shape=(), dtype=float32, numpy=1.4000727>}\n",
            "{'batch_loss': <tf.Tensor: shape=(), dtype=float32, numpy=1.3683953>}\n",
            "{'batch_loss': <tf.Tensor: shape=(), dtype=float32, numpy=1.3437395>}\n",
            "{'batch_loss': <tf.Tensor: shape=(), dtype=float32, numpy=1.3141403>}\n",
            "{'batch_loss': <tf.Tensor: shape=(), dtype=float32, numpy=1.2749864>}\n",
            "{'batch_loss': <tf.Tensor: shape=(), dtype=float32, numpy=1.2293483>}\n",
            "{'batch_loss': <tf.Tensor: shape=(), dtype=float32, numpy=1.1834801>}\n",
            "{'batch_loss': <tf.Tensor: shape=(), dtype=float32, numpy=1.1401008>}\n",
            "{'batch_loss': <tf.Tensor: shape=(), dtype=float32, numpy=1.0968708>}\n",
            "{'batch_loss': <tf.Tensor: shape=(), dtype=float32, numpy=1.0519238>}\n",
            "{'batch_loss': <tf.Tensor: shape=(), dtype=float32, numpy=1.0056882>}\n",
            "{'batch_loss': <tf.Tensor: shape=(), dtype=float32, numpy=0.9583792>}\n",
            "{'batch_loss': <tf.Tensor: shape=(), dtype=float32, numpy=0.90941054>}\n",
            "{'batch_loss': <tf.Tensor: shape=(), dtype=float32, numpy=0.8586717>}\n",
            "{'batch_loss': <tf.Tensor: shape=(), dtype=float32, numpy=0.8071679>}\n",
            "{'batch_loss': <tf.Tensor: shape=(), dtype=float32, numpy=0.75626785>}\n",
            "{'batch_loss': <tf.Tensor: shape=(), dtype=float32, numpy=0.7062667>}\n",
            "{'batch_loss': <tf.Tensor: shape=(), dtype=float32, numpy=0.6566252>}\n",
            "{'batch_loss': <tf.Tensor: shape=(), dtype=float32, numpy=0.6072886>}\n",
            "\n",
            "CPU times: user 5.32 s, sys: 512 ms, total: 5.84 s\n",
            "Wall time: 3.51 s\n"
          ]
        }
      ]
    },
    {
      "cell_type": "code",
      "source": [
        "losses = []\n",
        "for n in range(100):\n",
        "  print('.', end='')\n",
        "  logs = translator.train_step([example_input_batch, example_target_batch])\n",
        "  losses.append(logs['batch_loss'].numpy())\n",
        "\n",
        "print()\n",
        "plt.plot(losses)"
      ],
      "metadata": {
        "colab": {
          "base_uri": "https://localhost:8080/",
          "height": 300
        },
        "id": "vUIqg8TECbPQ",
        "outputId": "42ca3d5d-b21a-4c05-fd6c-69339a683726"
      },
      "execution_count": 68,
      "outputs": [
        {
          "output_type": "stream",
          "name": "stdout",
          "text": [
            "....................................................................................................\n"
          ]
        },
        {
          "output_type": "execute_result",
          "data": {
            "text/plain": [
              "[<matplotlib.lines.Line2D at 0x7ff8749e70d0>]"
            ]
          },
          "metadata": {},
          "execution_count": 68
        },
        {
          "output_type": "display_data",
          "data": {
            "text/plain": [
              "<Figure size 432x288 with 1 Axes>"
            ],
            "image/png": "[encoded data removed]"
          },
          "metadata": {
            "needs_background": "light"
          }
        }
      ]
    },
    {
      "cell_type": "code",
      "source": [
        "train_translator = TrainTranslator(\n",
        "    embedding_dim, units,\n",
        "    input_text_processor=input_text_processor,\n",
        "    output_text_processor=output_text_processor)\n",
        "\n",
        "# Configure the loss and optimizer\n",
        "train_translator.compile(\n",
        "    optimizer=tf.optimizers.Adam(),\n",
        "    loss=MaskedLoss(),\n",
        ")"
      ],
      "metadata": {
        "id": "jTI7OxhcCj5j"
      },
      "execution_count": 69,
      "outputs": []
    },
    {
      "cell_type": "code",
      "source": [
        "class BatchLogs(tf.keras.callbacks.Callback):\n",
        "  def __init__(self, key):\n",
        "    self.key = key\n",
        "    self.logs = []\n",
        "\n",
        "  def on_train_batch_end(self, n, logs):\n",
        "    self.logs.append(logs[self.key])\n",
        "\n",
        "batch_loss = BatchLogs('batch_loss')"
      ],
      "metadata": {
        "id": "c4Zzj_JICyaC"
      },
      "execution_count": 70,
      "outputs": []
    },
    {
      "cell_type": "code",
      "source": [
        "train_translator.fit(dataset, epochs=50,callbacks=[batch_loss])"
      ],
      "metadata": {
        "colab": {
          "base_uri": "https://localhost:8080/"
        },
        "id": "FMQN5wBCC3wx",
        "outputId": "1ce59aa0-c99b-4983-9011-1e08ec7e9e31"
      },
      "execution_count": 71,
      "outputs": [
        {
          "output_type": "stream",
          "name": "stdout",
          "text": [
            "Epoch 1/50\n",
            "11/11 [==============================] - 7s 169ms/step - batch_loss: 3.8760\n",
            "Epoch 2/50\n",
            "11/11 [==============================] - 2s 181ms/step - batch_loss: 2.8075\n",
            "Epoch 3/50\n",
            "11/11 [==============================] - 2s 165ms/step - batch_loss: 2.6204\n",
            "Epoch 4/50\n",
            "11/11 [==============================] - 2s 172ms/step - batch_loss: 2.4080\n",
            "Epoch 5/50\n",
            "11/11 [==============================] - 2s 168ms/step - batch_loss: 2.2486\n",
            "Epoch 6/50\n",
            "11/11 [==============================] - 2s 168ms/step - batch_loss: 2.1377\n",
            "Epoch 7/50\n",
            "11/11 [==============================] - 2s 177ms/step - batch_loss: 1.9639\n",
            "Epoch 8/50\n",
            "11/11 [==============================] - 2s 158ms/step - batch_loss: 1.7181\n",
            "Epoch 9/50\n",
            "11/11 [==============================] - 2s 167ms/step - batch_loss: 1.5696\n",
            "Epoch 10/50\n",
            "11/11 [==============================] - 2s 164ms/step - batch_loss: 1.3389\n",
            "Epoch 11/50\n",
            "11/11 [==============================] - 2s 170ms/step - batch_loss: 1.1380\n",
            "Epoch 12/50\n",
            "11/11 [==============================] - 2s 169ms/step - batch_loss: 0.9332\n",
            "Epoch 13/50\n",
            "11/11 [==============================] - 2s 162ms/step - batch_loss: 0.7438\n",
            "Epoch 14/50\n",
            "11/11 [==============================] - 2s 161ms/step - batch_loss: 0.5527\n",
            "Epoch 15/50\n",
            "11/11 [==============================] - 2s 166ms/step - batch_loss: 0.4112\n",
            "Epoch 16/50\n",
            "11/11 [==============================] - 2s 162ms/step - batch_loss: 0.3104\n",
            "Epoch 17/50\n",
            "11/11 [==============================] - 2s 173ms/step - batch_loss: 0.2232\n",
            "Epoch 18/50\n",
            "11/11 [==============================] - 2s 170ms/step - batch_loss: 0.1989\n",
            "Epoch 19/50\n",
            "11/11 [==============================] - 2s 170ms/step - batch_loss: 0.1699\n",
            "Epoch 20/50\n",
            "11/11 [==============================] - 2s 170ms/step - batch_loss: 0.1551\n",
            "Epoch 21/50\n",
            "11/11 [==============================] - 2s 166ms/step - batch_loss: 0.1093\n",
            "Epoch 22/50\n",
            "11/11 [==============================] - 2s 161ms/step - batch_loss: 0.0988\n",
            "Epoch 23/50\n",
            "11/11 [==============================] - 2s 162ms/step - batch_loss: 0.0964\n",
            "Epoch 24/50\n",
            "11/11 [==============================] - 2s 168ms/step - batch_loss: 0.0739\n",
            "Epoch 25/50\n",
            "11/11 [==============================] - 2s 169ms/step - batch_loss: 0.0791\n",
            "Epoch 26/50\n",
            "11/11 [==============================] - 2s 155ms/step - batch_loss: 0.0588\n",
            "Epoch 27/50\n",
            "11/11 [==============================] - 2s 161ms/step - batch_loss: 0.0582\n",
            "Epoch 28/50\n",
            "11/11 [==============================] - 2s 168ms/step - batch_loss: 0.0548\n",
            "Epoch 29/50\n",
            "11/11 [==============================] - 2s 169ms/step - batch_loss: 0.0580\n",
            "Epoch 30/50\n",
            "11/11 [==============================] - 2s 170ms/step - batch_loss: 0.0504\n",
            "Epoch 31/50\n",
            "11/11 [==============================] - 2s 166ms/step - batch_loss: 0.0545\n",
            "Epoch 32/50\n",
            "11/11 [==============================] - 2s 166ms/step - batch_loss: 0.0456\n",
            "Epoch 33/50\n",
            "11/11 [==============================] - 2s 166ms/step - batch_loss: 0.0417\n",
            "Epoch 34/50\n",
            "11/11 [==============================] - 2s 171ms/step - batch_loss: 0.0435\n",
            "Epoch 35/50\n",
            "11/11 [==============================] - 2s 168ms/step - batch_loss: 0.0436\n",
            "Epoch 36/50\n",
            "11/11 [==============================] - 2s 168ms/step - batch_loss: 0.0430\n",
            "Epoch 37/50\n",
            "11/11 [==============================] - 2s 170ms/step - batch_loss: 0.0479\n",
            "Epoch 38/50\n",
            "11/11 [==============================] - 2s 150ms/step - batch_loss: 0.0396\n",
            "Epoch 39/50\n",
            "11/11 [==============================] - 3s 228ms/step - batch_loss: 0.0414\n",
            "Epoch 40/50\n",
            "11/11 [==============================] - 2s 172ms/step - batch_loss: 0.0394\n",
            "Epoch 41/50\n",
            "11/11 [==============================] - 2s 162ms/step - batch_loss: 0.0394\n",
            "Epoch 42/50\n",
            "11/11 [==============================] - 2s 172ms/step - batch_loss: 0.0423\n",
            "Epoch 43/50\n",
            "11/11 [==============================] - 2s 166ms/step - batch_loss: 0.0404\n",
            "Epoch 44/50\n",
            "11/11 [==============================] - 2s 178ms/step - batch_loss: 0.0453\n",
            "Epoch 45/50\n",
            "11/11 [==============================] - 2s 160ms/step - batch_loss: 0.0486\n",
            "Epoch 46/50\n",
            "11/11 [==============================] - 2s 159ms/step - batch_loss: 0.0467\n",
            "Epoch 47/50\n",
            "11/11 [==============================] - 2s 164ms/step - batch_loss: 0.0481\n",
            "Epoch 48/50\n",
            "11/11 [==============================] - 2s 175ms/step - batch_loss: 0.0754\n",
            "Epoch 49/50\n",
            "11/11 [==============================] - 2s 176ms/step - batch_loss: 0.1062\n",
            "Epoch 50/50\n",
            "11/11 [==============================] - 2s 168ms/step - batch_loss: 0.1166\n"
          ]
        },
        {
          "output_type": "execute_result",
          "data": {
            "text/plain": [
              "<keras.callbacks.History at 0x7ff88c00f310>"
            ]
          },
          "metadata": {},
          "execution_count": 71
        }
      ]
    },
    {
      "cell_type": "code",
      "source": [
        "plt.plot(batch_loss.logs)\n",
        "plt.ylim([0, 3])\n",
        "plt.xlabel('Batch #')\n",
        "plt.ylabel('CE/token')"
      ],
      "metadata": {
        "colab": {
          "base_uri": "https://localhost:8080/",
          "height": 300
        },
        "id": "53udusQpDAax",
        "outputId": "b18c0071-12b5-430f-e9e6-0bb6c37f2025"
      },
      "execution_count": null,
      "outputs": [
        {
          "output_type": "execute_result",
          "data": {
            "text/plain": [
              "Text(0, 0.5, 'CE/token')"
            ]
          },
          "metadata": {},
          "execution_count": 61
        },
        {
          "output_type": "display_data",
          "data": {
            "text/plain": [
              "<Figure size 432x288 with 1 Axes>"
            ],
            "image/png": "[encoded data removed]"
          },
          "metadata": {
            "needs_background": "light"
          }
        }
      ]
    },
    {
      "cell_type": "code",
      "source": [
        "class Translator(tf.Module):\n",
        "\n",
        "  def __init__(self, encoder, decoder, input_text_processor,\n",
        "               output_text_processor):\n",
        "    self.encoder = encoder\n",
        "    self.decoder = decoder\n",
        "    self.input_text_processor = input_text_processor\n",
        "    self.output_text_processor = output_text_processor\n",
        "\n",
        "    self.output_token_string_from_index = (\n",
        "        tf.keras.layers.StringLookup(\n",
        "            vocabulary=output_text_processor.get_vocabulary(),\n",
        "            mask_token='',\n",
        "            invert=True))\n",
        "\n",
        "    # The output should never generate padding, unknown, or start.\n",
        "    index_from_string = tf.keras.layers.StringLookup(\n",
        "        vocabulary=output_text_processor.get_vocabulary(), mask_token='')\n",
        "    token_mask_ids = index_from_string(['', '[UNK]', '[START]']).numpy()\n",
        "\n",
        "    token_mask = np.zeros([index_from_string.vocabulary_size()], dtype=np.bool)\n",
        "    token_mask[np.array(token_mask_ids)] = True\n",
        "    self.token_mask = token_mask\n",
        "\n",
        "    self.start_token = index_from_string(tf.constant('[START]'))\n",
        "    self.end_token = index_from_string(tf.constant('[END]'))"
      ],
      "metadata": {
        "id": "N4bbO3c7DG8O"
      },
      "execution_count": 72,
      "outputs": []
    },
    {
      "cell_type": "code",
      "source": [
        "translator = Translator(\n",
        "    encoder=train_translator.encoder,\n",
        "    decoder=train_translator.decoder,\n",
        "    input_text_processor=input_text_processor,\n",
        "    output_text_processor=output_text_processor,\n",
        ")"
      ],
      "metadata": {
        "colab": {
          "base_uri": "https://localhost:8080/"
        },
        "id": "zHBE1SGdDL3R",
        "outputId": "3b6aed4f-cc55-4e5d-8a4b-e49efcb18f37"
      },
      "execution_count": 73,
      "outputs": [
        {
          "output_type": "stream",
          "name": "stderr",
          "text": [
            "/usr/local/lib/python3.7/dist-packages/ipykernel_launcher.py:21: DeprecationWarning: `np.bool` is a deprecated alias for the builtin `bool`. To silence this warning, use `bool` by itself. Doing this will not modify any behavior and is safe. If you specifically wanted the numpy scalar type, use `np.bool_` here.\n",
            "Deprecated in NumPy 1.20; for more details and guidance: https://numpy.org/devdocs/release/1.20.0-notes.html#deprecations\n"
          ]
        }
      ]
    },
    {
      "cell_type": "code",
      "source": [
        "def tokens_to_text(self, result_tokens):\n",
        "  shape_checker = ShapeChecker()\n",
        "  shape_checker(result_tokens, ('batch', 't'))\n",
        "  result_text_tokens = self.output_token_string_from_index(result_tokens)\n",
        "  shape_checker(result_text_tokens, ('batch', 't'))\n",
        "\n",
        "  result_text = tf.strings.reduce_join(result_text_tokens,\n",
        "                                       axis=1, separator=' ')\n",
        "  shape_checker(result_text, ('batch'))\n",
        "\n",
        "  result_text = tf.strings.strip(result_text)\n",
        "  shape_checker(result_text, ('batch',))\n",
        "  return result_text"
      ],
      "metadata": {
        "id": "1dEmKEDLDNqk"
      },
      "execution_count": 74,
      "outputs": []
    },
    {
      "cell_type": "code",
      "source": [
        "Translator.tokens_to_text = tokens_to_text"
      ],
      "metadata": {
        "id": "x7_3o8LBDSID"
      },
      "execution_count": 75,
      "outputs": []
    },
    {
      "cell_type": "code",
      "source": [
        "example_output_tokens = tf.random.uniform(\n",
        "    shape=[5, 2], minval=0, dtype=tf.int64,\n",
        "    maxval=output_text_processor.vocabulary_size())\n",
        "translator.tokens_to_text(example_output_tokens).numpy()"
      ],
      "metadata": {
        "colab": {
          "base_uri": "https://localhost:8080/"
        },
        "id": "1OoQyfhSDWTN",
        "outputId": "bf9539c4-9470-43cd-fd79-3693f4b19191"
      },
      "execution_count": 76,
      "outputs": [
        {
          "output_type": "execute_result",
          "data": {
            "text/plain": [
              "array([b'no,NOT,SMALL,wave PAST+,TAKE-BREAK,IX-1p,READY,#DO,HOMEWORK,FROM-NOW-ON,EMPTY-FROM-NOW-ON,READY,TAKE-BREAK,READY,HOMEWORK,FROM-NOW-ON,EMPTY-FROM-NOW-ON,READY',\n",
              "       b'POSS-1p,FRIEND,IX-3p:i,LOVE,TRIP,UNDERSTAND,KISS-FIST,fs-ASIA,ns-ASIA,(25)WHY,IX-loc:i,fs-ASIA,MANY,(2h)THING,DO-DO,DIFFERENT++,VARY,COMPARE,TO/UNTIL,OTHER,COUNTRY+,FRIEND,LOVE,focus,MANY,(2h)THING,DO-DO,DIFFERENT++,VARY,COMPARE,TO/UNTIL,COUNTRY+ IX-1p,SAY,fs-JOHN,wave',\n",
              "       b'MUST,#VP,WHY++,(1h)part:indef,CAN,TEXTING,part:indef,CAN,TEXTING,part:indef fs-BILL,PLAN,(1h)MOVE,ns-NEW-YORK,QMwg,PLAN,ns-NEW-YORK',\n",
              "       b'NOT,HAVE,TIME,TOMORROW,not KISS-FIST,LOOK,FIREWORKS,WHO,FIREWORKS',\n",
              "       b'IX-3p:i,DOG,CHASE,CAT,THAT,IX-3p:i,#DOG,IX-3p:i,NOT,POSS-1p+,IX-3p:i,CHASE,IX-3p:i MOST,FOCUS/NARROW,ns-AMERICA,CULTURE,GIFT,MEAN,INTERPRET,TO/UNTIL,DIFFERENT-arc,NOISE,VOICE+,MOST,FOCUS/NARROW,ns-AMERICA,CULTURE,GIFT,MEAN,INTERPRET,TO/UNTIL,DIFFERENT-arc,NOISE'],\n",
              "      dtype=object)"
            ]
          },
          "metadata": {},
          "execution_count": 76
        }
      ]
    },
    {
      "cell_type": "code",
      "source": [
        "def sample(self, logits, temperature):\n",
        "  shape_checker = ShapeChecker()\n",
        "  # 't' is usually 1 here.\n",
        "  shape_checker(logits, ('batch', 't', 'vocab'))\n",
        "  shape_checker(self.token_mask, ('vocab',))\n",
        "\n",
        "  token_mask = self.token_mask[tf.newaxis, tf.newaxis, :]\n",
        "  shape_checker(token_mask, ('batch', 't', 'vocab'), broadcast=True)\n",
        "\n",
        "  # Set the logits for all masked tokens to -inf, so they are never chosen.\n",
        "  logits = tf.where(self.token_mask, -np.inf, logits)\n",
        "\n",
        "  if temperature == 0.0:\n",
        "    new_tokens = tf.argmax(logits, axis=-1)\n",
        "  else: \n",
        "    logits = tf.squeeze(logits, axis=1)\n",
        "    new_tokens = tf.random.categorical(logits/temperature,\n",
        "                                        num_samples=1)\n",
        "  \n",
        "  shape_checker(new_tokens, ('batch', 't'))\n",
        "\n",
        "  return new_tokens"
      ],
      "metadata": {
        "id": "CsLx3-Z2DZGb"
      },
      "execution_count": 77,
      "outputs": []
    },
    {
      "cell_type": "code",
      "source": [
        "Translator.sample = sample"
      ],
      "metadata": {
        "id": "aGHbBs3EDdnd"
      },
      "execution_count": 78,
      "outputs": []
    },
    {
      "cell_type": "code",
      "source": [
        "example_logits = tf.random.normal([5, 1, output_text_processor.vocabulary_size()])\n",
        "example_output_tokens = translator.sample(example_logits, temperature=1.0)\n",
        "example_output_tokens"
      ],
      "metadata": {
        "colab": {
          "base_uri": "https://localhost:8080/"
        },
        "id": "F4hekD9LDfL4",
        "outputId": "44677e2d-146c-48be-84a6-9107325b215e"
      },
      "execution_count": 79,
      "outputs": [
        {
          "output_type": "execute_result",
          "data": {
            "text/plain": [
              "<tf.Tensor: shape=(5, 1), dtype=int64, numpy=\n",
              "array([[643],\n",
              "       [301],\n",
              "       [366],\n",
              "       [466],\n",
              "       [637]])>"
            ]
          },
          "metadata": {},
          "execution_count": 79
        }
      ]
    },
    {
      "cell_type": "code",
      "source": [
        "def translate_unrolled(self,\n",
        "                       input_text, *,\n",
        "                       max_length=50,\n",
        "                       return_attention=True,\n",
        "                       temperature=1.0):\n",
        "  batch_size = tf.shape(input_text)[0]\n",
        "  input_tokens = self.input_text_processor(input_text)\n",
        "  enc_output, enc_state = self.encoder(input_tokens)\n",
        "\n",
        "  dec_state = enc_state\n",
        "  new_tokens = tf.fill([batch_size, 1], self.start_token)\n",
        "\n",
        "  result_tokens = []\n",
        "  attention = []\n",
        "  done = tf.zeros([batch_size, 1], dtype=tf.bool)\n",
        "\n",
        "  for _ in range(max_length):\n",
        "    dec_input = DecoderInput(new_tokens=new_tokens,\n",
        "                             enc_output=enc_output,\n",
        "                             mask=(input_tokens!=0))\n",
        "    \n",
        "    dec_result, dec_state = self.decoder(dec_input, state=dec_state)\n",
        "\n",
        "    attention.append(dec_result.attention_weights)\n",
        "\n",
        "    new_tokens = self.sample(dec_result.logits, temperature)\n",
        "\n",
        "    # If a sequence produces an `end_token`, set it `done`\n",
        "    done = done | (new_tokens == self.end_token)\n",
        "    # Once a sequence is done it only produces 0-padding.\n",
        "    new_tokens = tf.where(done, tf.constant(0, dtype=tf.int64), new_tokens)\n",
        "\n",
        "    # Collect the generated tokens\n",
        "    result_tokens.append(new_tokens)\n",
        "\n",
        "    if tf.executing_eagerly() and tf.reduce_all(done):\n",
        "      break\n",
        "\n",
        "  # Convert the list of generates token ids to a list of strings.\n",
        "  result_tokens = tf.concat(result_tokens, axis=-1)\n",
        "  result_text = self.tokens_to_text(result_tokens)\n",
        "\n",
        "  if return_attention:\n",
        "    attention_stack = tf.concat(attention, axis=1)\n",
        "    return {'text': result_text, 'attention': attention_stack}\n",
        "  else:\n",
        "    return {'text': result_text}\n"
      ],
      "metadata": {
        "id": "DBcFaJ9IDnet"
      },
      "execution_count": 80,
      "outputs": []
    },
    {
      "cell_type": "code",
      "source": [
        "Translator.translate = translate_unrolled"
      ],
      "metadata": {
        "id": "Jj_l9wbQExvW"
      },
      "execution_count": 81,
      "outputs": []
    },
    {
      "cell_type": "code",
      "source": [
        "%%time\n",
        "input_text = tf.constant([\n",
        "    \"I starting making an invitation list for my BBQ party, I will have to make sure it's right.\", \n",
        "    \"If Father arrives home late, he can’t help us with our homework.\", \n",
        "])\n",
        "\n",
        "result = translator.translate(\n",
        "    input_text = input_text)\n",
        "\n",
        "print(result['text'][0].numpy().decode())\n",
        "print(result['text'][1].numpy().decode())\n",
        "print()"
      ],
      "metadata": {
        "colab": {
          "base_uri": "https://localhost:8080/"
        },
        "id": "xdpKEiJ8Eznc",
        "outputId": "8dae4ea3-575b-48be-8d17-7951a4b9bf43"
      },
      "execution_count": 82,
      "outputs": [
        {
          "output_type": "stream",
          "name": "stdout",
          "text": [
            "IX-1p,PROCEED,START,FILL-OUT,FRIEND,(2h)alt.INVITE/HIRE,FOR,#BBQ,GROUP/TOGETHER,IX-1p,MAKE,REALLY,LIST,#ALL,CORRECT,PROCEED,START,FILL-OUT,FRIEND,(2h)alt.INVITE/HIRE,GROUP/TOGETHER,MAKE,LIST,CORRECT\n",
            "WHO,(1h)TEND,COMMUTE,BICYCLE,WHO,BICYCLE\n",
            "\n",
            "CPU times: user 122 ms, sys: 2.71 ms, total: 124 ms\n",
            "Wall time: 132 ms\n"
          ]
        }
      ]
    },
    {
      "cell_type": "code",
      "source": [
        "test_file = \"/content/sentencesTest.txt\"\n",
        "\n",
        "testfile = \"tokensTest.txt\"\n",
        "tstfile = open(testfile, \"w\") \n",
        "\n"
      ],
      "metadata": {
        "id": "P_alMd_-FgyW"
      },
      "execution_count": 88,
      "outputs": []
    },
    {
      "cell_type": "code",
      "source": [
        "test_lines=[]\n",
        "file3= open('/content/sentencesTrain.txt', 'r',encoding='cp1252')\n",
        "lines_test =file3.readlines()\n",
        "print(lines_test)\n",
        "\n",
        "for input_sentence in lines_test:\n",
        "    \n",
        "    \n",
        "    #input_sentence = random.choice(line2)\n",
        "    list_data = []\n",
        "    list_data.append(input_sentence)\n",
        "    input_text = tf.constant(list_data)\n",
        "    result = translator.translate(input_text = input_text)\n",
        "\n",
        "    #print(result['text'][0].numpy().decode())\n",
        "    \n",
        "    translated = result['text'][0].numpy().decode()\n",
        "    translated = translated.replace(\" \", \",\")\n",
        "    \n",
        "    tstfile.write(translated+'\\n')\n",
        "\n",
        "tstfile.close()"
      ],
      "metadata": {
        "id": "WzMzqUQjMeEY",
        "colab": {
          "base_uri": "https://localhost:8080/"
        },
        "outputId": "3fc63c3c-de97-439f-9c81-ca52e40d0a0c"
      },
      "execution_count": 89,
      "outputs": [
        {
          "output_type": "stream",
          "name": "stdout",
          "text": [
            "['When does the party start, at 8 or 9?\\n', 'When my sister goes water tubing, I will have to watch her and make sure to stop the boat when she falls off.\\n', 'If mom has time she will bring cookies.\\n', \"No, I wasn't old enough to vote at that time.\\n\", 'My friend wants to buy a plaid shirt.\\n', \"If it snows tomorrow, then it's a guarantee that school will be closed.\\n\", 'I just drank it and it tastes fine.\\n', \"If mom doesn't walk to the store, we won't have milk.\\n\", 'Mother will give me twenty dollars if I clean the kitchen.\\n', 'Who listened to the teacher?\\n', 'I just read a book.\\n', 'It can be expressed through speech or through sign language.\\n', \"It doesn't matter to me. I like anything.\\n\", \"No, today's Thursday, which means tomorrow's Friday.\\n\", 'Where did the friends drive to?\\n', 'My friend is playing video games.\\n', 'What does my sister want for her birthday?\\n', 'Has your friend experienced travelling?\\n', \"Bob hasn't sent the letter.\\n\", 'If my family decides to vacation every year, they will go to Puerto Rico.\\n', 'The DVD that Netflix sent me was all scratched up.\\n', 'Did Jack and Sue already meet?\\n', 'The game finishes before 6? What time?\\n', 'When you leave, would you mind closing the gate?\\n', \"He/She didn't finish because he/she was laying around.\\n\", 'If clothes are on sale, my friends and I will go over to the mall.\\n', \"I didn't see the accident, I was asleep.\\n\", 'Who is planning to surprise Bob?\\n', \"If it rains tomorrow, that means that when I arrive at my uncle's house, I will stay inside.\\n\", \"It's raining so much. Wow.\\n\", 'When Father arrives home late, Mother refuses to make dinner.\\n', 'When my sister goes water tubing, we have to watch to make sure she doesn’t fall off.\\n', 'I watched a movie last night and the actor was good.\\n', 'How did Mother get sick?\\n', 'The friends have not gone to the beach.\\n', \"Mother isn't sick today.\\n\", 'My mother loves glasses because she looks cool in them.\\n', 'No, he lost all the games.\\n', 'Why do you want the BBQ?\\n', 'Where did you buy the car?\\n', 'His idea was the basis for different cultures and their ways to interpret or give meaning to different sensory experiences.\\n', 'Did someone win the lottery?\\n', 'I met a lot of interesting people last night.\\n', \"I starting making an invitation list for my BBQ party, I will have to make sure it's right.\\n\", 'Why is your friend addicted to surfing the internet?\\n', \"It wasn't me who started to open the can.\\n\", 'If my friend finishes his homework early, he will surf the Internet all night.\\n', \"The set up of the two categories was based on Edward Hall's analysis from the idea he presented years ago.\\n\", \"If there's no snow outside, normally school will be open.\\n\", 'My friend passed out last night because he drank too much.\\n', 'Does your friend really love surfing the internet?\\n', 'I love apples in the fall.\\n', 'I was picked to join the club. Wow, it was an honor.\\n', \"I'm not warm, I'm hot.\\n\", 'Did John read that book? No, he never started it.\\n', 'If I arrive at work late, my boss will undoubtedly fire me.\\n', \"I'm letting you know that the car is broken down, I used the the right key.\\n\", 'I am not good at memorizing names of people I’ve already met.\\n', 'When my father arrives home late, we tend to eat pizza for dinner.\\n', 'Where are the clothes that are on sale?\\n', 'If my friend drives, I will sit in the back and sleep.\\n', \"I didn't wash my clothes.\\n\", 'If Jack gets a cat, he will take care of it.\\n', 'The game finishes before 6? What time?\\n', 'If Father arrives home late, he can’t help us with our homework.\\n', 'Now I am studying to go to school.\\n', 'Who wants to play frisbee?\\n', 'What time did my friend crash the party?\\n', 'If my family adopts the puppies, I will immediately go to the pet store to buy collars, of which they have assorted colors.\\n', 'My friend has to drive because I am tired.\\n', 'Does Jack have money?\\n', 'Who sent the letter?\\n', 'Who bought a car?\\n', 'If I go to a public school, it is guaranteed that I won’t pay attention because there is no communication.\\n', 'If the student wins an award, he will get a $100 gift card.\\n', 'When I make a list for the BBQ, I have to make sure I invite all of my friends.\\n', 'Why did the bride and groom end the wedding?\\n', 'Why do you have to move out of San Diego?\\n', 'If the students listen to their teacher, they will learn something.\\n', \"The horses hate the rain- they don't like running in the rain.\\n\", 'I automatically keep information in the back of my mind.\\n', 'Alcohol is not always good.\\n', 'Why do you talk with those two?\\n', 'If Obama picks a Republican, he will be sorry.\\n', 'If my friend buys a plaid shirt, I have to make sure to buy a striped shirt so we don’t match.\\n', 'Who has to pay rent?\\n', 'Will Bill move to New York?\\n', \"I haven't paid rent.\\n\", 'If Father arrives home late, Mother will yell at him because the children wanted to see him.\\n', 'If the bride and groom dance their last dance, everyone would have to watch.\\n', 'Who loves watching fireworks?\\n', 'Bob hates reading books.\\n', 'If my friend succesfully surprises Bob, kudos to him because it’s nearly impossible to surprise Bob!\\n', 'What time does the surprise party start?\\n', \"If it had rained yesterday, I would've gone to the movies for sure.\\n\", 'Where do you work?\\n', 'No, my roommate wasn’t arrested; I just had breakfast with her.\\n', \"I don't want to buy shorts.\\n\", 'Father is lazy and refused to mow the lawn.\\n', 'Who loves watching fireworks?\\n', 'I thought it was terribly boring.\\n', \"Everytime I go to my uncle's house, he tends to stay inside.\\n\", 'I am going to school.\\n', 'Have you ever lived through a winter in Boston? It snows a lot!\\n', \"Now I'm reading a book.\\n\", \"I know it's going rain tomorrow.\\n\", 'Did you not pass out?\\n', 'I have decided not to invite Mary because she doesn’t get along with that crowd.\\n', 'If Bob studies literature, he will pass his final exam.\\n', 'I had to ask for directions because I had no idea where to go.\\n', \"I like it, if it has butter, I'm fine with that.\\n\", 'If John eats spinach, he will get sick.\\n', \"There's no book on the table.\\n\", 'When does the party start, at 8 or 9?\\n', \"If you don't have time tomorrow, you can wash the car on Monday.\\n\", 'What is my aunt an expert at making?\\n', 'Which one of you found my keys?\\n', 'Does the party tonight start at 8 or 9?\\n', 'My family does not vacation every year any more.\\n', 'No, I would not stop vomitting if I ate pineapple cream cheese. I prefer lox.\\n', \"I don't think he was planning to go, but if I see him, I'll have him call you.\\n\", 'If Bob goes to the post office, I will give him all of my mail so he can drop it off.\\n', 'When my friends are  leaving to go to the party, I will let my roommate know that I will be joining them.\\n', 'What kind of car did he buy?\\n', 'My friend wanted a plaid shirt because there will be a formal party soon.\\n', 'There are two different orientation paths, they are based on what?\\n', 'The teacher is sick of always cleaning the classroom, so today he didn’t.\\n', 'When do you start travelling?\\n', 'Who sent the letter?\\n', 'If you order pizza here, it will be delicious.\\n', 'My sister doesn’t want a headband for her birthday.\\n', 'Where did you go to high school?\\n', 'Why is father upset?\\n', 'My pay increased a little bit.\\n', 'When my friend starts to surf the Internet, I have to tell him to do homework.\\n', 'The man who was just thrown out of the plane was Alec Baldwin.\\n', 'I volunteer to help other organizations.\\n', 'When Mother goes to the store, I’ll remind her to get us milk.\\n', 'No, he lost all the games.\\n', 'I analyzed and looked over the math problem.\\n', 'My friends are going fishing.\\n', 'When I finish cleaning the kitchen, mom will take me to my friends house.\\n', 'He/She really feels nothing?\\n', 'I will get a sunburn when I go swimming at the beach because I forgot sunscreen.\\n', \"John isn't here. Does anyone know where he is?\\n\", \"He/She isn't guilty.\\n\", 'Who was it that just bought a car?\\n', 'Where do the horses tend to play?\\n', 'If John eats spinach, he will get nauseous and sick.\\n', 'If Bob is successful at making a fire, I must stay and watch it to make sure it is maintained.\\n', 'What kind of a party is it?\\n', \"If there's no snow outside then normally school isn't cancelled.\\n\", \"Now, on a related topic, how do the deaf people's experiences were included in that world?\\n\", 'Once my friends start dying their hair, many more people will follow.\\n', 'When I passed out last night, everyone cheered me on.\\n', 'What do you usually do on the Internet?\\n', \"If you don't order pizza, you can order pasta instead.\\n\", 'Who sent the letter?\\n', \"The box is really big, it's not small.\\n\", 'How much is that TV?\\n', 'I notice that babies hate fireworks. The fireworks scare the babies.\\n', \"John didn't buy the turkey.\\n\", 'My friend hosted a pizza party because he loves pizza.\\n', 'Who tends to commute to work by bicycle?\\n', 'The previous issue in DESDJ volume one number one, focused on visual feeling specifically the tactile orientation.\\n', 'I love fireworks because they’re beautiful and loud.\\n', \"Bob hasn't gone to the post office yet.\\n\", 'If you want to know, if John wins he will get a teddy bear.\\n', \"If the box hasn't arrived yet you should contact Fedex\\n\", 'When are your friends going fishing?\\n', 'Those kids hate the principal because if they don’t do homework, he will yell at them.\\n', \"If dad doesn't get home too late then he can help us with our homework.\\n\", 'Who arrived late?\\n', 'Who commutes to work by bike?\\n', 'The bride and groom danced their last dance before the wedding ended with their own choice of a song.\\n', 'Who fell in love with Bill?\\n', \"Wow, I'm really tired.\\n\", 'If Bob sends his resume, he will get the job.\\n', 'When did you graduate high school?\\n', 'If the students listen to the teacher, they will learn something.\\n', 'If my friends go out, I will join them.\\n', \"My friend is planning to surprise Bob because he's turning 21.\\n\", 'Yes, I do have homework. I need to write a three-page report.\\n', 'If my friend asks for directions, I have to drive.\\n', 'I doubt that he/she wants anything.\\n', 'Your mom will love the gift you just bought for her.\\n', 'When I arrive at India, I have to send a letter to my parents thanking them for supporting my travels expenses.\\n', 'When do you start work?\\n', 'Are Jen and Joe married?\\n', 'If you order pizza here, I guarantee it will be delicious.\\n', \"If all the students arrive on time, there won't be a test.\\n\", 'What time is the surprise party?\\n', 'Where did Sue move to?\\n', 'No, my roommate wasn’t arrested; I just had breakfast with her.\\n', 'My friend crashed the party because he had just finished his final exam.\\n', 'The article you wrote for the Boston Globe was good.\\n', \"This afternoon I'm going to the store.\\n\", \"If my sister neglects her homework, she won't succeed in school.\\n\", 'If my family decides not to adopt the puppies, my friend probably will.\\n', 'John broke the window.\\n', \"Did Mary stop rowing? No, she's never rowed until now.\\n\", 'If it stops snowing outside then school will reopen tomorrow.\\n', 'My friend loves to go fishing because he loves to eat fish.\\n', 'Is your friend’s party good?\\n', 'The idea is basically how the two modalities are different based on their primary message system and how people express them.\\n', 'Who is asking for directions?\\n', \"Yesterday, I didn't play any golf.\\n\", 'If John has a grin on his face, that means he got the job.\\n', 'No, he’s not a vegetarian; he eats meat.\\n', 'Who arrived late?\\n', 'What did Bob read?\\n', 'I love action movies, not boring dramas.\\n', \"No, I'm going to Hawaii for spring break.\\n\", 'My friends tend to play Frisbee at the park.\\n', 'When I introduce a friend, I will test whether or not he remembers his name later.\\n', \"No, today's Thursday, which means tomorrow's Friday.\\n\", 'Bob hates reading books.\\n', 'The box is not small.\\n', \"I'm working.\\n\", 'If friends host a pizza party, I will bring a pizza with lots of toppings.\\n', \"No, I don't like pineapple cream cheese. I prefer lox.\\n\", 'Most of it is focused on American culture and how people interpret or give meaning to different noises and voices.\\n', 'They are basically based on the idea of how human language is expressed.\\n', 'If Bob sends his resume, he is guaranteed the job.\\n', 'Who is going out fishing?\\n', 'I commute to work by bicycle because I can’t afford a car.\\n', \"I wasn't ready to move out of San Diego, so I stayed.\\n\", 'When the bride and groom danced their last song at their wedding, everyone looked on quietly.\\n', 'Does your friend love surfing the Internet?\\n', \"Friends didn't crash the party.\\n\", 'Where does the horse tend to play?\\n', 'If my friend boldly asks for directions, I am willing to drive.\\n', 'When is bad weather coming to Boston?\\n', 'I have to take the test again.\\n', 'The idea of the primary system for both spoken and sign language is set in their own ways.\\n', 'When do you start travelling?\\n', 'But, for the purpose of this, I would like to focus on two things.\\n', 'The cat that my neighbor found was small and hungry.\\n', 'My sister prefers tubing rather than water skiing because tubing is easier.\\n', 'My ancestors are from Germany.\\n', 'The teacher made the reading required for John so he had to read the book.\\n', 'If the teacher requires John to do it,  John will read the book.\\n', 'If Bob decides to adopt a big dog, he will have to accept the fact that he will spend lots of money on dog food.\\n', 'I have an appointment this afternoon with my teacher.\\n', \"I don't think he was planning to go, but if I see him, I'll have him call you.\\n\", 'When do you start work?\\n', 'Have Jack and Sue met?\\n', 'If I commute to work by bicycle, I will have to wake up earlier.\\n', 'Who has to pay rent?\\n', 'My friend has to drive because I’m exhausted.\\n', 'Why is your group of friends travelling?\\n', 'No, I just came back from dinner. They had no ice cream.\\n', 'What do you have to buy?\\n', 'My friends talked and decided not to crash the party.\\n', 'The man who was just thrown out of the plane was Alec Baldwin.\\n', 'If my mom has time she will bring cookies.\\n', 'I arrived school late because I was in a bike accident.\\n', 'Once my father starts playing video games, I tend to go to my room because it’s boring to watch him and he doesn’t know how to play video games.\\n', 'My friends got together and planned to surprise Bob for his 21st.\\n', 'If the people I invited show up late, they will regret it.\\n', 'If my boss summons me, everyone will know I’m in trouble.\\n', 'How many kids does Phil have?\\n', 'When a friend calls me via VP, the lights flash on and off.\\n', 'What are you looking at on the internet?\\n', \"If you don't want pizza, you can order pasta.\\n\", 'My sister blamed me but I am innocent!\\n', 'No, I just came back from dinner. They had no ice cream.\\n', \"That dog that's chasing the cat isn't mine.\\n\", 'The movie is really scary.\\n', 'If my friend finishes his homework early, it is guaranteed he will be surfing the Internet all night long.\\n', 'Why do you work all night?\\n', 'Many different experiences with discovering the meanings of them.\\n', 'I wish there was pineapple cream cheese.\\n', 'The boy never goes home.\\n', 'Is Bill planning on moving to New York?\\n', 'My friend goes out to a party.\\n', 'If I arrive to work late, my boss will fire me.\\n', 'Who is sick?\\n', \"Oh no, if there's a hurricane, the game is definitely cancelled.\\n\", 'If I went to a public school, I will not pay attention because of the lack of communication.\\n', 'If my friends play Frisbee, I will join and play.\\n', 'If I enjoy talking with those two, it means that I should enjoy talking with all of BU.\\n', 'My friend travels.\\n', 'My friends tend to surf the internet on their laptops.\\n', \"Friends haven't gone to the beach yet.\\n\", 'Who did you send the letter to?\\n', 'Jim threatened to sue the man who punched him.\\n', 'If my aunt makes a blueberry pie, I will run home to gobble all of it up!\\n', 'Where is the video phone that you want?\\n', 'I am not warm, I am cold!\\n', 'Will you go to the post office? Who will?\\n', \"My aunt isn't good at making apple pies.\\n\", 'Do your friend love surfing the internet on their laptop?\\n', 'When the teacher finishes cleaning the classroom, he locks the door.\\n', \"Why do you have to use the video phone? Can't you text?\\n\", 'I love movies. My favorite is comedy or horror movies.\\n', \"He/She doesn't want anything?\\n\", \"If we go out to eat, who's paying?\\n\", 'Who owns this big dog?\\n', 'Why did the bride and groom dance at their wedding?\\n', 'The teacher is sick of always cleaning the classroom.\\n', 'My friends are going out to a party together.\\n', \"That student who was on the quiz show didn't win.\\n\", \"Nope, I don't have a car.\\n\", 'I have to discuss how I should approach the teacher appropriately.\\n', \"No, that's not Sarah Jessica Parker, that was Sarah Palin, they're different.\\n\", 'I just finished reading a book and I noticed there was a page missing.\\n', 'Who will join the friends’ outing to the movie theater?\\n', 'If I see that the beach is crowded, I would not want to go.\\n', 'No, he’s not a vegetarian; he eats meat.\\n', 'I work.\\n', \"He/she doesn't want anything? I doubt that. I think he/she wants something.\\n\", 'My friend passed out last night because it was his birthday.\\n', 'When my friend calls me on the video phone, the lights flash on and off.\\n', 'No, it’s beautiful outside! The sun’s shining and it’s warm and beautiful!\\n', 'When do you finish work?\\n', 'When Bob starts the fire, we will collect logs to keep it going.\\n', 'Why don’t you like that video game?\\n', 'When it snows out a lot school closes right?\\n', 'Are Jen and Joe married?\\n', 'No, I just finished homework.\\n', 'Do you usually talk with Jessica and Donna? What? Why?\\n', \"Who is Liz's famous sister?\\n\", 'The DVD that Netflix sent me was all scratched up.\\n', 'Father is lazy so he refuses to mow the lawn.\\n', \"If the book wasn't boring, I would've read it.\\n\", 'Why did you drink hard and pass out last night?\\n', \"I don't have a car at all.\\n\", 'I work all night because I need the extra money.\\n', 'Friends go to a different movie because they prefer action movies.\\n', \"If my aunt makes a blue (starts signing 'pie') berry pie, I have to go over and eat it.\\n\", \"I'm serious, the car is broken. I tried the key but it isn't working.\\n\", 'No, we do have class next week.\\n', 'If friends go to the beach and suntan, I have to bring sunscreen or else I will burn.\\n', 'Oh no, my mom hates surprises.\\n', 'Who is joining the friends going to the movie theater?\\n', 'My friend likes to use the Internet because he uses Google Chrome and it is fast.\\n', 'The students refuse to listen to the teacher.\\n', 'There are a lot of key points to cover related to the audio vocal orientation concept.\\n', \"No, I'm not scared of heights. What makes you think that?\\n\", 'Who is asking for directions?\\n', 'My friend loves going fishing because he loves fresh fish for dinner.\\n', 'Where does your family tend to vacation every year?\\n', 'I start off warm and then later I get really hot.\\n', 'We will expand on the voice and control of sounds in connection with the experiences.\\n', 'If the horse plays all day on the farm, it will fall asleep easily at night.\\n', 'Who is sick?\\n', 'If my friend starts to play video games, he will continue until his eyes fall out!\\n', 'Does the friend reallhy want to buy the plaid shirt?\\n', 'The student who won the award will get a $100 voucher.\\n', 'Who loves to watch fireworks?\\n', 'The watch that my brother just found is real gold!\\n', \"If it rains tomorrow when I arrive at my uncle's house, I will stay inside.\\n\", 'Who was it that just bought a car?\\n', 'Is that videogame easy to beat?\\n', 'My friend caught a fish. I hurried and got a bucket and filled it with water to put the fish in to save the fish for dinner.\\n', 'Does Jack have money?\\n', 'When is the pizza party that friend is hosting?\\n', 'When I move to San Diego, I have to get a driver’s license.\\n', 'Where do you want the video phone?\\n', 'Who is going to the post office?\\n', 'The cat that my neighbor found was small and hungry.\\n', 'Which one of you found my keys?\\n', 'If the kids play at the park, they will be tired later in the afternoon.\\n', 'I moved to San Diego because of a new job offer.\\n', 'Do you want to get together for a BBQ party?\\n', 'If I decide not to swim in the water, I will walk on the shore.\\n', 'My friends are travelling together.\\n', 'Wow, that coat you just bought looks warm!\\n', 'I love riding in airplanes and flying different places.\\n', 'No, the movie starts at 10.\\n', 'What did Bob give to his girlfriend?\\n', 'My friend plays video games all day because he does nothing else.\\n', 'If OJ is innocent then my grandma can ride a bike.\\n', 'Good weather has not arrived in Boston… Hurry up!\\n', 'Which college did Mary go to?\\n', 'Who is cooking dinner?\\n', \"People from different cultures don't just speak different languages.\\n\", \"No, Mitt Romney is a Mormon, but Rick Perry isn't.\\n\", 'Why are the friends going to the beach?\\n', 'If my friend is sick of driving, we will switch and I will drive.\\n', 'My friend went to a different movie because he prefers action and horror movies.\\n', 'Did your friend drive?\\n', 'Where are the clothes on sale?\\n', 'Is the video game easy to beat?\\n', 'No, I did use the right key. The car is broken.\\n', \"No, it won't rain, but if it does the game will be cancelled for sure.\\n\", 'Who arrived late?\\n', 'Someone bought the car. Who was it?\\n', '“Don’t eat cookies with butter.” “Well, I like cookies, but if they have butter, I still don’t care.”\\n', 'Where do you work?\\n', \"American Airlines isn't that expensive, but if it was, then I'd be stuck because it's the only airline that flies between Boston and Florida.\\n\", 'Wow, that coat you just bought looks warm!\\n', 'Is the video phone clear?\\n', 'I don’t want to buy shorts.\\n', 'If clothes are on sale, my friends and I are definitely going to the mall.\\n', 'I don’t like asking for directions.\\n', 'The friends have not played Frisbee.\\n', \"No, I'm not happy.\\n\", 'How many children does Phil have?\\n', 'I watched a movie last night. I was really scared.\\n', 'However, more importantly, they also live in a different sensory world.\\n', \"If you're arriving late, it's fine. I just have to call the restauarnt and postpone the reservation.\\n\", 'Last Monday, I knew it would rain the next day.\\n', \"I'm not.\\n\", \"What? No, right now we're in an economic crisis.\\n\", 'The friends have not gone to the theater because of traffic.\\n', 'Where did Sue move to?\\n', 'In 1982, Edward Hall wrote about it, as he quoted.\\n', 'My friend prefers video phone over texting because he can use ASL.\\n', 'When Mary is not happy, no one is.\\n', \"I already know that there's pineapple cream cheese.\\n\", 'When we arrive in India, I have to send my family a postcard thanking them for support.\\n', \"John didn't see me.\\n\", 'Why do you work all night?\\n', 'Why do you hate video games?\\n', 'Who owns that big dog?\\n', 'I thought it was terribly boring.\\n', 'If you find my keys, please give them back to me.\\n', 'My sister hates water skiing because it is hard to balance.\\n', \"If father gets home late, (he/she) won't realize that he is not at home.\\n\", 'Who has to pay rent?\\n', 'When did you graduate high school?\\n', \"If it rains tomorrow when I arrive at my uncle's house, I will stay inside.\\n\", \"If it's snowing outside a lot, will school be cancelled?\\n\", 'Who will go to the post office?\\n', 'My friend is surfing the web.\\n', \"No, not pineapple cream cheese. Lox is better for me, that's it.\\n\", 'I tend to exercise after class.\\n', 'Why do you have to move to San Diego?\\n', \"No, Mitt Romney is a Mormon, but Rick Perry isn't.\\n\", 'Yesterday I worked all day.\\n', \"John didn't buy the turkey, James did.\\n\", 'If Bob is surprised at his surprise party, it is commendable because it is difficult to surprise Bob.\\n', \"If my mom says I can go to the concert, I'll be thrilled.\\n\", \"Age isn't important.\\n\", \"The teacher didn't make the reading required. It's uncertain whether or not John will read the book now.\\n\", \"No, I've never run a marathon before, and I don't plan to start now.\\n\", 'I asked my teacher for some advice and we had a discussion.\\n', \"Cool? No, McDonald's is a fast food resteraunt, they give out hamburgers.\\n\", \"Is it raining outside? No, because the temperature dropped, it's snowing.\\n\", 'The student would not obey the teacher.\\n', 'Who is paying rent?\\n', \"No, I'm going to Hawaii for spring break.\\n\", 'Who bought a car?\\n', 'My friends are going to watch a different movie because they wanted something different.\\n', \"I don't know if my sister likes Boston.\\n\", \"Bob hasn't gone to the post office.\\n\", \"You weren't passed out drunk, were you?\\n\", 'The driver of the car that rear-ended me at a red light was talking on the phone at the time.\\n', 'If my son is born tomorrow, he will be born in 2013.\\n', 'Who bought a car?\\n', 'I am not good at remembering the names of new people.\\n', 'The boy arrived home.\\n', 'What kind of car did he buy?\\n', 'My boss works in an office right above me.\\n', 'That baby doesn’t like fireworks; it’s crying.\\n', 'However, when the speech is used, they also use the gestures. It goes the same with sign language using the voice in their language.\\n', 'Why are friends going to the beach?\\n', 'If Jack has a wife, then he loves her.\\n', 'I guarantee that the parents will be mad if the children dye their hair orange.\\n', 'Last night, I played basketball with friends. It was a close game and we barely beat them, 30-28.\\n', 'Where are you going?\\n', \"I'm not going to move out to San Diego because I'm not even ready.\\n\", 'I have to buy shorts because it is hot outside.\\n', 'What did Bob give his girlfriend?\\n', 'My friend, if he has nothing to do, he will play video games all day.\\n', \"If my friends are going fishing, I will check the weather report to make sure it's okay.\\n\", 'What time did the friend crash the party?\\n', 'Someone found my keys, who was it?\\n', 'Last night, there was an accident and traffic was horrible.\\n', 'What kind of car did you buy yesterday?\\n', 'If I mow the lawn, Mother will give me twenty dollars.\\n', 'When I arrive school, I have to text my mother to tell her I’ve arrived safely.\\n', 'No, he lives in a small apartment in the city.\\n', 'I just drank it and it tastes fine.\\n', \"You're wrong, that is not pineapple cream cheese. I prefer lox.\\n\", \"No, I didn't go.\\n\", 'Who is sick?\\n', 'What time is water tubing?\\n', 'Where do you plan to travel?\\n', \"The bride and groom didn't dance.\\n\", 'The driver of the car that rear-ended me at a red light was talking on the phone at the time.\\n', \"No, it won't rain, but if it does the game will be cancelled for sure.\\n\", 'My worst enemy is my alarm clock.\\n', 'No, I just came back from dinner. They had ice cream.\\n', \"It's not raining outside. Oh,wait a minute.\\n\", \"We can't give out peanut butter, Beth is deathly allergic to peanuts,\\n\", 'Did you graduate high school?\\n', \"Was my friends' party good?\\n\", 'Why did you pass out last night?\\n', 'Pete loves computers; he has three set up one next to the other at home!\\n', \"Oh no, if there's a hurricane, the game is definitely cancelled.\\n\", \"I like it, if it has butter, I'm fine with that.\\n\", 'If Mother goes to the store, she will buy milk.\\n', 'Where is the grocery store?\\n', 'Who commutes to work by bike?\\n', \"You look like you don't feel good. Are you okay - what's wrong?\\n\", 'Will Bill move to New York?\\n', 'Who listens to the teacher?\\n', 'When I meet new people I’m lousy at memorizing their names.\\n', 'Who owns that big dog?\\n', 'I am very unhappy.\\n', \"Cool? No, McDonald's is a fast food resteraunt, they give out hamburgers.\\n\", \"John didn't buy the turkey.\\n\", 'I really do have pineapple cream cheese.\\n', \"Mary stopped rowing. She's not going to do it any more.\\n\", 'Go home!\\n', 'Honestly, I don’t like commuting to work by bicycle.\\n', \"Bob hasn't given the rose to his girlfriend.\\n\", \"No, I don't have a car.\\n\", 'When do you graduate?\\n', 'My friend is driving.\\n', 'The teacher gave out the answers to the test.\\n', 'If my friends go camping, I will go with them.\\n', 'Is the video phone clear?\\n', 'No, it’s beautiful outside! The sun’s shining and it’s warm and beautiful!\\n', 'Where did you put the tree?\\n', 'Would the game finish before six?\\n', 'The bride and groom didn’t dance the last dance at the wedding.\\n', 'If Bob studies for his literature test, he will pass it for sure.\\n', 'I love you because you are so good at making people laugh.\\n', 'I haven’t yet paid rent.\\n', 'What is Bob reading?\\n', \"My friend doesn't want to buy a plaid shirt.\\n\", 'Did I say John? Oh, I made that up. I meant James.\\n', 'Who is asking for directions?\\n', 'When are the friends going fishing?\\n', 'Who is that person?\\n', 'Who listened to the teacher?\\n', 'When I arrive at school, I let my mom know that I have arrived at school safely.\\n', \"Friends didn't want a pizza night because they always have a pizza night.\\n\", \"Friends haven't started playing Frisbee.\\n\", \"What? No, right now we're in an economic crisis.\\n\", \"I don't want anything.\\n\", 'Who went out when it was raining?\\n', 'My friend loves the Internet because there are many different websites.\\n', \"If I commute to work by bike, then I'll have to wake up earlier.\\n\", 'Why does your friend love travelling?\\n', 'Bob does not have a big dog; he has a small one.\\n', \"No, I don't have a car.\\n\", 'The box is small.\\n', \"It hasn't rained recently.\\n\", 'What time did the teacher start cleaning?\\n', 'I noticed my sister acting strange.\\n', 'When does the bad weather start in Boston?\\n', 'I got a D in the class; I accepted it.\\n', 'Last night, my friend passed out because he drank too much.\\n', 'Bob hasn’t given his girlfriend roses yet.\\n', \"It doesn't matter if it rains or not, I will still go ahead and go swimming.\\n\", 'My friend loves traveling all over. His favorite place is Asia because their food is delicious.\\n', 'The article you wrote for the Boston Globe was good.\\n', 'Do you have to work all night?\\n', \"He/she will go to school if it's not canceled.\\n\", 'I enjoyed talking with Jessica and Donna because I enjoy talking in ASL.\\n', \"I don't know if my sister likes Boston.\\n\", 'When is the pizza party that my friend is hosting?\\n', 'Last break, I completed all of my homework ahead of time.\\n', \"I'm almost finished with my homework.\\n\", 'The box is really big.\\n', \"No, I've never run a marathon before, and I don't plan to start now.\\n\", \"If I have to pay rent now, that is fine, I'll just cancel my vacation.\\n\", \"Back in high school, my mom would wake me up every morning because I didn't feel the alarm and slept through it.\\n\", 'If Bob adopts a big dog, he has to accept that he will spend lots of money on the dog.\\n', 'When my friend is tired of driving, we will switch.\\n', 'If your friend passes out, I won’t take care of him.\\n', 'Where did Sue move?\\n', 'Why is Jack nauseated?\\n', 'Who owns this big dog?\\n', 'If I buy the shorts, I will have to return the shoes.\\n', \"I'm not happy, I'm sad.\\n\", 'Someone found my keys, who was it?\\n', 'And how they coped and navigated through the world and the feedbacks they received from others.\\n', 'Who tends to commute to work by bicycle?\\n', \"I'm not skilled.\\n\", 'Who wants to play Frisbee?\\n', 'My aunt isn’t an expert at making apple pies.\\n', \"There's no book on the table.\\n\", 'I enjoy talking with Donna and Jessica, but I also enjoy talking with everyone else.\\n', 'If Bob goes to the post office, I will give him my letters to drop off.\\n', 'When my friend goes out fishing, the fish has to go in the bucket immediately so it will be fresh.\\n', 'If Mary is not happy, no one is.\\n', 'If Obama picks a Republican, he will be sorry.\\n', 'Does Jack have money?\\n', 'Did Jack see something weird while he was waiting outside?\\n', \"If there's no time tomorrow, you can wash the car on Monday.\\n\", 'Who found my keys?\\n', \"Who's driving?\\n\", 'My friend drives.\\n', \"The clothes aren't on sale.\\n\", 'Mac beats PC because Mac is good at suiting people’s needs.\\n', 'Who will go to the post office?\\n', 'They assigned me many tasks.\\n', \"I didn't enjoy talking with those two.\\n\", \"You didn't pass out?\\n\", 'My friend is currently planning a surprise event.\\n', 'The man who broke into a house in Newton is probably the same person who broke into a house in Brookline,\\n', \"If the box hasn't arrived yet you need to contact Fedex.\\n\", 'My friend goes out fishing.\\n', 'My friends realized they didn’t want a pizza party because it has been the norm.\\n', \"That student who was on the quiz show didn't win.\\n\", \"I won't be thrilled if there's pineapple cream cheese.\\n\", 'Which high school did you go to?\\n', \"If I wasn't so afraid, I would've gone white water rafting.\\n\", 'The second part of this article is titled Sensory Orientation.\\n', 'Who fell in love with Bill?\\n', \"If John isn't here, does anyone know where he went?\\n\", 'Do you really need to video phone? Why not page?\\n', \"When I move out of San Diego, I will have to get a new driver's license.\\n\", 'Which famous actor is Liz related to?\\n', 'Are Jen and Joe married?\\n', \"If my sister neglects her homework, she won't succeed in school.\\n\", 'Last night, I was drunk; everyone was cheering me on.\\n', \"No, he/she didn't stop.\\n\", 'One time, I missed my morning class because I accidentally over slept.\\n', 'Which college does Mary go to?\\n', 'My friends are playing video games.\\n', 'If my friend goes out to a party, I will join them for sure.\\n', 'When my friends leave, I will finally start on my homework.\\n', 'You are wrong. No, I prefer lox, I don’t like pineapple cream cheese.\\n', \"What's your job?\\n\", 'Did Jack see something weird while he was waiting outside?\\n', \"American Airlines isn't that expensive, but if it was, then I'd be stuck because it's the only airline that flies between Boston and Florida.\\n\", 'If the horses play all day on the farm, by nighttime they will be exhausted.\\n', \"The box isn't small it's large.\\n\", 'Who is he/she?\\n', 'Why is dad upset? I have no idea...\\n', 'Why is your friend addicted to the Internet?\\n', \"No, I'm not scared of heights. What makes you think that?\\n\", 'If your friend crashes my party, I will kick him out.\\n', 'Why does the friend look fucked up?\\n', \"They will start to have the understanding by learning through experiences. We often use the Deaf people's experience through narratives to discuss the understanding of the American culture.\\n\", \"I'm not tired.\\n\", 'If I buy shorts, I would have to return my shoes.\\n', 'Each student that received an award is here watching.\\n', 'The man who broke into a house in Newton is probably the same person who broke into a house in Brookline,\\n', \"If it's quiet in here it probably means that there are children upstairs sleeping.\\n\", 'Where is your friend driving to?\\n', 'Who loves watching fireworks?\\n', 'If my friends do not want to go out, I will stay home and watch television.\\n', \"My sister doesn't want a headband for her birthday.\\n\", 'If Mary gets home late, John will probably be upset.\\n', 'Who wants to play frisbee?\\n', 'My sister wants a headband for her birthday because she has long hair.\\n', \"The teacher is sick of cleaning the classroom, so he didn't clean the room.\\n\", 'I arrived at school late because I got into a bicycle accident.\\n', 'The first one is the voice and the second one is the control of sounds.\\n', 'Will Bob be surprised by the surprise event?\\n', 'Who loves to watch fireworks?\\n', 'When I introduce a new friend, I will test and make sure he remembers the names.\\n', 'What kind of party is it?\\n', \"No, no one has found the umbrella, it's still missing.\\n\", \"The teacher didn't make the reading required so John didn't read.\\n\", 'Mother looks sick? How?\\n', 'My friend loves travelling, especially in Asian countries because there’s more of a variety of things to do, compared to other countries.\\n', \"If it's snowing out, then school is cancelled.\\n\", 'If my friend is driving, I sleep in the back seat.\\n', \"When my boss calls me, everyone looks at me and they know I'm in trouble.\\n\", 'If my friend hosts a pizza party, I will bring a supreme sized pizza.\\n', 'If my sister gets a headband for her birthday, she will definitely decorate it with glitter.\\n', \"I'm always serious in school.\\n\", 'Pete loves computers; he has three set up one next to the other at home!\\n', 'When Jack went out, did he see something strange?\\n', 'If my friend goes out fishing, I have to monitor the weather to make sure it’s fine for fishing.\\n', 'Last night I did a lot of homework.\\n', 'My friend is calling home on the video phone.\\n', 'If he actually liked his food, we would have cleaned his plate. He did not, so something is wrong.\\n', 'Once my friend starts playing video games, he is hooked to it all night until his eyes pop out.\\n', 'If Bob gives his girlfriend roses, she will be happy.\\n', \"John didn't break the window, Sally did.\\n\", \"People aren't using records anymore because they have iPods now.\\n\", \"The testimonies as well. It's becoming to be like a bricolage, but we collect and organize the deaf experiences instead.\\n\", 'If my friends are going to the party, I will join.\\n', 'When Bob arrives at the party, everyone has to spray him with silly string and tease him.\\n', 'Have Jack and Sue met?\\n', 'During the winter, I tend to get sick a lot because I tend to wear flip flops.\\n', 'No, I just finished homework.\\n', \"I decided not to invite Mary because she wouldn't get along with people.\\n\", 'If the baseball game has fireworks, I have to go.\\n', 'If my friend goes out to a party, my roommate and I will join.\\n', \"My sister hates water skiing because it's hard to balance.\\n\", \"John didn't break the window, James did.\\n\", 'When does the party start?\\n', 'I know that I should enter the haunted house at my own risk.\\n', \"We can't give out peanut butter, Beth is deathly allergic to peanuts,\\n\", \"There's not many animals here in Boston.\\n\", \"No, no one has found the umbrella, it's still missing.\\n\", 'If friends play frisbee, I will  join them.\\n', \"If you don't want pizza, you can order pasta.\\n\", 'When my friend is surfing the Internet, I remind him about his unfinished homework.\\n', 'If mother is sick, I have to take care of her.\\n', 'No, he lives in a small apartment in the city.\\n', 'When did your friend start driving?\\n', 'How many kids does Phil have?\\n', 'Who is asking for directions?\\n', 'Now as we move on to the next topic we will talk specifically about the audio vocal orientation.\\n', 'Who bought the car?\\n', 'If he/she leaves, would you mind closing door/gate?\\n', 'No, the movie starts at 10.\\n', \"When my father starts to play video games, I go upstairs because it's boring to watch him play.\\n\", 'If Mother cleans the kitchen, it means we can’t bake cookies.\\n', 'The watch that my brother just found is real gold!\\n']\n"
          ]
        }
      ]
    }
  ]
}